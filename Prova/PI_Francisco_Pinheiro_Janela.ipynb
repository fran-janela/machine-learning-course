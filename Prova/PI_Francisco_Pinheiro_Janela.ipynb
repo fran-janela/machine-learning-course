{
 "cells": [
  {
   "cell_type": "markdown",
   "id": "899246d2",
   "metadata": {},
   "source": [
    "## Machine Learning - Prova\n",
    "\n",
    "**Nome do aluno**: <font color='blue'>Francisco Pinheiro Janela</font>\n",
    "\n",
    "Esta prova consiste em uma parte conceitual e uma parte prática.\n",
    "\n",
    "Você deve submeter o trabalho via Blackboard. É de sua responsabilidade garantir que o arquivo correto foi enviado.\n",
    "\n",
    "Se você precisou adicionar arquivos extras à essa prova, assegure-se de que você os está enviando também.\n",
    "\n",
    "A prova é individual e com consulta. Faça o seu trabalho de maneira ética!"
   ]
  },
  {
   "cell_type": "markdown",
   "id": "8cc498c4",
   "metadata": {},
   "source": [
    "---\n",
    "## Parte conceitual (4 pts)"
   ]
  },
  {
   "cell_type": "markdown",
   "id": "8e222c4b",
   "metadata": {},
   "source": [
    "Vemos abaixo uma seleção de tópicos em Machine Learning e uma seleção de interlocutores. Escolha 2 tópicos, 2 interlocutores, e a associação 1-para-1 entre tópicos e interlocutores. Explique os tópicos escolhidos para os interlocutores correspondentes.\n",
    "\n",
    "Interlocutores:\n",
    "\n",
    "- O Marcos Lisboa\n",
    "    - Economista, conhece muito bem estatística, interessado pelos problemas economicos do Brasil.\n",
    "- Um aluno de colegial prestes a se formar\n",
    "    - Tem alguma noção de matemática, geometria, estatística, mas muito simples.\n",
    "- Um entrevistador de emprego de uma empresa renomada (e.g. FAANG)\n",
    "    - É um engenheiro experiente, e sabe bem os conceitos todos, mas quer saber se você sabe explicar de modo coerente, enxuto e completo. Sem encher linguiça.\n",
    "- Um professor de Matemática da Variação\n",
    "    - Domina cálculo multivariado, estatística, programação. Quer conhecer mais a fundo o assunto que você vai explicar, e a conexão com a disciplina dele.\n",
    "- Um professor de GDE\n",
    "    - Entende matemática e estatística de colegial e um pouco de Cálculo. Interessado em problemas da sociedade.\n",
    "- Um médico oncologista\n",
    "    - Conhece estatística surpreendemente bem, interessado em problemas de Medicina.\n",
    "\n",
    "    \n",
    "Tópicos:\n",
    "\n",
    "- Árvore de decisão\n",
    "- Machine Learning e sociedade\n",
    "- Regressão linear\n",
    "- Validação cruzada para ajuste de hiperparâmetros\n",
    "- Support vector machines\n",
    "- Curva ROC\n",
    "- Gradient descent\n",
    "- Sub-ajuste (underfitting) e sobreajuste (overfitting)\n",
    "- Precision versus recall\n",
    "- Seleção de variáveis com Lasso\n",
    "\n",
    "Use gráficos, tabelas, formulas, código, o que você quiser para auxiliar na sua explicação. Use quantas células quiser do notebook. Se precisar adicionar um diagrama ilustrativo, pode usar o https://www.draw.io/. Exporte seu desenho para PNG e inclua no notebook com o código-exemplo desta célula:\n",
    "\n",
    "![exemplo](exemplo.png \"Exemplo de diagrama PNG\")\n",
    "\n",
    "Neste caso, <font color='red'>não se esqueça de submeter também seu arquivo de imagem!</font>\n",
    "\n",
    "Rubrica de avaliação por par conceito-interlocutor:\n",
    "\n",
    "\n",
    "| Conceito | Nota | Definição |\n",
    "|----------|------|-----------|\n",
    "| I        | 0.0  | Não fez, ou escreveu coisas sem sentido. |\n",
    "| D        | 0.5  | Usou termos técnicos e matemática não disponível ao interlocutor. Faltam partes fundamentais do conceito. Não construiu uma narrativa de interesse ao interlocutor. |\n",
    "| C        | 1.0  | Construiu uma explicação correta da mecânica do conceito, sem uma intuição de por que funciona. Faltam ideias importantes, mas não essenciais do conceito. Não construiu uma narrativa de interesse ao interlocutor. |\n",
    "| B        | 1.5  | Construiu uma explicação da mecânica e da intuição por trás do modelo. Faltam ideias importantes, mas não essenciais do conceito, ou tem excesso de ideias não tão centrais à explicação (vulgo “encheu linguiça”). |\n",
    "| A        | 2.0  | Construiu uma explicação bem completa e enxuta da mecânica e da intuição por trás do conceito. Trouxe uma narrativa que interesse ao interlocutor. |"
   ]
  },
  {
   "cell_type": "markdown",
   "id": "9cbf8680",
   "metadata": {},
   "source": [
    "### Respostas"
   ]
  },
  {
   "cell_type": "markdown",
   "id": "c5e0a291",
   "metadata": {},
   "source": [
    "---\n",
    "Tópico: <font color=blue>Machine Learning e Sociedade</font>\n",
    "\n",
    "Interlocutor: <font color=blue>Marcos Lisboa</font>\n",
    "\n",
    "Resposta:\n",
    "\n",
    "Para entendermos como Machine Learning está inserido na sociedade, primeiramente precisamos entender o que é Machine Learning, ou Aprendizado de Máquina. Esta tecnologia é um processo que permite a computadores identificarem padrões, aprenderem por meio de resultados e criar previsões em cima de dados, por meio de modelos matemáticos e estatísticos. Sendo assim, esta tecnologia nos permite analisar entradas de informação e realizar ajustes preditivos sem que tais sistemas ou máquinas sejam especificamente programados para eles. Em sua maioria, os modelos utilizados para essa aprendizagem são customizados e específicos para um tipo de aplicação, mas pode ser reconfigurado para atender uma imensa gama de necessidades. \n",
    "\n",
    "Temos como exemplo a utilização desse sistema para o mercado financeiro na predição de resultados de um fundo de interesse, podendo até torná-lo inteligente a ponto de tomar decisões baseadas na entrada de dados ao sistema. Um exemplo interessantíssimo dessa possibilidade é o fundo **Zarathustra** da gestora Giant Steps, brasileira, que foi um dos únicos que não sofreu queda durante a pandemia, uma vez que modelos nele aplicado foram capazes de prever o evento e realizar investimentos acertivos. Como prova temos o gráfico abaixo, que compara o resultado desse fundo com o CDI:\n",
    "\n",
    "![resultado_zarathustra](resultado_zarathustra.png \"Resultado do fundo da Giant Steps\")\n",
    "\n",
    "Isto foi um caso isolado para uma aplicação específica, mas Machine Learning vem crescendo dentro de diversos setores por ser capaz de tomar decisões mais rápidas e eficazes do que o ser humano, algo que está se tornando cada vez mais uma necessidade em meio a uma sociedade que produz informação em velocidades estonteantes. Em meio ao cenário econômico, outras aplicações, levando em conta, especialmente, com o avanço do acesso à tecnologia e informação, Machine Learning pode ser utilizado para identificar transações fraudulentas, verificar possibilidade de liberação de crédito, previsões econômicas que aprendam com irregularidades ou encontrar inconsistências fiscais nas mais diversas áreas e setores.\n",
    "\n",
    "Infelizmente não é um processo totalmente eficaz em circunstâncias com vieses que danificam a qualidade da informação, tornando a decisão ou a previsão inválida. Se, por exemplo, dados de transações e cálculos de Valor de empresas e empréstimos forem mal calculados ou inseridos de forma maliciosa poderia ocorrer uma propagação de erro embasado no viés que traria de volta o déficit e a depressão de 2008 para o contexto atual, e ainda mais rápido e não perceptível, devido a velocidade desse processamento e tomada de decisão. Assim, o cenário e os erros que podem ocorrer devem ser levados em consderação, para que não ocorram danos sérios e irreparáveis ao sistema e à sociedade."
   ]
  },
  {
   "cell_type": "markdown",
   "id": "94a4ca45",
   "metadata": {},
   "source": [
    "---\n",
    "Tópico: <font color=blue>Validação cruzada para ajuste de hiperparâmetros</font>\n",
    "\n",
    "Interlocutor: <font color=blue>Um entrevistador de emprego de uma empresa renomada </font>\n",
    "\n",
    "Resposta:\n",
    "\n",
    "A Validação Cruzada vai garantir que a acurácia não foi enviesada, gerando o *overfiting* do modelo, uma vez que pela repartição dos dados de treino, garantimos permutação do treino e teste de resultado. Assim, utilizando esse benefício de teste de acurácia, podemos fazer a variação dos hiperparâmetros garantindo que a melhora desta não foi, também, um aumento do grau de *overfiting* do modelo, e, assim, nos permite ter maior certeza e qualidade no ajuste deles. Além disso, o resultado pode ser utilizado como escolha para um modelo automático de ajuste de hiperparametros, que, quando aplicado a uma Base de Dados enorme como a desta empresa, por exemplo, é necessária a automatização."
   ]
  },
  {
   "cell_type": "markdown",
   "id": "29605f34",
   "metadata": {},
   "source": [
    "---\n",
    "## Parte prática (6 pts)\n",
    "\n"
   ]
  },
  {
   "cell_type": "markdown",
   "id": "fb54a31b",
   "metadata": {},
   "source": [
    "O arquivo `zoo.csv` contém informações sobre animais, conforme descrito abaixo:"
   ]
  },
  {
   "cell_type": "raw",
   "id": "a6c872a5",
   "metadata": {},
   "source": [
    "1. Title: Zoo database\n",
    "\n",
    "2. Source Information\n",
    "   -- Creator: Richard Forsyth\n",
    "   -- Donor: Richard S. Forsyth \n",
    "             8 Grosvenor Avenue\n",
    "             Mapperley Park\n",
    "             Nottingham NG3 5DX\n",
    "             0602-621676\n",
    "   -- Date: 5/15/1990\n",
    " \n",
    "3. Past Usage:\n",
    "   -- None known other than what is shown in Forsyth's PC/BEAGLE User's Guide.\n",
    "\n",
    "4. Relevant Information:\n",
    "   -- A simple database containing 17 Boolean-valued attributes.  The \"type\"\n",
    "      attribute appears to be the class attribute.  Here is a breakdown of\n",
    "      which animals are in which type: (I find it unusual that there are\n",
    "      2 instances of \"frog\" and one of \"girl\"!)\n",
    "\n",
    "      Class# Set of animals:\n",
    "      ====== ===============================================================\n",
    "           1 (41) aardvark, antelope, bear, boar, buffalo, calf,\n",
    "                  cavy, cheetah, deer, dolphin, elephant,\n",
    "                  fruitbat, giraffe, girl, goat, gorilla, hamster,\n",
    "                  hare, leopard, lion, lynx, mink, mole, mongoose,\n",
    "                  opossum, oryx, platypus, polecat, pony,\n",
    "                  porpoise, puma, pussycat, raccoon, reindeer,\n",
    "                  seal, sealion, squirrel, vampire, vole, wallaby,wolf\n",
    "           2 (20) chicken, crow, dove, duck, flamingo, gull, hawk,\n",
    "                  kiwi, lark, ostrich, parakeet, penguin, pheasant,\n",
    "                  rhea, skimmer, skua, sparrow, swan, vulture, wren\n",
    "           3 (5)  pitviper, seasnake, slowworm, tortoise, tuatara \n",
    "           4 (13) bass, carp, catfish, chub, dogfish, haddock,\n",
    "                  herring, pike, piranha, seahorse, sole, stingray, tuna\n",
    "           5 (4)  frog, frog, newt, toad \n",
    "           6 (8)  flea, gnat, honeybee, housefly, ladybird, moth, termite, wasp\n",
    "           7 (10) clam, crab, crayfish, lobster, octopus,\n",
    "                  scorpion, seawasp, slug, starfish, worm\n",
    "\n",
    "5. Number of Instances: 101\n",
    "\n",
    "6. Number of Attributes: 18 (animal name, 15 Boolean attributes, 2 numerics)\n",
    "\n",
    "7. Attribute Information: (name of attribute and type of value domain)\n",
    "   1. animal name       Unique for each instance\n",
    "   2. hair\t\t        Boolean\n",
    "   3. feathers\t\t    Boolean\n",
    "   4. eggs\t\t        Boolean\n",
    "   5. milk\t\t        Boolean\n",
    "   6. airborne\t\t    Boolean\n",
    "   7. aquatic\t\t    Boolean\n",
    "   8. predator\t\t    Boolean\n",
    "   9. toothed\t\t    Boolean\n",
    "  10. backbone\t\t    Boolean\n",
    "  11. breathes\t\t    Boolean\n",
    "  12. venomous\t\t    Boolean\n",
    "  13. fins\t\t        Boolean\n",
    "  14. legs\t\t        Numeric (set of values: {0,2,4,5,6,8})\n",
    "  15. tail\t\t        Boolean\n",
    "  16. domestic\t    \tBoolean\n",
    "  17. catsize\t\t    Boolean\n",
    "  18. type\t\t        Numeric (integer values in range [1,7])\n",
    "\n",
    "8. Missing Attribute Values: Some values are missing!\n",
    "\n",
    "9. Class Distribution: Given above"
   ]
  },
  {
   "cell_type": "markdown",
   "id": "9bdcf34d",
   "metadata": {},
   "source": [
    "Sua tarefa é construir um modelo que prevê o tipo de animal (coluna `type`) baseado nos demais atributos, e com base nesse modelo determinar a ordem de relevancia dos atributos para identificar o tipo de animal.\n",
    "\n",
    "Tendo identificado a ordem de relevancia dos atributos, determine o conjunto minimo de atributos mais relevantes que permita que o modelo tenha um desempenho de $90\\%$ ou mais do desempenho obtido com o conjunto completo de atributos. Por exemplo, se a acurácia do modelo com o conjunto completo de atributos foi de $95\\%$, determine o conjunto mínimo de atributos que atinja $0.9 \\times 0.95 = 0.855 = 85.5\\%$ de acurácia."
   ]
  },
  {
   "cell_type": "markdown",
   "id": "5d9914ac",
   "metadata": {},
   "source": [
    "Rubrica de avaliação:\n",
    "\n",
    "I - Código não roda, ou roda mas é nonsense, e não tem análises que façam sentido.\n",
    "\n",
    "D - A análise não está completa, ou o código está bagunçado, mas pelo menos não é nonsense.\n",
    "\n",
    "C - Conseguiu fazer o modelo preditivo com o preprocessamento adequado\n",
    "\n",
    "B - Conseguiu determinar a importancia das features e determinar o conjunto minimo pedido\n",
    "\n",
    "A - Construiu um preprocessamento sofisticado - explorou a documentação do scikit-learn para encontrar alternativas aos métodos simples descritos em aula. Escolheu features que fazem sentido para o modelo inicial. Obteve conclusões fundamentadas em experimentação."
   ]
  },
  {
   "cell_type": "markdown",
   "id": "df076a7f",
   "metadata": {},
   "source": [
    "### Importando bibliotecas"
   ]
  },
  {
   "cell_type": "code",
   "execution_count": 1,
   "id": "4b5f589b",
   "metadata": {},
   "outputs": [],
   "source": [
    "%matplotlib inline\n",
    "from pprint import pprint\n",
    "\n",
    "import pandas as pd\n",
    "\n",
    "import matplotlib.pyplot as plt\n",
    "import numpy as np"
   ]
  },
  {
   "cell_type": "markdown",
   "id": "504877e3",
   "metadata": {},
   "source": [
    "### Seed\n",
    "\n",
    "Definindo a *Seed* para garantir replicação da análise e aplicação"
   ]
  },
  {
   "cell_type": "code",
   "execution_count": 2,
   "id": "7b8305dc",
   "metadata": {},
   "outputs": [],
   "source": [
    "RAND_SEED = 42\n",
    "\n",
    "np.random.seed(RAND_SEED)"
   ]
  },
  {
   "cell_type": "markdown",
   "id": "cd7441d8",
   "metadata": {},
   "source": [
    "### Carregando a Base de Dados"
   ]
  },
  {
   "cell_type": "code",
   "execution_count": 3,
   "id": "6fcae0a1",
   "metadata": {},
   "outputs": [],
   "source": [
    "df = pd.read_csv(\"zoo.csv\")"
   ]
  },
  {
   "cell_type": "markdown",
   "id": "b59808fe",
   "metadata": {},
   "source": [
    "## Análise Exploratória e Limpeza da Base\n",
    "\n",
    "### Análise Exploratória das informações\n",
    "\n",
    "Neste bloco vou apresentar a minha análise em relação aos dados para a tomada de decisões sobre o modelo mais para a frente, especialmente na limpeza que ainda será aplicada."
   ]
  },
  {
   "cell_type": "code",
   "execution_count": 4,
   "id": "116b4267",
   "metadata": {},
   "outputs": [
    {
     "name": "stdout",
     "output_type": "stream",
     "text": [
      "<class 'pandas.core.frame.DataFrame'>\n",
      "RangeIndex: 101 entries, 0 to 100\n",
      "Data columns (total 18 columns):\n",
      " #   Column    Non-Null Count  Dtype  \n",
      "---  ------    --------------  -----  \n",
      " 0   animal    101 non-null    object \n",
      " 1   hair      93 non-null     float64\n",
      " 2   feathers  92 non-null     float64\n",
      " 3   eggs      90 non-null     float64\n",
      " 4   milk      83 non-null     float64\n",
      " 5   airborne  94 non-null     float64\n",
      " 6   aquatic   94 non-null     float64\n",
      " 7   predator  88 non-null     float64\n",
      " 8   toothed   88 non-null     float64\n",
      " 9   backbone  91 non-null     float64\n",
      " 10  breathes  91 non-null     float64\n",
      " 11  venomous  93 non-null     float64\n",
      " 12  fins      95 non-null     float64\n",
      " 13  legs      101 non-null    int64  \n",
      " 14  tail      84 non-null     float64\n",
      " 15  domestic  95 non-null     float64\n",
      " 16  catsize   90 non-null     float64\n",
      " 17  type      101 non-null    int64  \n",
      "dtypes: float64(15), int64(2), object(1)\n",
      "memory usage: 14.3+ KB\n"
     ]
    }
   ],
   "source": [
    "df.info()"
   ]
  },
  {
   "cell_type": "code",
   "execution_count": 5,
   "id": "2b93185f",
   "metadata": {},
   "outputs": [
    {
     "data": {
      "text/plain": [
       "1    9\n",
       "4    4\n",
       "2    4\n",
       "5    1\n",
       "6    1\n",
       "7    1\n",
       "3    1\n",
       "Name: type, dtype: int64"
      ]
     },
     "execution_count": 5,
     "metadata": {},
     "output_type": "execute_result"
    }
   ],
   "source": [
    "df_DROPNA = df.dropna()\n",
    "df_DROPNA[\"type\"].value_counts()"
   ]
  },
  {
   "cell_type": "markdown",
   "id": "6f3135af",
   "metadata": {},
   "source": [
    "Primeiramente, analisei as informações em cima do DataFrame e percebi a presença de alguns valores nulos em todas as colunas, mas que não podem simplesmente ser retirados, pois, com base no teste feito na célula acima, a maioria da informação foi perdida."
   ]
  },
  {
   "cell_type": "code",
   "execution_count": 6,
   "id": "c1906426",
   "metadata": {},
   "outputs": [
    {
     "data": {
      "text/html": [
       "<div>\n",
       "<style scoped>\n",
       "    .dataframe tbody tr th:only-of-type {\n",
       "        vertical-align: middle;\n",
       "    }\n",
       "\n",
       "    .dataframe tbody tr th {\n",
       "        vertical-align: top;\n",
       "    }\n",
       "\n",
       "    .dataframe thead th {\n",
       "        text-align: right;\n",
       "    }\n",
       "</style>\n",
       "<table border=\"1\" class=\"dataframe\">\n",
       "  <thead>\n",
       "    <tr style=\"text-align: right;\">\n",
       "      <th></th>\n",
       "      <th>animal</th>\n",
       "      <th>hair</th>\n",
       "      <th>feathers</th>\n",
       "      <th>eggs</th>\n",
       "      <th>milk</th>\n",
       "      <th>airborne</th>\n",
       "      <th>aquatic</th>\n",
       "      <th>predator</th>\n",
       "      <th>toothed</th>\n",
       "      <th>backbone</th>\n",
       "      <th>breathes</th>\n",
       "      <th>venomous</th>\n",
       "      <th>fins</th>\n",
       "      <th>legs</th>\n",
       "      <th>tail</th>\n",
       "      <th>domestic</th>\n",
       "      <th>catsize</th>\n",
       "      <th>type</th>\n",
       "    </tr>\n",
       "  </thead>\n",
       "  <tbody>\n",
       "    <tr>\n",
       "      <th>0</th>\n",
       "      <td>aardvark</td>\n",
       "      <td>1.0</td>\n",
       "      <td>0.0</td>\n",
       "      <td>0.0</td>\n",
       "      <td>1.0</td>\n",
       "      <td>0.0</td>\n",
       "      <td>0.0</td>\n",
       "      <td>NaN</td>\n",
       "      <td>1.0</td>\n",
       "      <td>1.0</td>\n",
       "      <td>1.0</td>\n",
       "      <td>0.0</td>\n",
       "      <td>0.0</td>\n",
       "      <td>4</td>\n",
       "      <td>NaN</td>\n",
       "      <td>0.0</td>\n",
       "      <td>1.0</td>\n",
       "      <td>1</td>\n",
       "    </tr>\n",
       "    <tr>\n",
       "      <th>1</th>\n",
       "      <td>antelope</td>\n",
       "      <td>1.0</td>\n",
       "      <td>0.0</td>\n",
       "      <td>0.0</td>\n",
       "      <td>1.0</td>\n",
       "      <td>0.0</td>\n",
       "      <td>NaN</td>\n",
       "      <td>0.0</td>\n",
       "      <td>1.0</td>\n",
       "      <td>NaN</td>\n",
       "      <td>1.0</td>\n",
       "      <td>0.0</td>\n",
       "      <td>0.0</td>\n",
       "      <td>4</td>\n",
       "      <td>1.0</td>\n",
       "      <td>0.0</td>\n",
       "      <td>1.0</td>\n",
       "      <td>1</td>\n",
       "    </tr>\n",
       "    <tr>\n",
       "      <th>2</th>\n",
       "      <td>bass</td>\n",
       "      <td>0.0</td>\n",
       "      <td>0.0</td>\n",
       "      <td>1.0</td>\n",
       "      <td>0.0</td>\n",
       "      <td>0.0</td>\n",
       "      <td>1.0</td>\n",
       "      <td>1.0</td>\n",
       "      <td>1.0</td>\n",
       "      <td>1.0</td>\n",
       "      <td>0.0</td>\n",
       "      <td>0.0</td>\n",
       "      <td>1.0</td>\n",
       "      <td>0</td>\n",
       "      <td>1.0</td>\n",
       "      <td>0.0</td>\n",
       "      <td>0.0</td>\n",
       "      <td>4</td>\n",
       "    </tr>\n",
       "    <tr>\n",
       "      <th>3</th>\n",
       "      <td>bear</td>\n",
       "      <td>NaN</td>\n",
       "      <td>0.0</td>\n",
       "      <td>NaN</td>\n",
       "      <td>1.0</td>\n",
       "      <td>0.0</td>\n",
       "      <td>0.0</td>\n",
       "      <td>1.0</td>\n",
       "      <td>1.0</td>\n",
       "      <td>1.0</td>\n",
       "      <td>1.0</td>\n",
       "      <td>0.0</td>\n",
       "      <td>0.0</td>\n",
       "      <td>4</td>\n",
       "      <td>0.0</td>\n",
       "      <td>0.0</td>\n",
       "      <td>1.0</td>\n",
       "      <td>1</td>\n",
       "    </tr>\n",
       "    <tr>\n",
       "      <th>4</th>\n",
       "      <td>boar</td>\n",
       "      <td>1.0</td>\n",
       "      <td>NaN</td>\n",
       "      <td>0.0</td>\n",
       "      <td>1.0</td>\n",
       "      <td>0.0</td>\n",
       "      <td>0.0</td>\n",
       "      <td>1.0</td>\n",
       "      <td>NaN</td>\n",
       "      <td>NaN</td>\n",
       "      <td>1.0</td>\n",
       "      <td>0.0</td>\n",
       "      <td>0.0</td>\n",
       "      <td>4</td>\n",
       "      <td>1.0</td>\n",
       "      <td>0.0</td>\n",
       "      <td>1.0</td>\n",
       "      <td>1</td>\n",
       "    </tr>\n",
       "    <tr>\n",
       "      <th>5</th>\n",
       "      <td>buffalo</td>\n",
       "      <td>1.0</td>\n",
       "      <td>0.0</td>\n",
       "      <td>0.0</td>\n",
       "      <td>NaN</td>\n",
       "      <td>0.0</td>\n",
       "      <td>0.0</td>\n",
       "      <td>0.0</td>\n",
       "      <td>1.0</td>\n",
       "      <td>1.0</td>\n",
       "      <td>NaN</td>\n",
       "      <td>0.0</td>\n",
       "      <td>0.0</td>\n",
       "      <td>4</td>\n",
       "      <td>NaN</td>\n",
       "      <td>0.0</td>\n",
       "      <td>1.0</td>\n",
       "      <td>1</td>\n",
       "    </tr>\n",
       "    <tr>\n",
       "      <th>6</th>\n",
       "      <td>calf</td>\n",
       "      <td>1.0</td>\n",
       "      <td>0.0</td>\n",
       "      <td>0.0</td>\n",
       "      <td>1.0</td>\n",
       "      <td>0.0</td>\n",
       "      <td>0.0</td>\n",
       "      <td>0.0</td>\n",
       "      <td>1.0</td>\n",
       "      <td>1.0</td>\n",
       "      <td>1.0</td>\n",
       "      <td>0.0</td>\n",
       "      <td>0.0</td>\n",
       "      <td>4</td>\n",
       "      <td>1.0</td>\n",
       "      <td>1.0</td>\n",
       "      <td>1.0</td>\n",
       "      <td>1</td>\n",
       "    </tr>\n",
       "    <tr>\n",
       "      <th>7</th>\n",
       "      <td>carp</td>\n",
       "      <td>0.0</td>\n",
       "      <td>0.0</td>\n",
       "      <td>1.0</td>\n",
       "      <td>0.0</td>\n",
       "      <td>0.0</td>\n",
       "      <td>1.0</td>\n",
       "      <td>0.0</td>\n",
       "      <td>NaN</td>\n",
       "      <td>1.0</td>\n",
       "      <td>0.0</td>\n",
       "      <td>0.0</td>\n",
       "      <td>1.0</td>\n",
       "      <td>0</td>\n",
       "      <td>NaN</td>\n",
       "      <td>1.0</td>\n",
       "      <td>0.0</td>\n",
       "      <td>4</td>\n",
       "    </tr>\n",
       "    <tr>\n",
       "      <th>8</th>\n",
       "      <td>catfish</td>\n",
       "      <td>0.0</td>\n",
       "      <td>0.0</td>\n",
       "      <td>1.0</td>\n",
       "      <td>0.0</td>\n",
       "      <td>0.0</td>\n",
       "      <td>1.0</td>\n",
       "      <td>1.0</td>\n",
       "      <td>1.0</td>\n",
       "      <td>1.0</td>\n",
       "      <td>0.0</td>\n",
       "      <td>0.0</td>\n",
       "      <td>1.0</td>\n",
       "      <td>0</td>\n",
       "      <td>1.0</td>\n",
       "      <td>0.0</td>\n",
       "      <td>0.0</td>\n",
       "      <td>4</td>\n",
       "    </tr>\n",
       "    <tr>\n",
       "      <th>9</th>\n",
       "      <td>cavy</td>\n",
       "      <td>1.0</td>\n",
       "      <td>NaN</td>\n",
       "      <td>0.0</td>\n",
       "      <td>NaN</td>\n",
       "      <td>NaN</td>\n",
       "      <td>0.0</td>\n",
       "      <td>NaN</td>\n",
       "      <td>1.0</td>\n",
       "      <td>NaN</td>\n",
       "      <td>1.0</td>\n",
       "      <td>0.0</td>\n",
       "      <td>0.0</td>\n",
       "      <td>4</td>\n",
       "      <td>0.0</td>\n",
       "      <td>1.0</td>\n",
       "      <td>0.0</td>\n",
       "      <td>1</td>\n",
       "    </tr>\n",
       "    <tr>\n",
       "      <th>10</th>\n",
       "      <td>cheetah</td>\n",
       "      <td>1.0</td>\n",
       "      <td>0.0</td>\n",
       "      <td>0.0</td>\n",
       "      <td>1.0</td>\n",
       "      <td>0.0</td>\n",
       "      <td>0.0</td>\n",
       "      <td>1.0</td>\n",
       "      <td>1.0</td>\n",
       "      <td>1.0</td>\n",
       "      <td>1.0</td>\n",
       "      <td>0.0</td>\n",
       "      <td>0.0</td>\n",
       "      <td>4</td>\n",
       "      <td>1.0</td>\n",
       "      <td>0.0</td>\n",
       "      <td>1.0</td>\n",
       "      <td>1</td>\n",
       "    </tr>\n",
       "    <tr>\n",
       "      <th>11</th>\n",
       "      <td>chicken</td>\n",
       "      <td>0.0</td>\n",
       "      <td>1.0</td>\n",
       "      <td>1.0</td>\n",
       "      <td>0.0</td>\n",
       "      <td>1.0</td>\n",
       "      <td>0.0</td>\n",
       "      <td>0.0</td>\n",
       "      <td>0.0</td>\n",
       "      <td>1.0</td>\n",
       "      <td>1.0</td>\n",
       "      <td>0.0</td>\n",
       "      <td>0.0</td>\n",
       "      <td>2</td>\n",
       "      <td>1.0</td>\n",
       "      <td>1.0</td>\n",
       "      <td>0.0</td>\n",
       "      <td>2</td>\n",
       "    </tr>\n",
       "    <tr>\n",
       "      <th>12</th>\n",
       "      <td>chub</td>\n",
       "      <td>0.0</td>\n",
       "      <td>0.0</td>\n",
       "      <td>1.0</td>\n",
       "      <td>NaN</td>\n",
       "      <td>0.0</td>\n",
       "      <td>1.0</td>\n",
       "      <td>1.0</td>\n",
       "      <td>1.0</td>\n",
       "      <td>NaN</td>\n",
       "      <td>0.0</td>\n",
       "      <td>0.0</td>\n",
       "      <td>1.0</td>\n",
       "      <td>0</td>\n",
       "      <td>1.0</td>\n",
       "      <td>0.0</td>\n",
       "      <td>0.0</td>\n",
       "      <td>4</td>\n",
       "    </tr>\n",
       "    <tr>\n",
       "      <th>13</th>\n",
       "      <td>clam</td>\n",
       "      <td>0.0</td>\n",
       "      <td>0.0</td>\n",
       "      <td>NaN</td>\n",
       "      <td>0.0</td>\n",
       "      <td>0.0</td>\n",
       "      <td>0.0</td>\n",
       "      <td>1.0</td>\n",
       "      <td>0.0</td>\n",
       "      <td>0.0</td>\n",
       "      <td>NaN</td>\n",
       "      <td>0.0</td>\n",
       "      <td>0.0</td>\n",
       "      <td>0</td>\n",
       "      <td>NaN</td>\n",
       "      <td>NaN</td>\n",
       "      <td>0.0</td>\n",
       "      <td>7</td>\n",
       "    </tr>\n",
       "    <tr>\n",
       "      <th>14</th>\n",
       "      <td>crab</td>\n",
       "      <td>0.0</td>\n",
       "      <td>0.0</td>\n",
       "      <td>1.0</td>\n",
       "      <td>0.0</td>\n",
       "      <td>0.0</td>\n",
       "      <td>1.0</td>\n",
       "      <td>1.0</td>\n",
       "      <td>NaN</td>\n",
       "      <td>0.0</td>\n",
       "      <td>0.0</td>\n",
       "      <td>0.0</td>\n",
       "      <td>0.0</td>\n",
       "      <td>4</td>\n",
       "      <td>0.0</td>\n",
       "      <td>0.0</td>\n",
       "      <td>0.0</td>\n",
       "      <td>7</td>\n",
       "    </tr>\n",
       "    <tr>\n",
       "      <th>15</th>\n",
       "      <td>crayfish</td>\n",
       "      <td>NaN</td>\n",
       "      <td>0.0</td>\n",
       "      <td>1.0</td>\n",
       "      <td>0.0</td>\n",
       "      <td>0.0</td>\n",
       "      <td>1.0</td>\n",
       "      <td>1.0</td>\n",
       "      <td>0.0</td>\n",
       "      <td>0.0</td>\n",
       "      <td>0.0</td>\n",
       "      <td>0.0</td>\n",
       "      <td>0.0</td>\n",
       "      <td>6</td>\n",
       "      <td>0.0</td>\n",
       "      <td>0.0</td>\n",
       "      <td>0.0</td>\n",
       "      <td>7</td>\n",
       "    </tr>\n",
       "    <tr>\n",
       "      <th>16</th>\n",
       "      <td>crow</td>\n",
       "      <td>0.0</td>\n",
       "      <td>1.0</td>\n",
       "      <td>1.0</td>\n",
       "      <td>0.0</td>\n",
       "      <td>1.0</td>\n",
       "      <td>0.0</td>\n",
       "      <td>1.0</td>\n",
       "      <td>0.0</td>\n",
       "      <td>1.0</td>\n",
       "      <td>1.0</td>\n",
       "      <td>0.0</td>\n",
       "      <td>0.0</td>\n",
       "      <td>2</td>\n",
       "      <td>1.0</td>\n",
       "      <td>0.0</td>\n",
       "      <td>0.0</td>\n",
       "      <td>2</td>\n",
       "    </tr>\n",
       "    <tr>\n",
       "      <th>17</th>\n",
       "      <td>deer</td>\n",
       "      <td>1.0</td>\n",
       "      <td>0.0</td>\n",
       "      <td>0.0</td>\n",
       "      <td>NaN</td>\n",
       "      <td>0.0</td>\n",
       "      <td>0.0</td>\n",
       "      <td>0.0</td>\n",
       "      <td>1.0</td>\n",
       "      <td>1.0</td>\n",
       "      <td>1.0</td>\n",
       "      <td>0.0</td>\n",
       "      <td>0.0</td>\n",
       "      <td>4</td>\n",
       "      <td>1.0</td>\n",
       "      <td>0.0</td>\n",
       "      <td>1.0</td>\n",
       "      <td>1</td>\n",
       "    </tr>\n",
       "    <tr>\n",
       "      <th>18</th>\n",
       "      <td>dogfish</td>\n",
       "      <td>0.0</td>\n",
       "      <td>0.0</td>\n",
       "      <td>1.0</td>\n",
       "      <td>0.0</td>\n",
       "      <td>0.0</td>\n",
       "      <td>1.0</td>\n",
       "      <td>1.0</td>\n",
       "      <td>1.0</td>\n",
       "      <td>1.0</td>\n",
       "      <td>0.0</td>\n",
       "      <td>0.0</td>\n",
       "      <td>1.0</td>\n",
       "      <td>0</td>\n",
       "      <td>1.0</td>\n",
       "      <td>0.0</td>\n",
       "      <td>1.0</td>\n",
       "      <td>4</td>\n",
       "    </tr>\n",
       "    <tr>\n",
       "      <th>19</th>\n",
       "      <td>dolphin</td>\n",
       "      <td>0.0</td>\n",
       "      <td>0.0</td>\n",
       "      <td>0.0</td>\n",
       "      <td>1.0</td>\n",
       "      <td>0.0</td>\n",
       "      <td>1.0</td>\n",
       "      <td>1.0</td>\n",
       "      <td>1.0</td>\n",
       "      <td>1.0</td>\n",
       "      <td>1.0</td>\n",
       "      <td>0.0</td>\n",
       "      <td>1.0</td>\n",
       "      <td>0</td>\n",
       "      <td>1.0</td>\n",
       "      <td>0.0</td>\n",
       "      <td>NaN</td>\n",
       "      <td>1</td>\n",
       "    </tr>\n",
       "  </tbody>\n",
       "</table>\n",
       "</div>"
      ],
      "text/plain": [
       "      animal  hair  feathers  eggs  milk  airborne  aquatic  predator  \\\n",
       "0   aardvark   1.0       0.0   0.0   1.0       0.0      0.0       NaN   \n",
       "1   antelope   1.0       0.0   0.0   1.0       0.0      NaN       0.0   \n",
       "2       bass   0.0       0.0   1.0   0.0       0.0      1.0       1.0   \n",
       "3       bear   NaN       0.0   NaN   1.0       0.0      0.0       1.0   \n",
       "4       boar   1.0       NaN   0.0   1.0       0.0      0.0       1.0   \n",
       "5    buffalo   1.0       0.0   0.0   NaN       0.0      0.0       0.0   \n",
       "6       calf   1.0       0.0   0.0   1.0       0.0      0.0       0.0   \n",
       "7       carp   0.0       0.0   1.0   0.0       0.0      1.0       0.0   \n",
       "8    catfish   0.0       0.0   1.0   0.0       0.0      1.0       1.0   \n",
       "9       cavy   1.0       NaN   0.0   NaN       NaN      0.0       NaN   \n",
       "10   cheetah   1.0       0.0   0.0   1.0       0.0      0.0       1.0   \n",
       "11   chicken   0.0       1.0   1.0   0.0       1.0      0.0       0.0   \n",
       "12      chub   0.0       0.0   1.0   NaN       0.0      1.0       1.0   \n",
       "13      clam   0.0       0.0   NaN   0.0       0.0      0.0       1.0   \n",
       "14      crab   0.0       0.0   1.0   0.0       0.0      1.0       1.0   \n",
       "15  crayfish   NaN       0.0   1.0   0.0       0.0      1.0       1.0   \n",
       "16      crow   0.0       1.0   1.0   0.0       1.0      0.0       1.0   \n",
       "17      deer   1.0       0.0   0.0   NaN       0.0      0.0       0.0   \n",
       "18   dogfish   0.0       0.0   1.0   0.0       0.0      1.0       1.0   \n",
       "19   dolphin   0.0       0.0   0.0   1.0       0.0      1.0       1.0   \n",
       "\n",
       "    toothed  backbone  breathes  venomous  fins  legs  tail  domestic  \\\n",
       "0       1.0       1.0       1.0       0.0   0.0     4   NaN       0.0   \n",
       "1       1.0       NaN       1.0       0.0   0.0     4   1.0       0.0   \n",
       "2       1.0       1.0       0.0       0.0   1.0     0   1.0       0.0   \n",
       "3       1.0       1.0       1.0       0.0   0.0     4   0.0       0.0   \n",
       "4       NaN       NaN       1.0       0.0   0.0     4   1.0       0.0   \n",
       "5       1.0       1.0       NaN       0.0   0.0     4   NaN       0.0   \n",
       "6       1.0       1.0       1.0       0.0   0.0     4   1.0       1.0   \n",
       "7       NaN       1.0       0.0       0.0   1.0     0   NaN       1.0   \n",
       "8       1.0       1.0       0.0       0.0   1.0     0   1.0       0.0   \n",
       "9       1.0       NaN       1.0       0.0   0.0     4   0.0       1.0   \n",
       "10      1.0       1.0       1.0       0.0   0.0     4   1.0       0.0   \n",
       "11      0.0       1.0       1.0       0.0   0.0     2   1.0       1.0   \n",
       "12      1.0       NaN       0.0       0.0   1.0     0   1.0       0.0   \n",
       "13      0.0       0.0       NaN       0.0   0.0     0   NaN       NaN   \n",
       "14      NaN       0.0       0.0       0.0   0.0     4   0.0       0.0   \n",
       "15      0.0       0.0       0.0       0.0   0.0     6   0.0       0.0   \n",
       "16      0.0       1.0       1.0       0.0   0.0     2   1.0       0.0   \n",
       "17      1.0       1.0       1.0       0.0   0.0     4   1.0       0.0   \n",
       "18      1.0       1.0       0.0       0.0   1.0     0   1.0       0.0   \n",
       "19      1.0       1.0       1.0       0.0   1.0     0   1.0       0.0   \n",
       "\n",
       "    catsize  type  \n",
       "0       1.0     1  \n",
       "1       1.0     1  \n",
       "2       0.0     4  \n",
       "3       1.0     1  \n",
       "4       1.0     1  \n",
       "5       1.0     1  \n",
       "6       1.0     1  \n",
       "7       0.0     4  \n",
       "8       0.0     4  \n",
       "9       0.0     1  \n",
       "10      1.0     1  \n",
       "11      0.0     2  \n",
       "12      0.0     4  \n",
       "13      0.0     7  \n",
       "14      0.0     7  \n",
       "15      0.0     7  \n",
       "16      0.0     2  \n",
       "17      1.0     1  \n",
       "18      1.0     4  \n",
       "19      NaN     1  "
      ]
     },
     "execution_count": 6,
     "metadata": {},
     "output_type": "execute_result"
    }
   ],
   "source": [
    "df.head(20)"
   ]
  },
  {
   "cell_type": "markdown",
   "id": "78ac81f8",
   "metadata": {},
   "source": [
    "Avaliando a composição dos dados em si, pode-se notar que, assim como provado acima, os dados não preenchidos estão espalhados, e, portanto precisão ser preenchidos."
   ]
  },
  {
   "cell_type": "code",
   "execution_count": 51,
   "id": "50c942f7",
   "metadata": {},
   "outputs": [
    {
     "name": "stderr",
     "output_type": "stream",
     "text": [
      "/var/folders/8d/d5by2ryj0lb7mrtngnh40lzr0000gn/T/ipykernel_5705/1359790992.py:1: FutureWarning: The default value of numeric_only in DataFrame.corr is deprecated. In a future version, it will default to False. Select only valid columns or specify the value of numeric_only to silence this warning.\n",
      "  df.corr()[\"type\"].sort_values(ascending=False).drop(\"type\")\n"
     ]
    },
    {
     "data": {
      "text/plain": [
       "eggs        0.665519\n",
       "aquatic     0.341280\n",
       "venomous    0.325584\n",
       "legs        0.131693\n",
       "predator    0.114315\n",
       "fins        0.105041\n",
       "airborne    0.057839\n",
       "domestic   -0.189360\n",
       "feathers   -0.202064\n",
       "toothed    -0.445117\n",
       "breathes   -0.466407\n",
       "catsize    -0.539219\n",
       "hair       -0.565564\n",
       "tail       -0.633407\n",
       "milk       -0.727347\n",
       "backbone   -0.851402\n",
       "Name: type, dtype: float64"
      ]
     },
     "execution_count": 51,
     "metadata": {},
     "output_type": "execute_result"
    }
   ],
   "source": [
    "df.corr()[\"type\"].sort_values(ascending=False).drop(\"type\")"
   ]
  },
  {
   "cell_type": "markdown",
   "id": "4f043e1b",
   "metadata": {},
   "source": [
    "Com a correlação entre as colunas do DataFrame e o nosso *target* podemos posteriormente averiguar se a importância de uma feature está ligada à correlação entre o target e as features em si."
   ]
  },
  {
   "cell_type": "markdown",
   "id": "c6630a89",
   "metadata": {},
   "source": [
    "### Limpeza de Dados, Separação Treino/Teste e Preenchimento das Informações.\n",
    "\n",
    "Com o explorado acima, vou começar com a retirada da coluna de *PRIMARY KEY* que é a coluna `animal` e separando os dados entre **Treino e Teste**, usando o método estratificado de separação, para garantir que nosso target esteja bem dividido entre ambas as partes. Não poderão ser limpos os valores *NaN* pelo apresentado acima, por isso serão preenchidos mais à frente."
   ]
  },
  {
   "cell_type": "code",
   "execution_count": 7,
   "id": "f461eccb",
   "metadata": {},
   "outputs": [],
   "source": [
    "# Importando biblioteca de separação train/test:\n",
    "from sklearn.model_selection import train_test_split"
   ]
  },
  {
   "cell_type": "code",
   "execution_count": 8,
   "id": "245960d6",
   "metadata": {},
   "outputs": [],
   "source": [
    "#Drop da coluna Animal\n",
    "df_limpo = df.drop([\"animal\"], axis=1)\n",
    "\n",
    "#Separação atributos(X) e target(y):\n",
    "y = df_limpo.loc[:,\"type\"]\n",
    "X = df_limpo.drop([\"type\"], axis=1)\n",
    "\n",
    "# Separando Treino e Teste - startify igual ao target\n",
    "X_train, X_test, y_train, y_test = train_test_split(\n",
    "    X,\n",
    "    y,                  \n",
    "    test_size=0.25,\n",
    "    random_state=RAND_SEED,\n",
    "    stratify=y\n",
    ")"
   ]
  },
  {
   "cell_type": "markdown",
   "id": "281dc469",
   "metadata": {},
   "source": [
    "Para preencher as informações vazias é preciso escolher a melhor função de preenchimento para garantir que, devido à quantidade de dados não preenchidos, o método de preenchimento não atrapalhe o modelo de classificação. Assim, olhando a documentação do scikit-learn, mais especificamente na página [6.4. Imputation of missing values](https://scikit-learn.org/stable/modules/impute.html), vou utilizar os seguintes tipos de imputer:\n",
    "\n",
    "- `SimpleImputer` - com estratégia de *most-frequent*;\n",
    "\n",
    "- `IterativeImputer`;\n",
    "\n",
    "- `KNNImputer`.\n",
    "\n",
    "Para comparar os resultados vou utilizar `Cross Validation` para avaliar os scores de cada uma das aplicações, e para isso vou definir o regressor padrão para teste como o **Random Forest**.\n",
    "\n",
    "Referência: [Imputing missing values before building an estimator](https://scikit-learn.org/stable/auto_examples/impute/plot_missing_values.html)"
   ]
  },
  {
   "cell_type": "code",
   "execution_count": 9,
   "id": "b86a1be8",
   "metadata": {},
   "outputs": [],
   "source": [
    "## Importando as bibliotecas que serão utilizadas:\n",
    "# Regressor:\n",
    "from sklearn.ensemble import RandomForestRegressor\n",
    "\n",
    "# Imputers\n",
    "from sklearn.experimental import enable_iterative_imputer\n",
    "from sklearn.impute import SimpleImputer, KNNImputer, IterativeImputer\n",
    "from sklearn.model_selection import cross_val_score\n",
    "from sklearn.pipeline import make_pipeline"
   ]
  },
  {
   "cell_type": "code",
   "execution_count": 10,
   "id": "0766386d",
   "metadata": {},
   "outputs": [],
   "source": [
    "# Definindo o número de cortes para o CrossValidation\n",
    "N_SPLITS = 10"
   ]
  },
  {
   "cell_type": "code",
   "execution_count": 11,
   "id": "277c4b2d",
   "metadata": {},
   "outputs": [],
   "source": [
    "# Criando o nosso regressor com a seed randômica configurada acima:\n",
    "regressor = RandomForestRegressor(random_state=RAND_SEED)"
   ]
  },
  {
   "cell_type": "markdown",
   "id": "482d3fab",
   "metadata": {},
   "source": [
    "A função abaixo irá calcular o score dado o imputer e os dados por meio do cross_val"
   ]
  },
  {
   "cell_type": "code",
   "execution_count": 12,
   "id": "cf2cf644",
   "metadata": {},
   "outputs": [],
   "source": [
    "def get_scores_for_imputer(imputer, X, y):\n",
    "    estimator = make_pipeline(imputer, regressor)\n",
    "    impute_scores = cross_val_score(\n",
    "        estimator, X, y, scoring=\"neg_mean_squared_error\", cv=N_SPLITS\n",
    "    )\n",
    "    return impute_scores"
   ]
  },
  {
   "cell_type": "markdown",
   "id": "99fe1bcf",
   "metadata": {},
   "source": [
    "Abaixo estão definidas as funções para calcular os score de erro de cada um dos **Imputers** escolhidos:"
   ]
  },
  {
   "cell_type": "code",
   "execution_count": 13,
   "id": "ecbf2654",
   "metadata": {},
   "outputs": [],
   "source": [
    "# Simple Imputer:\n",
    "def get_impute_simple_score(X, y):\n",
    "    imputer = SimpleImputer(missing_values=np.nan, strategy=\"most_frequent\")\n",
    "    mean_impute_scores = get_scores_for_imputer(imputer, X, y)\n",
    "    return mean_impute_scores.mean(), mean_impute_scores.std()\n",
    "\n",
    "# Interactive Imputer:\n",
    "def get_impute_iterative_score(X, y):\n",
    "    imputer = IterativeImputer(\n",
    "        missing_values=np.nan,\n",
    "        add_indicator=True,\n",
    "        random_state=0,\n",
    "        n_nearest_features=3,\n",
    "        max_iter=1,\n",
    "        sample_posterior=True,\n",
    "    )\n",
    "    iterative_impute_scores = get_scores_for_imputer(imputer, X, y)\n",
    "    return iterative_impute_scores.mean(), iterative_impute_scores.std()\n",
    "\n",
    "# KNN Imputer:\n",
    "def get_impute_knn_score(X, y):\n",
    "    imputer = KNNImputer(missing_values=np.nan, add_indicator=True)\n",
    "    knn_impute_scores = get_scores_for_imputer(imputer, X, y)\n",
    "    return knn_impute_scores.mean(), knn_impute_scores.std()"
   ]
  },
  {
   "cell_type": "markdown",
   "id": "a06539c3",
   "metadata": {},
   "source": [
    "Agora serão calculados os erros médios e o desvio padrão do erros de cada um dos Imputers e armazenados em listas para serem plotadas mais à frente para comparação:"
   ]
  },
  {
   "cell_type": "code",
   "execution_count": 14,
   "id": "91d97c6f",
   "metadata": {},
   "outputs": [],
   "source": [
    "# Criando as listas\n",
    "x_labels = []\n",
    "\n",
    "score_mean_list = np.zeros(3)\n",
    "score_std_list = np.zeros(3)\n",
    "\n",
    "## Aplicando os Testes:\n",
    "# Simple Imputer\n",
    "score_mean_list[0], score_std_list[0] = get_impute_simple_score(X_train, y_train)\n",
    "x_labels.append(\"Simple Imputer\")\n",
    "\n",
    "# Interactive Imputer:\n",
    "score_mean_list[1], score_std_list[1] = get_impute_iterative_score(X_train, y_train)\n",
    "x_labels.append(\"Interactive Imputer\")\n",
    "\n",
    "# KNN Imputer:\n",
    "score_mean_list[2], score_std_list[2] = get_impute_knn_score(X_train, y_train)\n",
    "x_labels.append(\"KNN Imputer\")"
   ]
  },
  {
   "cell_type": "markdown",
   "id": "6a1953c5",
   "metadata": {},
   "source": [
    "Plotando os resultados em um gráfico para avaliar qual o melhor Imputer:"
   ]
  },
  {
   "cell_type": "code",
   "execution_count": 15,
   "id": "00f8c16f",
   "metadata": {},
   "outputs": [
    {
     "data": {
      "image/png": "[encoded data removed]",
      "text/plain": [
       "<Figure size 1200x600 with 1 Axes>"
      ]
     },
     "metadata": {},
     "output_type": "display_data"
    }
   ],
   "source": [
    "n_bars = len(score_mean_list)\n",
    "xval = np.arange(n_bars)\n",
    "\n",
    "colors = [\"r\", \"g\", \"orange\"]\n",
    "\n",
    "# Invertendo o valor das médias para torná-las positivas:\n",
    "score_mean_list = score_mean_list*-1\n",
    "\n",
    "# Plotando os Resultados\n",
    "plt.figure(figsize=(12, 6))\n",
    "ax1 = plt.subplot(121)\n",
    "for j in xval:\n",
    "    ax1.barh(\n",
    "        j,\n",
    "        score_mean_list[j],\n",
    "        xerr=score_std_list[j],\n",
    "        color=colors[j],\n",
    "        alpha=0.6,\n",
    "        align=\"center\",\n",
    "    )\n",
    "\n",
    "ax1.set_title(\"Score dos Imputer [menor melhor]\")\n",
    "ax1.set_xlim(left=np.min(score_mean_list) * 0.9, right=np.max(score_mean_list) * 1.1)\n",
    "ax1.set_yticks(xval)\n",
    "ax1.set_xlabel(\"RMSE\")\n",
    "ax1.invert_yaxis()\n",
    "ax1.set_yticklabels(x_labels)\n",
    "\n",
    "\n",
    "plt.show()"
   ]
  },
  {
   "cell_type": "markdown",
   "id": "b5e6bb84",
   "metadata": {},
   "source": [
    "Baseado nos resultados apresentados, o melhor Imputer é o `KNN Imputer`, então vou aplicá-lo à base de dados para complementá-la:"
   ]
  },
  {
   "cell_type": "code",
   "execution_count": 16,
   "id": "86f88949",
   "metadata": {},
   "outputs": [
    {
     "data": {
      "text/plain": [
       "array([[0. , 0. , 1. , ..., 1. , 0. , 0. ],\n",
       "       [0. , 0. , 1. , ..., 1. , 0. , 1. ],\n",
       "       [0. , 0. , 1. , ..., 1. , 0. , 1. ],\n",
       "       ...,\n",
       "       [0. , 1. , 1. , ..., 1. , 0. , 1. ],\n",
       "       [1. , 0. , 0. , ..., 0. , 0. , 1. ],\n",
       "       [0.6, 0. , 0. , ..., 1. , 0. , 0.6]])"
      ]
     },
     "execution_count": 16,
     "metadata": {},
     "output_type": "execute_result"
    }
   ],
   "source": [
    "imputer = KNNImputer(missing_values=np.nan)\n",
    "X_train_tratado = imputer.fit_transform(X_train)\n",
    "\n",
    "X_train_tratado"
   ]
  },
  {
   "cell_type": "markdown",
   "id": "f6d11bda",
   "metadata": {},
   "source": [
    "## Aplicando Classificadores:\n",
    "\n",
    "Agora que os dados estão completos, baseado novamente no método de `Cross Validation` vou escolher entre alguns classificadores aquele em que a acurácia é a maior ao classificar o Treino. Os Classificadores que irei explorar são:\n",
    "\n",
    "\n",
    "- [Decision Tree](https://scikit-learn.org/stable/modules/generated/sklearn.tree.DecisionTreeClassifier.html)\n",
    "- [Random Forest](https://scikit-learn.org/stable/modules/generated/sklearn.ensemble.RandomForestClassifier.html)\n",
    "- [Logistic Regression](https://scikit-learn.org/stable/modules/generated/sklearn.linear_model.LogisticRegression.html)\n",
    "- [Support Vector Machines Classifier - SVC](https://scikit-learn.org/stable/modules/generated/sklearn.svm.SVC.html)\n",
    "- [SGD](https://scikit-learn.org/stable/modules/generated/sklearn.linear_model.SGDClassifier.html)\n",
    "- [KNN Classifier](https://scikit-learn.org/stable/modules/generated/sklearn.neighbors.KNeighborsClassifier.html)\n",
    "- [Naive Bayes - variação multinomial](https://scikit-learn.org/stable/modules/naive_bayes.html)\n",
    "\n",
    "Foram escolhidos baseados naqueles estudados na aula de Machine Learning e em outros classificadores famosos disponíveis na biblioteca, que são escolhidos como alguns dos melhores.\n",
    "\n",
    "Primeiramente vou criar as funções que dirão o resultado do `Cross Validation` de todos os Classificadores, mas agora com o scoring baseado na **acurácia**."
   ]
  },
  {
   "cell_type": "code",
   "execution_count": 17,
   "id": "b006be04",
   "metadata": {},
   "outputs": [],
   "source": [
    "N_SPLITS = 3"
   ]
  },
  {
   "cell_type": "code",
   "execution_count": 18,
   "id": "7bba3823",
   "metadata": {},
   "outputs": [],
   "source": [
    "# Classificador Decision Tree:\n",
    "\n",
    "from sklearn.tree import DecisionTreeClassifier\n",
    "\n",
    "def get_classifier_DTree_score(X, y):\n",
    "    classifier = DecisionTreeClassifier(random_state=RAND_SEED)\n",
    "    return cross_val_score(classifier, X, y, cv=N_SPLITS, scoring=\"accuracy\", n_jobs=-1)"
   ]
  },
  {
   "cell_type": "code",
   "execution_count": 19,
   "id": "d4a9765a",
   "metadata": {},
   "outputs": [],
   "source": [
    "# Classificador Random Forest:\n",
    "\n",
    "from sklearn.ensemble import RandomForestClassifier\n",
    "\n",
    "def get_classifier_RForest_score(X, y):\n",
    "    classifier = RandomForestClassifier(n_estimators=100, random_state=RAND_SEED)\n",
    "    return cross_val_score(classifier, X, y, cv=N_SPLITS, scoring=\"accuracy\", n_jobs=-1)"
   ]
  },
  {
   "cell_type": "code",
   "execution_count": 20,
   "id": "fa60f033",
   "metadata": {},
   "outputs": [],
   "source": [
    "# Classificador Regressão Logística:\n",
    "#     - por ser uma base reduzida usarei o solver: liblinear\n",
    "#     - por compatibilidade vou usar penalidade l1, mas poderia receber l2\n",
    "\n",
    "from sklearn.linear_model import LogisticRegression\n",
    "\n",
    "def get_classifier_Logistic_score(X, y):\n",
    "    classifier = LogisticRegression(\n",
    "        penalty='l1',\n",
    "        C=1000,\n",
    "        solver='liblinear',\n",
    "        multi_class='auto',\n",
    "        max_iter=1000,\n",
    "        random_state=RAND_SEED\n",
    "    )\n",
    "    return cross_val_score(classifier, X, y, cv=N_SPLITS, scoring=\"accuracy\", n_jobs=-1)"
   ]
  },
  {
   "cell_type": "code",
   "execution_count": 21,
   "id": "b8e39082",
   "metadata": {},
   "outputs": [],
   "source": [
    "# Classificador SVC:\n",
    "\n",
    "from sklearn.svm import SVC\n",
    "\n",
    "def get_classifier_SVC_score(X, y):\n",
    "    classifier = SVC(kernel='linear', random_state=RAND_SEED)\n",
    "    return cross_val_score(classifier, X, y, cv=N_SPLITS, scoring=\"accuracy\", n_jobs=-1)"
   ]
  },
  {
   "cell_type": "code",
   "execution_count": 22,
   "id": "a2459bd1",
   "metadata": {},
   "outputs": [],
   "source": [
    "# Classificador SGD:\n",
    "\n",
    "from sklearn.linear_model import SGDClassifier\n",
    "\n",
    "def get_classifier_SGD_score(X, y):\n",
    "    classifier = SGDClassifier(\n",
    "        max_iter=500,\n",
    "        tol=1e-3,\n",
    "        random_state=RAND_SEED,\n",
    "        n_jobs=-1,\n",
    "    )\n",
    "    return cross_val_score(classifier, X, y, cv=N_SPLITS, scoring=\"accuracy\", n_jobs=-1)"
   ]
  },
  {
   "cell_type": "code",
   "execution_count": 23,
   "id": "ff9d56ed",
   "metadata": {},
   "outputs": [],
   "source": [
    "# Classificador KNN:\n",
    "\n",
    "from sklearn.neighbors import KNeighborsClassifier\n",
    "\n",
    "def get_classifier_KNN_score(X, y):\n",
    "    classifier = KNeighborsClassifier(n_neighbors=10, n_jobs=-1)\n",
    "    return cross_val_score(classifier, X, y, cv=N_SPLITS, scoring=\"accuracy\", n_jobs=-1)"
   ]
  },
  {
   "cell_type": "code",
   "execution_count": 24,
   "id": "4e49d88e",
   "metadata": {},
   "outputs": [],
   "source": [
    "# Classificador MNB:\n",
    "\n",
    "from sklearn.naive_bayes import MultinomialNB\n",
    "\n",
    "def get_classifier_MNB_score(X, y):\n",
    "    classifier = MultinomialNB()\n",
    "    return cross_val_score(classifier, X, y, cv=N_SPLITS, scoring=\"accuracy\", n_jobs=-1)"
   ]
  },
  {
   "cell_type": "markdown",
   "id": "581266e2",
   "metadata": {},
   "source": [
    "Com todas as funções para cálculo da acurácia utilizando o `Cross Validation`, vou, então, calculá-las de fato:"
   ]
  },
  {
   "cell_type": "code",
   "execution_count": 25,
   "id": "2800c4b3",
   "metadata": {},
   "outputs": [],
   "source": [
    "# Criando as listas\n",
    "x_labels = []\n",
    "\n",
    "score_accuracy_mean_list = np.zeros(7)\n",
    "score_accuracy_std_list = np.zeros(7)"
   ]
  },
  {
   "cell_type": "code",
   "execution_count": 26,
   "id": "8247c3a3",
   "metadata": {},
   "outputs": [],
   "source": [
    "## Aplicando os Modelos:\n",
    "# Classificador Decision Tree:\n",
    "DTree_score = get_classifier_DTree_score(X_train_tratado, y_train)\n",
    "score_accuracy_mean_list[0] = DTree_score.mean()\n",
    "score_accuracy_std_list[0] = DTree_score.std()\n",
    "x_labels.append(\"Decision Tree\")\n",
    "\n",
    "# Classificador Random Forest:\n",
    "RForest_score = get_classifier_RForest_score(X_train_tratado, y_train)\n",
    "score_accuracy_mean_list[1] = RForest_score.mean()\n",
    "score_accuracy_std_list[1] = RForest_score.std()\n",
    "x_labels.append(\"Random Forest\")\n",
    "\n",
    "# Classificador Regressão Logística:\n",
    "Logistic_score = get_classifier_Logistic_score(X_train_tratado, y_train)\n",
    "score_accuracy_mean_list[2] = Logistic_score.mean()\n",
    "score_accuracy_std_list[2] = Logistic_score.std()\n",
    "x_labels.append(\"Regressão Logística\")\n",
    "\n",
    "# Classificador SVC:\n",
    "SVC_score = get_classifier_SVC_score(X_train_tratado, y_train)\n",
    "score_accuracy_mean_list[3] = SVC_score.mean()\n",
    "score_accuracy_std_list[3] = SVC_score.std()\n",
    "x_labels.append(\"SVC\")\n",
    "\n",
    "# Classificador SGD:\n",
    "SGD_score = get_classifier_SGD_score(X_train_tratado, y_train)\n",
    "score_accuracy_mean_list[4] = SGD_score.mean()\n",
    "score_accuracy_std_list[4] = SGD_score.std()\n",
    "x_labels.append(\"SGD\")\n",
    "\n",
    "# Classificador KNN:\n",
    "KNN_score = get_classifier_KNN_score(X_train_tratado, y_train)\n",
    "score_accuracy_mean_list[5] = KNN_score.mean()\n",
    "score_accuracy_std_list[5] = KNN_score.std()\n",
    "x_labels.append(\"KNN\")\n",
    "\n",
    "# Classificador MNB:\n",
    "MNB_score = get_classifier_MNB_score(X_train_tratado, y_train)\n",
    "score_accuracy_mean_list[6] = MNB_score.mean()\n",
    "score_accuracy_std_list[6] = MNB_score.std()\n",
    "x_labels.append(\"MNB\")"
   ]
  },
  {
   "cell_type": "markdown",
   "id": "8411b1bb",
   "metadata": {},
   "source": [
    "Agora, com todos os scores calculados, vou plotar os resultados em um gráfico para análise:"
   ]
  },
  {
   "cell_type": "code",
   "execution_count": 27,
   "id": "fa1c414d",
   "metadata": {},
   "outputs": [
    {
     "data": {
      "image/png": "[encoded data removed]",
      "text/plain": [
       "<Figure size 1200x600 with 1 Axes>"
      ]
     },
     "metadata": {},
     "output_type": "display_data"
    }
   ],
   "source": [
    "n_bars = len(score_accuracy_mean_list)\n",
    "xval = np.arange(n_bars)\n",
    "\n",
    "colors = [\"r\", \"g\", \"b\", \"orange\", \"lime\", \"magenta\", \"black\"]\n",
    "\n",
    "# Plotando os Resultados\n",
    "plt.figure(figsize=(12, 6))\n",
    "ax1 = plt.subplot(121)\n",
    "for j in xval:\n",
    "    ax1.barh(\n",
    "        j,\n",
    "        score_accuracy_mean_list[j],\n",
    "        xerr=score_accuracy_std_list[j],\n",
    "        color=colors[j],\n",
    "        alpha=0.6,\n",
    "        align=\"center\",\n",
    "    )\n",
    "\n",
    "ax1.set_title(\"Score dos Classificadores [maior melhor]\")\n",
    "ax1.set_xlim(left=np.min(score_accuracy_mean_list) * 0.9, right=np.max(score_accuracy_mean_list) * 1.1)\n",
    "ax1.set_yticks(xval)\n",
    "ax1.set_xlabel(\"Accuracy\")\n",
    "ax1.invert_yaxis()\n",
    "ax1.set_yticklabels(x_labels)\n",
    "\n",
    "\n",
    "plt.show()"
   ]
  },
  {
   "cell_type": "markdown",
   "id": "a44e5128",
   "metadata": {},
   "source": [
    "Para ajudar a visualizar os scores e compará-los, vou colocar a comparação entre `Random Forest`, `Regressão Logística` e `SVC` em um *boxplot*:"
   ]
  },
  {
   "cell_type": "code",
   "execution_count": 28,
   "id": "520cd38d",
   "metadata": {},
   "outputs": [
    {
     "data": {
      "image/png": "[encoded data removed]",
      "text/plain": [
       "<Figure size 600x400 with 1 Axes>"
      ]
     },
     "metadata": {},
     "output_type": "display_data"
    }
   ],
   "source": [
    "pd.DataFrame({\n",
    "    'Random Forest': RForest_score,\n",
    "    'Regressão Logística': Logistic_score,\n",
    "    'SVC': SVC_score,\n",
    "}).plot.box(\n",
    "    xlabel='',\n",
    "    ylabel=r'Scores',\n",
    "    figsize=(6, 4),\n",
    ");"
   ]
  },
  {
   "cell_type": "markdown",
   "id": "e2d0efaf",
   "metadata": {},
   "source": [
    "Como provado pelo *boxplot* acima, podemos concluir que SVC é o melhor modelo devido ao seu menor desvio com relação à acurância, onde seu quartil 25% é igual à mediana dos outros modelos.\n",
    "\n",
    "-----\n",
    "\n",
    "## Otimizando o Modelo\n",
    "\n",
    "Com o modelo escolhido, agora vou otimizá-lo variando seus hiperparâmetros. Isso poderia ser feito até para o preenchimento dos dados em cima, mas estou satisfeito com o resultado, somente uma nota de onde poderia melhorar.\n",
    "\n",
    "Para otimizar o modelo vamos usar uma função do *Scikit-Learn* chamada `GridSearchCV`:"
   ]
  },
  {
   "cell_type": "code",
   "execution_count": 29,
   "id": "e6426e88",
   "metadata": {},
   "outputs": [],
   "source": [
    "from sklearn.model_selection import GridSearchCV"
   ]
  },
  {
   "cell_type": "markdown",
   "id": "71ba9ef5",
   "metadata": {},
   "source": [
    "Os hiperparâmetros que serão escolhidos para serem variados são:\n",
    "\n",
    "- **C** - parametro de regularização\n",
    "- **gamma** - coeficiente utilizado somente para o kernel *rbf* que será testado\n",
    "- **kernel** - utilizado para pré-computar valores e otimizar o cálculo\n",
    "\n",
    "Outros hiperparâmetros podem ser variados quando pensamos no tipo de kernel, mas estes tipos de kernel não serão testados devido à natureza da aplicação.\n",
    "\n",
    "Referência para a documentação: [SVC](https://scikit-learn.org/stable/modules/generated/sklearn.svm.SVC.html)\n",
    "\n",
    "Com os hiperparâmetros escolhidos podemos propor sua variação no **GridSearch**:"
   ]
  },
  {
   "cell_type": "code",
   "execution_count": 30,
   "id": "54db91a2",
   "metadata": {},
   "outputs": [
    {
     "data": {
      "text/html": [
       "<style>#sk-container-id-1 {color: black;background-color: white;}#sk-container-id-1 pre{padding: 0;}#sk-container-id-1 div.sk-toggleable {background-color: white;}#sk-container-id-1 label.sk-toggleable__label {cursor: pointer;display: block;width: 100%;margin-bottom: 0;padding: 0.3em;box-sizing: border-box;text-align: center;}#sk-container-id-1 label.sk-toggleable__label-arrow:before {content: \"▸\";float: left;margin-right: 0.25em;color: #696969;}#sk-container-id-1 label.sk-toggleable__label-arrow:hover:before {color: black;}#sk-container-id-1 div.sk-estimator:hover label.sk-toggleable__label-arrow:before {color: black;}#sk-container-id-1 div.sk-toggleable__content {max-height: 0;max-width: 0;overflow: hidden;text-align: left;background-color: #f0f8ff;}#sk-container-id-1 div.sk-toggleable__content pre {margin: 0.2em;color: black;border-radius: 0.25em;background-color: #f0f8ff;}#sk-container-id-1 input.sk-toggleable__control:checked~div.sk-toggleable__content {max-height: 200px;max-width: 100%;overflow: auto;}#sk-container-id-1 input.sk-toggleable__control:checked~label.sk-toggleable__label-arrow:before {content: \"▾\";}#sk-container-id-1 div.sk-estimator input.sk-toggleable__control:checked~label.sk-toggleable__label {background-color: #d4ebff;}#sk-container-id-1 div.sk-label input.sk-toggleable__control:checked~label.sk-toggleable__label {background-color: #d4ebff;}#sk-container-id-1 input.sk-hidden--visually {border: 0;clip: rect(1px 1px 1px 1px);clip: rect(1px, 1px, 1px, 1px);height: 1px;margin: -1px;overflow: hidden;padding: 0;position: absolute;width: 1px;}#sk-container-id-1 div.sk-estimator {font-family: monospace;background-color: #f0f8ff;border: 1px dotted black;border-radius: 0.25em;box-sizing: border-box;margin-bottom: 0.5em;}#sk-container-id-1 div.sk-estimator:hover {background-color: #d4ebff;}#sk-container-id-1 div.sk-parallel-item::after {content: \"\";width: 100%;border-bottom: 1px solid gray;flex-grow: 1;}#sk-container-id-1 div.sk-label:hover label.sk-toggleable__label {background-color: #d4ebff;}#sk-container-id-1 div.sk-serial::before {content: \"\";position: absolute;border-left: 1px solid gray;box-sizing: border-box;top: 0;bottom: 0;left: 50%;z-index: 0;}#sk-container-id-1 div.sk-serial {display: flex;flex-direction: column;align-items: center;background-color: white;padding-right: 0.2em;padding-left: 0.2em;position: relative;}#sk-container-id-1 div.sk-item {position: relative;z-index: 1;}#sk-container-id-1 div.sk-parallel {display: flex;align-items: stretch;justify-content: center;background-color: white;position: relative;}#sk-container-id-1 div.sk-item::before, #sk-container-id-1 div.sk-parallel-item::before {content: \"\";position: absolute;border-left: 1px solid gray;box-sizing: border-box;top: 0;bottom: 0;left: 50%;z-index: -1;}#sk-container-id-1 div.sk-parallel-item {display: flex;flex-direction: column;z-index: 1;position: relative;background-color: white;}#sk-container-id-1 div.sk-parallel-item:first-child::after {align-self: flex-end;width: 50%;}#sk-container-id-1 div.sk-parallel-item:last-child::after {align-self: flex-start;width: 50%;}#sk-container-id-1 div.sk-parallel-item:only-child::after {width: 0;}#sk-container-id-1 div.sk-dashed-wrapped {border: 1px dashed gray;margin: 0 0.4em 0.5em 0.4em;box-sizing: border-box;padding-bottom: 0.4em;background-color: white;}#sk-container-id-1 div.sk-label label {font-family: monospace;font-weight: bold;display: inline-block;line-height: 1.2em;}#sk-container-id-1 div.sk-label-container {text-align: center;}#sk-container-id-1 div.sk-container {/* jupyter's `normalize.less` sets `[hidden] { display: none; }` but bootstrap.min.css set `[hidden] { display: none !important; }` so we also need the `!important` here to be able to override the default hidden behavior on the sphinx rendered scikit-learn.org. See: https://github.com/scikit-learn/scikit-learn/issues/21755 */display: inline-block !important;position: relative;}#sk-container-id-1 div.sk-text-repr-fallback {display: none;}</style><div id=\"sk-container-id-1\" class=\"sk-top-container\"><div class=\"sk-text-repr-fallback\"><pre>GridSearchCV(cv=3, estimator=SVC(kernel=&#x27;linear&#x27;, random_state=42), n_jobs=-1,\n",
       "             param_grid={&#x27;C&#x27;: [0.1, 1, 10, 100, 1000],\n",
       "                         &#x27;gamma&#x27;: [1, 0.1, 0.01, 0.001, 0.0001],\n",
       "                         &#x27;kernel&#x27;: [&#x27;rbf&#x27;, &#x27;linear&#x27;]})</pre><b>In a Jupyter environment, please rerun this cell to show the HTML representation or trust the notebook. <br />On GitHub, the HTML representation is unable to render, please try loading this page with nbviewer.org.</b></div><div class=\"sk-container\" hidden><div class=\"sk-item sk-dashed-wrapped\"><div class=\"sk-label-container\"><div class=\"sk-label sk-toggleable\"><input class=\"sk-toggleable__control sk-hidden--visually\" id=\"sk-estimator-id-1\" type=\"checkbox\" ><label for=\"sk-estimator-id-1\" class=\"sk-toggleable__label sk-toggleable__label-arrow\">GridSearchCV</label><div class=\"sk-toggleable__content\"><pre>GridSearchCV(cv=3, estimator=SVC(kernel=&#x27;linear&#x27;, random_state=42), n_jobs=-1,\n",
       "             param_grid={&#x27;C&#x27;: [0.1, 1, 10, 100, 1000],\n",
       "                         &#x27;gamma&#x27;: [1, 0.1, 0.01, 0.001, 0.0001],\n",
       "                         &#x27;kernel&#x27;: [&#x27;rbf&#x27;, &#x27;linear&#x27;]})</pre></div></div></div><div class=\"sk-parallel\"><div class=\"sk-parallel-item\"><div class=\"sk-item\"><div class=\"sk-label-container\"><div class=\"sk-label sk-toggleable\"><input class=\"sk-toggleable__control sk-hidden--visually\" id=\"sk-estimator-id-2\" type=\"checkbox\" ><label for=\"sk-estimator-id-2\" class=\"sk-toggleable__label sk-toggleable__label-arrow\">estimator: SVC</label><div class=\"sk-toggleable__content\"><pre>SVC(kernel=&#x27;linear&#x27;, random_state=42)</pre></div></div></div><div class=\"sk-serial\"><div class=\"sk-item\"><div class=\"sk-estimator sk-toggleable\"><input class=\"sk-toggleable__control sk-hidden--visually\" id=\"sk-estimator-id-3\" type=\"checkbox\" ><label for=\"sk-estimator-id-3\" class=\"sk-toggleable__label sk-toggleable__label-arrow\">SVC</label><div class=\"sk-toggleable__content\"><pre>SVC(kernel=&#x27;linear&#x27;, random_state=42)</pre></div></div></div></div></div></div></div></div></div></div>"
      ],
      "text/plain": [
       "GridSearchCV(cv=3, estimator=SVC(kernel='linear', random_state=42), n_jobs=-1,\n",
       "             param_grid={'C': [0.1, 1, 10, 100, 1000],\n",
       "                         'gamma': [1, 0.1, 0.01, 0.001, 0.0001],\n",
       "                         'kernel': ['rbf', 'linear']})"
      ]
     },
     "execution_count": 30,
     "metadata": {},
     "output_type": "execute_result"
    }
   ],
   "source": [
    "SVC_Classifier = SVC(kernel='linear', random_state=RAND_SEED)\n",
    "\n",
    "\n",
    "params = {'C': [0.1, 1, 10, 100, 1000], \n",
    "          'gamma': [1, 0.1, 0.01, 0.001, 0.0001],\n",
    "          'kernel': ['rbf', 'linear']} \n",
    "\n",
    "grid = GridSearchCV(SVC_Classifier, params, cv=N_SPLITS, n_jobs=-1)\n",
    "\n",
    "grid.fit(X_train_tratado, y_train)"
   ]
  },
  {
   "cell_type": "markdown",
   "id": "fc1ceb2f",
   "metadata": {},
   "source": [
    "Com o *fit* da nosso **Grid Search**, o modelo encontrou os melhores valores para cada parâmetro, daqueles especificados, que são:"
   ]
  },
  {
   "cell_type": "code",
   "execution_count": 31,
   "id": "17746a72",
   "metadata": {},
   "outputs": [
    {
     "name": "stdout",
     "output_type": "stream",
     "text": [
      "C: 1\n",
      "gamma: 1\n",
      "kernel: linear\n"
     ]
    }
   ],
   "source": [
    "for key in grid.best_params_.keys():\n",
    "    print(f\"{key}: {grid.best_params_[key]}\")"
   ]
  },
  {
   "cell_type": "markdown",
   "id": "3b359274",
   "metadata": {},
   "source": [
    "Assim, nossa grid de classificação está, agora, configurada com o melhor classificador dentro dos parâmetros escolhidos, por isso podemos usá-la para classificar o nosso grupo de testes e testar sua acurácia, mas antes é necessário aplicar o imputer escolhido para garantir a integridade dos dados de teste:"
   ]
  },
  {
   "cell_type": "code",
   "execution_count": 32,
   "id": "b68e84ff",
   "metadata": {},
   "outputs": [],
   "source": [
    "X_test_tratado = imputer.fit_transform(X_test)"
   ]
  },
  {
   "cell_type": "markdown",
   "id": "0faf713c",
   "metadata": {},
   "source": [
    "Agora sim, vou testar o modelo:"
   ]
  },
  {
   "cell_type": "code",
   "execution_count": 33,
   "id": "c576f975",
   "metadata": {},
   "outputs": [],
   "source": [
    "y_predito = grid.predict(X_test_tratado)"
   ]
  },
  {
   "cell_type": "markdown",
   "id": "bc3ae2c1",
   "metadata": {},
   "source": [
    "Analisando a acurácia e tiraando conclusões dos resultados utilizando outras ferramentas:"
   ]
  },
  {
   "cell_type": "code",
   "execution_count": 34,
   "id": "37ce07be",
   "metadata": {},
   "outputs": [],
   "source": [
    "from sklearn.metrics import accuracy_score, classification_report, confusion_matrix"
   ]
  },
  {
   "cell_type": "code",
   "execution_count": 35,
   "id": "df8a23c9",
   "metadata": {},
   "outputs": [
    {
     "name": "stdout",
     "output_type": "stream",
     "text": [
      "              precision    recall  f1-score   support\n",
      "\n",
      "           1       1.00      1.00      1.00        11\n",
      "           2       1.00      1.00      1.00         5\n",
      "           3       1.00      1.00      1.00         1\n",
      "           4       1.00      1.00      1.00         3\n",
      "           5       1.00      1.00      1.00         1\n",
      "           6       0.67      1.00      0.80         2\n",
      "           7       1.00      0.67      0.80         3\n",
      "\n",
      "    accuracy                           0.96        26\n",
      "   macro avg       0.95      0.95      0.94        26\n",
      "weighted avg       0.97      0.96      0.96        26\n",
      "\n"
     ]
    }
   ],
   "source": [
    "print(classification_report(y_test, y_predito))"
   ]
  },
  {
   "cell_type": "markdown",
   "id": "a4cec22f",
   "metadata": {},
   "source": [
    "Com o resultado obtido vemos que nosso modelo está muito bom para a classificação do teste, conseguindo uma **acurácia** de `96%`.\n",
    "\n",
    "Além da acurácia podemos visualizar de modo mais adequadamente os erros feitos em cada um dos tipos de animal por meio de um *heatmap* da `Matriz de Confusão` entre o **teste** e o que foi **predito**. Para isso vamos usar uma biblioteca de visualização chamada `seaborn`.\n",
    "\n",
    "Referência: [Medium](https://medium.com/@dtuk81/confusion-matrix-visualization-fc31e3f30fea)"
   ]
  },
  {
   "cell_type": "code",
   "execution_count": 36,
   "id": "12efdbfb",
   "metadata": {},
   "outputs": [],
   "source": [
    "import seaborn as sns"
   ]
  },
  {
   "cell_type": "code",
   "execution_count": 37,
   "id": "8a1c23a6",
   "metadata": {},
   "outputs": [
    {
     "data": {
      "image/png": "[encoded data removed]",
      "text/plain": [
       "<Figure size 640x480 with 2 Axes>"
      ]
     },
     "metadata": {},
     "output_type": "display_data"
    }
   ],
   "source": [
    "cf_matrix = confusion_matrix(y_test, y_predito)\n",
    "sns.heatmap(cf_matrix/np.sum(cf_matrix), annot=True, \n",
    "            fmt='.2%', cmap='Blues');"
   ]
  },
  {
   "cell_type": "markdown",
   "id": "e1228089",
   "metadata": {},
   "source": [
    "Pode-se averiguar que dentre a predição feita pelo modelo, ele classificou animais do tipo `6` como sendo do tipo `5`em **3,85%** das vezes totais. Ou seja, é correto afirmar que é um bom classificador, ainda mais com a quantidade reduzida de dados de treino."
   ]
  },
  {
   "cell_type": "markdown",
   "id": "c3ba72c4",
   "metadata": {},
   "source": [
    "## Relevância dos Atributos\n",
    "\n",
    "Com o melhor modelo de classificação, otimizado com os melhores hiperparâmetros encontrados, pode-se, agora, identificar quais os atributos têm maior relevância na escolha do tipo do animal.\n",
    "\n",
    "O próprio **Grid Search** já extrai esses atributos automaticamente, assim, é necessário somente acessar essa informação:"
   ]
  },
  {
   "cell_type": "code",
   "execution_count": 38,
   "id": "0aee7822",
   "metadata": {},
   "outputs": [
    {
     "data": {
      "text/html": [
       "<div>\n",
       "<style scoped>\n",
       "    .dataframe tbody tr th:only-of-type {\n",
       "        vertical-align: middle;\n",
       "    }\n",
       "\n",
       "    .dataframe tbody tr th {\n",
       "        vertical-align: top;\n",
       "    }\n",
       "\n",
       "    .dataframe thead th {\n",
       "        text-align: right;\n",
       "    }\n",
       "</style>\n",
       "<table border=\"1\" class=\"dataframe\">\n",
       "  <thead>\n",
       "    <tr style=\"text-align: right;\">\n",
       "      <th></th>\n",
       "      <th>Relevância</th>\n",
       "    </tr>\n",
       "  </thead>\n",
       "  <tbody>\n",
       "    <tr>\n",
       "      <th>milk</th>\n",
       "      <td>5.458812e-01</td>\n",
       "    </tr>\n",
       "    <tr>\n",
       "      <th>feathers</th>\n",
       "      <td>5.458812e-01</td>\n",
       "    </tr>\n",
       "    <tr>\n",
       "      <th>eggs</th>\n",
       "      <td>5.458812e-01</td>\n",
       "    </tr>\n",
       "    <tr>\n",
       "      <th>hair</th>\n",
       "      <td>3.085251e-01</td>\n",
       "    </tr>\n",
       "    <tr>\n",
       "      <th>toothed</th>\n",
       "      <td>2.949448e-01</td>\n",
       "    </tr>\n",
       "    <tr>\n",
       "      <th>fins</th>\n",
       "      <td>1.221785e-01</td>\n",
       "    </tr>\n",
       "    <tr>\n",
       "      <th>legs</th>\n",
       "      <td>2.716064e-02</td>\n",
       "    </tr>\n",
       "    <tr>\n",
       "      <th>predator</th>\n",
       "      <td>5.563706e-03</td>\n",
       "    </tr>\n",
       "    <tr>\n",
       "      <th>aquatic</th>\n",
       "      <td>4.892934e-03</td>\n",
       "    </tr>\n",
       "    <tr>\n",
       "      <th>catsize</th>\n",
       "      <td>8.647627e-04</td>\n",
       "    </tr>\n",
       "    <tr>\n",
       "      <th>airborne</th>\n",
       "      <td>5.190470e-04</td>\n",
       "    </tr>\n",
       "    <tr>\n",
       "      <th>backbone</th>\n",
       "      <td>2.220446e-16</td>\n",
       "    </tr>\n",
       "    <tr>\n",
       "      <th>breathes</th>\n",
       "      <td>2.220446e-16</td>\n",
       "    </tr>\n",
       "    <tr>\n",
       "      <th>tail</th>\n",
       "      <td>2.220446e-16</td>\n",
       "    </tr>\n",
       "    <tr>\n",
       "      <th>venomous</th>\n",
       "      <td>0.000000e+00</td>\n",
       "    </tr>\n",
       "    <tr>\n",
       "      <th>domestic</th>\n",
       "      <td>0.000000e+00</td>\n",
       "    </tr>\n",
       "  </tbody>\n",
       "</table>\n",
       "</div>"
      ],
      "text/plain": [
       "            Relevância\n",
       "milk      5.458812e-01\n",
       "feathers  5.458812e-01\n",
       "eggs      5.458812e-01\n",
       "hair      3.085251e-01\n",
       "toothed   2.949448e-01\n",
       "fins      1.221785e-01\n",
       "legs      2.716064e-02\n",
       "predator  5.563706e-03\n",
       "aquatic   4.892934e-03\n",
       "catsize   8.647627e-04\n",
       "airborne  5.190470e-04\n",
       "backbone  2.220446e-16\n",
       "breathes  2.220446e-16\n",
       "tail      2.220446e-16\n",
       "venomous  0.000000e+00\n",
       "domestic  0.000000e+00"
      ]
     },
     "execution_count": 38,
     "metadata": {},
     "output_type": "execute_result"
    }
   ],
   "source": [
    "df_relevancia_atributo = pd.DataFrame(abs(grid.best_estimator_.coef_[0]), index=X_test.columns, columns=[\"Relevância\"])\n",
    "df_relevancia_atributo.sort_values(by=['Relevância'], ascending=False)"
   ]
  },
  {
   "cell_type": "markdown",
   "id": "d8c0ea92",
   "metadata": {},
   "source": [
    "Podemos então concluir que, neste caso, os atributos mais relevantes não são necessariamente os com maior correlação com o **target**."
   ]
  },
  {
   "cell_type": "markdown",
   "id": "55d855ef",
   "metadata": {},
   "source": [
    "## Conjunto mínimo de Atributos Relevantes\n",
    "\n",
    "Com a lista de importância dos atributos do modelo organizada, podemos selecionar agora o conjunto mínimo de features que permitam uma acurácia de **90%** sobre a acurácia obtida pelo modelo encontrado com todas os atributos. Assim, queremos que nosso modelo tenha uma acurácia superior a `86,4%`. Para encontrar esse valor utilizarei alguns casos com maior ou menor número de atributos a avaliar a acurácia resultante."
   ]
  },
  {
   "cell_type": "code",
   "execution_count": 39,
   "id": "e951cf6a",
   "metadata": {},
   "outputs": [],
   "source": [
    "X_train_selected = X_train.loc[:, ['milk', 'feathers', 'eggs','hair', 'toothed', 'fins', 'legs']]\n",
    "X_test_selected = X_test.loc[:, ['milk', 'feathers', 'eggs','hair', 'toothed', 'fins', 'legs']]\n",
    "\n",
    "X_train_selected_tratado = imputer.fit_transform(X_train_selected)\n",
    "X_test_selected_tratado = imputer.fit_transform(X_test_selected)"
   ]
  },
  {
   "cell_type": "code",
   "execution_count": 40,
   "id": "9334a4c3",
   "metadata": {},
   "outputs": [
    {
     "data": {
      "text/html": [
       "<style>#sk-container-id-2 {color: black;background-color: white;}#sk-container-id-2 pre{padding: 0;}#sk-container-id-2 div.sk-toggleable {background-color: white;}#sk-container-id-2 label.sk-toggleable__label {cursor: pointer;display: block;width: 100%;margin-bottom: 0;padding: 0.3em;box-sizing: border-box;text-align: center;}#sk-container-id-2 label.sk-toggleable__label-arrow:before {content: \"▸\";float: left;margin-right: 0.25em;color: #696969;}#sk-container-id-2 label.sk-toggleable__label-arrow:hover:before {color: black;}#sk-container-id-2 div.sk-estimator:hover label.sk-toggleable__label-arrow:before {color: black;}#sk-container-id-2 div.sk-toggleable__content {max-height: 0;max-width: 0;overflow: hidden;text-align: left;background-color: #f0f8ff;}#sk-container-id-2 div.sk-toggleable__content pre {margin: 0.2em;color: black;border-radius: 0.25em;background-color: #f0f8ff;}#sk-container-id-2 input.sk-toggleable__control:checked~div.sk-toggleable__content {max-height: 200px;max-width: 100%;overflow: auto;}#sk-container-id-2 input.sk-toggleable__control:checked~label.sk-toggleable__label-arrow:before {content: \"▾\";}#sk-container-id-2 div.sk-estimator input.sk-toggleable__control:checked~label.sk-toggleable__label {background-color: #d4ebff;}#sk-container-id-2 div.sk-label input.sk-toggleable__control:checked~label.sk-toggleable__label {background-color: #d4ebff;}#sk-container-id-2 input.sk-hidden--visually {border: 0;clip: rect(1px 1px 1px 1px);clip: rect(1px, 1px, 1px, 1px);height: 1px;margin: -1px;overflow: hidden;padding: 0;position: absolute;width: 1px;}#sk-container-id-2 div.sk-estimator {font-family: monospace;background-color: #f0f8ff;border: 1px dotted black;border-radius: 0.25em;box-sizing: border-box;margin-bottom: 0.5em;}#sk-container-id-2 div.sk-estimator:hover {background-color: #d4ebff;}#sk-container-id-2 div.sk-parallel-item::after {content: \"\";width: 100%;border-bottom: 1px solid gray;flex-grow: 1;}#sk-container-id-2 div.sk-label:hover label.sk-toggleable__label {background-color: #d4ebff;}#sk-container-id-2 div.sk-serial::before {content: \"\";position: absolute;border-left: 1px solid gray;box-sizing: border-box;top: 0;bottom: 0;left: 50%;z-index: 0;}#sk-container-id-2 div.sk-serial {display: flex;flex-direction: column;align-items: center;background-color: white;padding-right: 0.2em;padding-left: 0.2em;position: relative;}#sk-container-id-2 div.sk-item {position: relative;z-index: 1;}#sk-container-id-2 div.sk-parallel {display: flex;align-items: stretch;justify-content: center;background-color: white;position: relative;}#sk-container-id-2 div.sk-item::before, #sk-container-id-2 div.sk-parallel-item::before {content: \"\";position: absolute;border-left: 1px solid gray;box-sizing: border-box;top: 0;bottom: 0;left: 50%;z-index: -1;}#sk-container-id-2 div.sk-parallel-item {display: flex;flex-direction: column;z-index: 1;position: relative;background-color: white;}#sk-container-id-2 div.sk-parallel-item:first-child::after {align-self: flex-end;width: 50%;}#sk-container-id-2 div.sk-parallel-item:last-child::after {align-self: flex-start;width: 50%;}#sk-container-id-2 div.sk-parallel-item:only-child::after {width: 0;}#sk-container-id-2 div.sk-dashed-wrapped {border: 1px dashed gray;margin: 0 0.4em 0.5em 0.4em;box-sizing: border-box;padding-bottom: 0.4em;background-color: white;}#sk-container-id-2 div.sk-label label {font-family: monospace;font-weight: bold;display: inline-block;line-height: 1.2em;}#sk-container-id-2 div.sk-label-container {text-align: center;}#sk-container-id-2 div.sk-container {/* jupyter's `normalize.less` sets `[hidden] { display: none; }` but bootstrap.min.css set `[hidden] { display: none !important; }` so we also need the `!important` here to be able to override the default hidden behavior on the sphinx rendered scikit-learn.org. See: https://github.com/scikit-learn/scikit-learn/issues/21755 */display: inline-block !important;position: relative;}#sk-container-id-2 div.sk-text-repr-fallback {display: none;}</style><div id=\"sk-container-id-2\" class=\"sk-top-container\"><div class=\"sk-text-repr-fallback\"><pre>GridSearchCV(cv=3, estimator=SVC(kernel=&#x27;linear&#x27;, random_state=42), n_jobs=-1,\n",
       "             param_grid={&#x27;C&#x27;: [0.1, 1, 10, 100, 1000],\n",
       "                         &#x27;gamma&#x27;: [1, 0.1, 0.01, 0.001, 0.0001],\n",
       "                         &#x27;kernel&#x27;: [&#x27;rbf&#x27;, &#x27;linear&#x27;]})</pre><b>In a Jupyter environment, please rerun this cell to show the HTML representation or trust the notebook. <br />On GitHub, the HTML representation is unable to render, please try loading this page with nbviewer.org.</b></div><div class=\"sk-container\" hidden><div class=\"sk-item sk-dashed-wrapped\"><div class=\"sk-label-container\"><div class=\"sk-label sk-toggleable\"><input class=\"sk-toggleable__control sk-hidden--visually\" id=\"sk-estimator-id-4\" type=\"checkbox\" ><label for=\"sk-estimator-id-4\" class=\"sk-toggleable__label sk-toggleable__label-arrow\">GridSearchCV</label><div class=\"sk-toggleable__content\"><pre>GridSearchCV(cv=3, estimator=SVC(kernel=&#x27;linear&#x27;, random_state=42), n_jobs=-1,\n",
       "             param_grid={&#x27;C&#x27;: [0.1, 1, 10, 100, 1000],\n",
       "                         &#x27;gamma&#x27;: [1, 0.1, 0.01, 0.001, 0.0001],\n",
       "                         &#x27;kernel&#x27;: [&#x27;rbf&#x27;, &#x27;linear&#x27;]})</pre></div></div></div><div class=\"sk-parallel\"><div class=\"sk-parallel-item\"><div class=\"sk-item\"><div class=\"sk-label-container\"><div class=\"sk-label sk-toggleable\"><input class=\"sk-toggleable__control sk-hidden--visually\" id=\"sk-estimator-id-5\" type=\"checkbox\" ><label for=\"sk-estimator-id-5\" class=\"sk-toggleable__label sk-toggleable__label-arrow\">estimator: SVC</label><div class=\"sk-toggleable__content\"><pre>SVC(kernel=&#x27;linear&#x27;, random_state=42)</pre></div></div></div><div class=\"sk-serial\"><div class=\"sk-item\"><div class=\"sk-estimator sk-toggleable\"><input class=\"sk-toggleable__control sk-hidden--visually\" id=\"sk-estimator-id-6\" type=\"checkbox\" ><label for=\"sk-estimator-id-6\" class=\"sk-toggleable__label sk-toggleable__label-arrow\">SVC</label><div class=\"sk-toggleable__content\"><pre>SVC(kernel=&#x27;linear&#x27;, random_state=42)</pre></div></div></div></div></div></div></div></div></div></div>"
      ],
      "text/plain": [
       "GridSearchCV(cv=3, estimator=SVC(kernel='linear', random_state=42), n_jobs=-1,\n",
       "             param_grid={'C': [0.1, 1, 10, 100, 1000],\n",
       "                         'gamma': [1, 0.1, 0.01, 0.001, 0.0001],\n",
       "                         'kernel': ['rbf', 'linear']})"
      ]
     },
     "execution_count": 40,
     "metadata": {},
     "output_type": "execute_result"
    }
   ],
   "source": [
    "grid_selected = GridSearchCV(SVC_Classifier, params, cv=N_SPLITS, n_jobs=-1)\n",
    "\n",
    "grid_selected.fit(X_train_selected_tratado, y_train)"
   ]
  },
  {
   "cell_type": "code",
   "execution_count": 41,
   "id": "90c955d8",
   "metadata": {},
   "outputs": [
    {
     "name": "stdout",
     "output_type": "stream",
     "text": [
      "              precision    recall  f1-score   support\n",
      "\n",
      "           1       1.00      1.00      1.00        11\n",
      "           2       1.00      1.00      1.00         5\n",
      "           3       1.00      1.00      1.00         1\n",
      "           4       1.00      1.00      1.00         3\n",
      "           5       0.50      1.00      0.67         1\n",
      "           6       0.67      1.00      0.80         2\n",
      "           7       1.00      0.33      0.50         3\n",
      "\n",
      "    accuracy                           0.92        26\n",
      "   macro avg       0.88      0.90      0.85        26\n",
      "weighted avg       0.96      0.92      0.91        26\n",
      "\n"
     ]
    }
   ],
   "source": [
    "y_predito_selected = grid_selected.predict(X_test_selected_tratado)\n",
    "print(classification_report(y_test, y_predito_selected))"
   ]
  },
  {
   "cell_type": "markdown",
   "id": "4c8076e0",
   "metadata": {},
   "source": [
    "Aqui percebemos que a acurácia está ainda acima do desejado, portanto vou reduzir mais um atributo da lista."
   ]
  },
  {
   "cell_type": "code",
   "execution_count": 42,
   "id": "c8b7a9e7",
   "metadata": {},
   "outputs": [],
   "source": [
    "X_train_selected2 = X_train.loc[:, ['milk', 'feathers', 'eggs','hair', 'toothed', 'fins']]\n",
    "X_test_selected2 = X_test.loc[:, ['milk', 'feathers', 'eggs','hair', 'toothed', 'fins']]\n",
    "\n",
    "X_train_selected_tratado2 = imputer.fit_transform(X_train_selected2)\n",
    "X_test_selected_tratado2 = imputer.fit_transform(X_test_selected2)"
   ]
  },
  {
   "cell_type": "code",
   "execution_count": 43,
   "id": "40959a6e",
   "metadata": {},
   "outputs": [
    {
     "data": {
      "text/html": [
       "<style>#sk-container-id-3 {color: black;background-color: white;}#sk-container-id-3 pre{padding: 0;}#sk-container-id-3 div.sk-toggleable {background-color: white;}#sk-container-id-3 label.sk-toggleable__label {cursor: pointer;display: block;width: 100%;margin-bottom: 0;padding: 0.3em;box-sizing: border-box;text-align: center;}#sk-container-id-3 label.sk-toggleable__label-arrow:before {content: \"▸\";float: left;margin-right: 0.25em;color: #696969;}#sk-container-id-3 label.sk-toggleable__label-arrow:hover:before {color: black;}#sk-container-id-3 div.sk-estimator:hover label.sk-toggleable__label-arrow:before {color: black;}#sk-container-id-3 div.sk-toggleable__content {max-height: 0;max-width: 0;overflow: hidden;text-align: left;background-color: #f0f8ff;}#sk-container-id-3 div.sk-toggleable__content pre {margin: 0.2em;color: black;border-radius: 0.25em;background-color: #f0f8ff;}#sk-container-id-3 input.sk-toggleable__control:checked~div.sk-toggleable__content {max-height: 200px;max-width: 100%;overflow: auto;}#sk-container-id-3 input.sk-toggleable__control:checked~label.sk-toggleable__label-arrow:before {content: \"▾\";}#sk-container-id-3 div.sk-estimator input.sk-toggleable__control:checked~label.sk-toggleable__label {background-color: #d4ebff;}#sk-container-id-3 div.sk-label input.sk-toggleable__control:checked~label.sk-toggleable__label {background-color: #d4ebff;}#sk-container-id-3 input.sk-hidden--visually {border: 0;clip: rect(1px 1px 1px 1px);clip: rect(1px, 1px, 1px, 1px);height: 1px;margin: -1px;overflow: hidden;padding: 0;position: absolute;width: 1px;}#sk-container-id-3 div.sk-estimator {font-family: monospace;background-color: #f0f8ff;border: 1px dotted black;border-radius: 0.25em;box-sizing: border-box;margin-bottom: 0.5em;}#sk-container-id-3 div.sk-estimator:hover {background-color: #d4ebff;}#sk-container-id-3 div.sk-parallel-item::after {content: \"\";width: 100%;border-bottom: 1px solid gray;flex-grow: 1;}#sk-container-id-3 div.sk-label:hover label.sk-toggleable__label {background-color: #d4ebff;}#sk-container-id-3 div.sk-serial::before {content: \"\";position: absolute;border-left: 1px solid gray;box-sizing: border-box;top: 0;bottom: 0;left: 50%;z-index: 0;}#sk-container-id-3 div.sk-serial {display: flex;flex-direction: column;align-items: center;background-color: white;padding-right: 0.2em;padding-left: 0.2em;position: relative;}#sk-container-id-3 div.sk-item {position: relative;z-index: 1;}#sk-container-id-3 div.sk-parallel {display: flex;align-items: stretch;justify-content: center;background-color: white;position: relative;}#sk-container-id-3 div.sk-item::before, #sk-container-id-3 div.sk-parallel-item::before {content: \"\";position: absolute;border-left: 1px solid gray;box-sizing: border-box;top: 0;bottom: 0;left: 50%;z-index: -1;}#sk-container-id-3 div.sk-parallel-item {display: flex;flex-direction: column;z-index: 1;position: relative;background-color: white;}#sk-container-id-3 div.sk-parallel-item:first-child::after {align-self: flex-end;width: 50%;}#sk-container-id-3 div.sk-parallel-item:last-child::after {align-self: flex-start;width: 50%;}#sk-container-id-3 div.sk-parallel-item:only-child::after {width: 0;}#sk-container-id-3 div.sk-dashed-wrapped {border: 1px dashed gray;margin: 0 0.4em 0.5em 0.4em;box-sizing: border-box;padding-bottom: 0.4em;background-color: white;}#sk-container-id-3 div.sk-label label {font-family: monospace;font-weight: bold;display: inline-block;line-height: 1.2em;}#sk-container-id-3 div.sk-label-container {text-align: center;}#sk-container-id-3 div.sk-container {/* jupyter's `normalize.less` sets `[hidden] { display: none; }` but bootstrap.min.css set `[hidden] { display: none !important; }` so we also need the `!important` here to be able to override the default hidden behavior on the sphinx rendered scikit-learn.org. See: https://github.com/scikit-learn/scikit-learn/issues/21755 */display: inline-block !important;position: relative;}#sk-container-id-3 div.sk-text-repr-fallback {display: none;}</style><div id=\"sk-container-id-3\" class=\"sk-top-container\"><div class=\"sk-text-repr-fallback\"><pre>GridSearchCV(cv=3, estimator=SVC(kernel=&#x27;linear&#x27;, random_state=42), n_jobs=-1,\n",
       "             param_grid={&#x27;C&#x27;: [0.1, 1, 10, 100, 1000],\n",
       "                         &#x27;gamma&#x27;: [1, 0.1, 0.01, 0.001, 0.0001],\n",
       "                         &#x27;kernel&#x27;: [&#x27;rbf&#x27;, &#x27;linear&#x27;]})</pre><b>In a Jupyter environment, please rerun this cell to show the HTML representation or trust the notebook. <br />On GitHub, the HTML representation is unable to render, please try loading this page with nbviewer.org.</b></div><div class=\"sk-container\" hidden><div class=\"sk-item sk-dashed-wrapped\"><div class=\"sk-label-container\"><div class=\"sk-label sk-toggleable\"><input class=\"sk-toggleable__control sk-hidden--visually\" id=\"sk-estimator-id-7\" type=\"checkbox\" ><label for=\"sk-estimator-id-7\" class=\"sk-toggleable__label sk-toggleable__label-arrow\">GridSearchCV</label><div class=\"sk-toggleable__content\"><pre>GridSearchCV(cv=3, estimator=SVC(kernel=&#x27;linear&#x27;, random_state=42), n_jobs=-1,\n",
       "             param_grid={&#x27;C&#x27;: [0.1, 1, 10, 100, 1000],\n",
       "                         &#x27;gamma&#x27;: [1, 0.1, 0.01, 0.001, 0.0001],\n",
       "                         &#x27;kernel&#x27;: [&#x27;rbf&#x27;, &#x27;linear&#x27;]})</pre></div></div></div><div class=\"sk-parallel\"><div class=\"sk-parallel-item\"><div class=\"sk-item\"><div class=\"sk-label-container\"><div class=\"sk-label sk-toggleable\"><input class=\"sk-toggleable__control sk-hidden--visually\" id=\"sk-estimator-id-8\" type=\"checkbox\" ><label for=\"sk-estimator-id-8\" class=\"sk-toggleable__label sk-toggleable__label-arrow\">estimator: SVC</label><div class=\"sk-toggleable__content\"><pre>SVC(kernel=&#x27;linear&#x27;, random_state=42)</pre></div></div></div><div class=\"sk-serial\"><div class=\"sk-item\"><div class=\"sk-estimator sk-toggleable\"><input class=\"sk-toggleable__control sk-hidden--visually\" id=\"sk-estimator-id-9\" type=\"checkbox\" ><label for=\"sk-estimator-id-9\" class=\"sk-toggleable__label sk-toggleable__label-arrow\">SVC</label><div class=\"sk-toggleable__content\"><pre>SVC(kernel=&#x27;linear&#x27;, random_state=42)</pre></div></div></div></div></div></div></div></div></div></div>"
      ],
      "text/plain": [
       "GridSearchCV(cv=3, estimator=SVC(kernel='linear', random_state=42), n_jobs=-1,\n",
       "             param_grid={'C': [0.1, 1, 10, 100, 1000],\n",
       "                         'gamma': [1, 0.1, 0.01, 0.001, 0.0001],\n",
       "                         'kernel': ['rbf', 'linear']})"
      ]
     },
     "execution_count": 43,
     "metadata": {},
     "output_type": "execute_result"
    }
   ],
   "source": [
    "grid_selected = GridSearchCV(SVC_Classifier, params, cv=N_SPLITS, n_jobs=-1)\n",
    "\n",
    "grid_selected.fit(X_train_selected_tratado2, y_train)"
   ]
  },
  {
   "cell_type": "code",
   "execution_count": 44,
   "id": "5da3fd1f",
   "metadata": {},
   "outputs": [
    {
     "name": "stdout",
     "output_type": "stream",
     "text": [
      "              precision    recall  f1-score   support\n",
      "\n",
      "           1       1.00      1.00      1.00        11\n",
      "           2       1.00      0.80      0.89         5\n",
      "           3       1.00      1.00      1.00         1\n",
      "           4       0.75      1.00      0.86         3\n",
      "           5       0.00      0.00      0.00         1\n",
      "           6       1.00      0.50      0.67         2\n",
      "           7       0.60      1.00      0.75         3\n",
      "\n",
      "    accuracy                           0.88        26\n",
      "   macro avg       0.76      0.76      0.74        26\n",
      "weighted avg       0.89      0.88      0.87        26\n",
      "\n"
     ]
    },
    {
     "name": "stderr",
     "output_type": "stream",
     "text": [
      "/Users/fpj_mac/Desktop/Insper/6ºSemestre/MachineLearning/venv/lib/python3.9/site-packages/sklearn/metrics/_classification.py:1334: UndefinedMetricWarning: Precision and F-score are ill-defined and being set to 0.0 in labels with no predicted samples. Use `zero_division` parameter to control this behavior.\n",
      "  _warn_prf(average, modifier, msg_start, len(result))\n",
      "/Users/fpj_mac/Desktop/Insper/6ºSemestre/MachineLearning/venv/lib/python3.9/site-packages/sklearn/metrics/_classification.py:1334: UndefinedMetricWarning: Precision and F-score are ill-defined and being set to 0.0 in labels with no predicted samples. Use `zero_division` parameter to control this behavior.\n",
      "  _warn_prf(average, modifier, msg_start, len(result))\n",
      "/Users/fpj_mac/Desktop/Insper/6ºSemestre/MachineLearning/venv/lib/python3.9/site-packages/sklearn/metrics/_classification.py:1334: UndefinedMetricWarning: Precision and F-score are ill-defined and being set to 0.0 in labels with no predicted samples. Use `zero_division` parameter to control this behavior.\n",
      "  _warn_prf(average, modifier, msg_start, len(result))\n"
     ]
    }
   ],
   "source": [
    "y_predito_selected2 = grid_selected.predict(X_test_selected_tratado2)\n",
    "print(classification_report(y_test, y_predito_selected2))"
   ]
  },
  {
   "cell_type": "markdown",
   "id": "ed8df18d",
   "metadata": {},
   "source": [
    "Na segunda tentativa, ainda está acima da acurácia desejada, vou testar a redução de mais um atributo"
   ]
  },
  {
   "cell_type": "code",
   "execution_count": 45,
   "id": "fa5a73b3",
   "metadata": {},
   "outputs": [],
   "source": [
    "X_train_selected3 = X_train.loc[:, ['milk', 'feathers', 'eggs','hair', 'toothed']]\n",
    "X_test_selected3 = X_test.loc[:, ['milk', 'feathers', 'eggs','hair', 'toothed']]\n",
    "\n",
    "X_train_selected_tratado3 = imputer.fit_transform(X_train_selected3)\n",
    "X_test_selected_tratado3 = imputer.fit_transform(X_test_selected3)"
   ]
  },
  {
   "cell_type": "code",
   "execution_count": 46,
   "id": "51814b19",
   "metadata": {},
   "outputs": [
    {
     "data": {
      "text/html": [
       "<style>#sk-container-id-4 {color: black;background-color: white;}#sk-container-id-4 pre{padding: 0;}#sk-container-id-4 div.sk-toggleable {background-color: white;}#sk-container-id-4 label.sk-toggleable__label {cursor: pointer;display: block;width: 100%;margin-bottom: 0;padding: 0.3em;box-sizing: border-box;text-align: center;}#sk-container-id-4 label.sk-toggleable__label-arrow:before {content: \"▸\";float: left;margin-right: 0.25em;color: #696969;}#sk-container-id-4 label.sk-toggleable__label-arrow:hover:before {color: black;}#sk-container-id-4 div.sk-estimator:hover label.sk-toggleable__label-arrow:before {color: black;}#sk-container-id-4 div.sk-toggleable__content {max-height: 0;max-width: 0;overflow: hidden;text-align: left;background-color: #f0f8ff;}#sk-container-id-4 div.sk-toggleable__content pre {margin: 0.2em;color: black;border-radius: 0.25em;background-color: #f0f8ff;}#sk-container-id-4 input.sk-toggleable__control:checked~div.sk-toggleable__content {max-height: 200px;max-width: 100%;overflow: auto;}#sk-container-id-4 input.sk-toggleable__control:checked~label.sk-toggleable__label-arrow:before {content: \"▾\";}#sk-container-id-4 div.sk-estimator input.sk-toggleable__control:checked~label.sk-toggleable__label {background-color: #d4ebff;}#sk-container-id-4 div.sk-label input.sk-toggleable__control:checked~label.sk-toggleable__label {background-color: #d4ebff;}#sk-container-id-4 input.sk-hidden--visually {border: 0;clip: rect(1px 1px 1px 1px);clip: rect(1px, 1px, 1px, 1px);height: 1px;margin: -1px;overflow: hidden;padding: 0;position: absolute;width: 1px;}#sk-container-id-4 div.sk-estimator {font-family: monospace;background-color: #f0f8ff;border: 1px dotted black;border-radius: 0.25em;box-sizing: border-box;margin-bottom: 0.5em;}#sk-container-id-4 div.sk-estimator:hover {background-color: #d4ebff;}#sk-container-id-4 div.sk-parallel-item::after {content: \"\";width: 100%;border-bottom: 1px solid gray;flex-grow: 1;}#sk-container-id-4 div.sk-label:hover label.sk-toggleable__label {background-color: #d4ebff;}#sk-container-id-4 div.sk-serial::before {content: \"\";position: absolute;border-left: 1px solid gray;box-sizing: border-box;top: 0;bottom: 0;left: 50%;z-index: 0;}#sk-container-id-4 div.sk-serial {display: flex;flex-direction: column;align-items: center;background-color: white;padding-right: 0.2em;padding-left: 0.2em;position: relative;}#sk-container-id-4 div.sk-item {position: relative;z-index: 1;}#sk-container-id-4 div.sk-parallel {display: flex;align-items: stretch;justify-content: center;background-color: white;position: relative;}#sk-container-id-4 div.sk-item::before, #sk-container-id-4 div.sk-parallel-item::before {content: \"\";position: absolute;border-left: 1px solid gray;box-sizing: border-box;top: 0;bottom: 0;left: 50%;z-index: -1;}#sk-container-id-4 div.sk-parallel-item {display: flex;flex-direction: column;z-index: 1;position: relative;background-color: white;}#sk-container-id-4 div.sk-parallel-item:first-child::after {align-self: flex-end;width: 50%;}#sk-container-id-4 div.sk-parallel-item:last-child::after {align-self: flex-start;width: 50%;}#sk-container-id-4 div.sk-parallel-item:only-child::after {width: 0;}#sk-container-id-4 div.sk-dashed-wrapped {border: 1px dashed gray;margin: 0 0.4em 0.5em 0.4em;box-sizing: border-box;padding-bottom: 0.4em;background-color: white;}#sk-container-id-4 div.sk-label label {font-family: monospace;font-weight: bold;display: inline-block;line-height: 1.2em;}#sk-container-id-4 div.sk-label-container {text-align: center;}#sk-container-id-4 div.sk-container {/* jupyter's `normalize.less` sets `[hidden] { display: none; }` but bootstrap.min.css set `[hidden] { display: none !important; }` so we also need the `!important` here to be able to override the default hidden behavior on the sphinx rendered scikit-learn.org. See: https://github.com/scikit-learn/scikit-learn/issues/21755 */display: inline-block !important;position: relative;}#sk-container-id-4 div.sk-text-repr-fallback {display: none;}</style><div id=\"sk-container-id-4\" class=\"sk-top-container\"><div class=\"sk-text-repr-fallback\"><pre>GridSearchCV(cv=3, estimator=SVC(kernel=&#x27;linear&#x27;, random_state=42), n_jobs=-1,\n",
       "             param_grid={&#x27;C&#x27;: [0.1, 1, 10, 100, 1000],\n",
       "                         &#x27;gamma&#x27;: [1, 0.1, 0.01, 0.001, 0.0001],\n",
       "                         &#x27;kernel&#x27;: [&#x27;rbf&#x27;, &#x27;linear&#x27;]})</pre><b>In a Jupyter environment, please rerun this cell to show the HTML representation or trust the notebook. <br />On GitHub, the HTML representation is unable to render, please try loading this page with nbviewer.org.</b></div><div class=\"sk-container\" hidden><div class=\"sk-item sk-dashed-wrapped\"><div class=\"sk-label-container\"><div class=\"sk-label sk-toggleable\"><input class=\"sk-toggleable__control sk-hidden--visually\" id=\"sk-estimator-id-10\" type=\"checkbox\" ><label for=\"sk-estimator-id-10\" class=\"sk-toggleable__label sk-toggleable__label-arrow\">GridSearchCV</label><div class=\"sk-toggleable__content\"><pre>GridSearchCV(cv=3, estimator=SVC(kernel=&#x27;linear&#x27;, random_state=42), n_jobs=-1,\n",
       "             param_grid={&#x27;C&#x27;: [0.1, 1, 10, 100, 1000],\n",
       "                         &#x27;gamma&#x27;: [1, 0.1, 0.01, 0.001, 0.0001],\n",
       "                         &#x27;kernel&#x27;: [&#x27;rbf&#x27;, &#x27;linear&#x27;]})</pre></div></div></div><div class=\"sk-parallel\"><div class=\"sk-parallel-item\"><div class=\"sk-item\"><div class=\"sk-label-container\"><div class=\"sk-label sk-toggleable\"><input class=\"sk-toggleable__control sk-hidden--visually\" id=\"sk-estimator-id-11\" type=\"checkbox\" ><label for=\"sk-estimator-id-11\" class=\"sk-toggleable__label sk-toggleable__label-arrow\">estimator: SVC</label><div class=\"sk-toggleable__content\"><pre>SVC(kernel=&#x27;linear&#x27;, random_state=42)</pre></div></div></div><div class=\"sk-serial\"><div class=\"sk-item\"><div class=\"sk-estimator sk-toggleable\"><input class=\"sk-toggleable__control sk-hidden--visually\" id=\"sk-estimator-id-12\" type=\"checkbox\" ><label for=\"sk-estimator-id-12\" class=\"sk-toggleable__label sk-toggleable__label-arrow\">SVC</label><div class=\"sk-toggleable__content\"><pre>SVC(kernel=&#x27;linear&#x27;, random_state=42)</pre></div></div></div></div></div></div></div></div></div></div>"
      ],
      "text/plain": [
       "GridSearchCV(cv=3, estimator=SVC(kernel='linear', random_state=42), n_jobs=-1,\n",
       "             param_grid={'C': [0.1, 1, 10, 100, 1000],\n",
       "                         'gamma': [1, 0.1, 0.01, 0.001, 0.0001],\n",
       "                         'kernel': ['rbf', 'linear']})"
      ]
     },
     "execution_count": 46,
     "metadata": {},
     "output_type": "execute_result"
    }
   ],
   "source": [
    "grid_selected = GridSearchCV(SVC_Classifier, params, cv=N_SPLITS, n_jobs=-1)\n",
    "\n",
    "grid_selected.fit(X_train_selected_tratado3, y_train)"
   ]
  },
  {
   "cell_type": "code",
   "execution_count": 47,
   "id": "81533413",
   "metadata": {},
   "outputs": [
    {
     "name": "stdout",
     "output_type": "stream",
     "text": [
      "              precision    recall  f1-score   support\n",
      "\n",
      "           1       1.00      1.00      1.00        11\n",
      "           2       1.00      0.80      0.89         5\n",
      "           3       0.00      0.00      0.00         1\n",
      "           4       0.50      1.00      0.67         3\n",
      "           5       0.00      0.00      0.00         1\n",
      "           6       1.00      0.50      0.67         2\n",
      "           7       0.50      0.67      0.57         3\n",
      "\n",
      "    accuracy                           0.81        26\n",
      "   macro avg       0.57      0.57      0.54        26\n",
      "weighted avg       0.81      0.81      0.79        26\n",
      "\n"
     ]
    },
    {
     "name": "stderr",
     "output_type": "stream",
     "text": [
      "/Users/fpj_mac/Desktop/Insper/6ºSemestre/MachineLearning/venv/lib/python3.9/site-packages/sklearn/metrics/_classification.py:1334: UndefinedMetricWarning: Precision and F-score are ill-defined and being set to 0.0 in labels with no predicted samples. Use `zero_division` parameter to control this behavior.\n",
      "  _warn_prf(average, modifier, msg_start, len(result))\n",
      "/Users/fpj_mac/Desktop/Insper/6ºSemestre/MachineLearning/venv/lib/python3.9/site-packages/sklearn/metrics/_classification.py:1334: UndefinedMetricWarning: Precision and F-score are ill-defined and being set to 0.0 in labels with no predicted samples. Use `zero_division` parameter to control this behavior.\n",
      "  _warn_prf(average, modifier, msg_start, len(result))\n",
      "/Users/fpj_mac/Desktop/Insper/6ºSemestre/MachineLearning/venv/lib/python3.9/site-packages/sklearn/metrics/_classification.py:1334: UndefinedMetricWarning: Precision and F-score are ill-defined and being set to 0.0 in labels with no predicted samples. Use `zero_division` parameter to control this behavior.\n",
      "  _warn_prf(average, modifier, msg_start, len(result))\n"
     ]
    }
   ],
   "source": [
    "y_predito_selected3 = grid_selected.predict(X_test_selected_tratado3)\n",
    "print(classification_report(y_test, y_predito_selected3))"
   ]
  },
  {
   "cell_type": "markdown",
   "id": "db764885",
   "metadata": {},
   "source": [
    "Avaliando então os resultados, obtemos que com os *6* atributos mais relevantes para o modelo, a acurácia está acima dos `86,4%` desejado com o mínimo de atributos possível. Essa lista é formada, em ordem de importância por:\n",
    "\n",
    "- **milk**\n",
    "- **feathers**\n",
    "- **eggs**\n",
    "- **hair**\n",
    "- **toothed**\n",
    "- **fins**\n",
    "\n",
    "Para avaliar a diferença entre o modelo completo e esta redução, vamos também aplicar uma matrix de correlação:"
   ]
  },
  {
   "cell_type": "code",
   "execution_count": 48,
   "id": "be5b4a75",
   "metadata": {},
   "outputs": [
    {
     "data": {
      "image/png": "[encoded data removed]",
      "text/plain": [
       "<Figure size 640x480 with 2 Axes>"
      ]
     },
     "metadata": {},
     "output_type": "display_data"
    }
   ],
   "source": [
    "cf_matrix = confusion_matrix(y_test, y_predito_selected2)\n",
    "sns.heatmap(cf_matrix/np.sum(cf_matrix), annot=True, \n",
    "            fmt='.2%', cmap='Blues');"
   ]
  },
  {
   "cell_type": "markdown",
   "id": "e7200e0e",
   "metadata": {},
   "source": [
    "Vemos então, que não houve nenhum tipo de animal classificado como `4` pelo modelo, foram todos classificados como do tipo `3`. Além disso, temos que outra grande parte dos erros o modelo escolheu atribuir o tipo `6` erroneamente, o que pode indiciar um viés que pode ter cido atribuido à retirada de algum atributo importante."
   ]
  },
  {
   "cell_type": "markdown",
   "id": "f61ab886",
   "metadata": {},
   "source": [
    "EOF"
   ]
  }
 ],
 "metadata": {
  "kernelspec": {
   "display_name": "Python 3 (ipykernel)",
   "language": "python",
   "name": "python3"
  },
  "language_info": {
   "codemirror_mode": {
    "name": "ipython",
    "version": 3
   },
   "file_extension": ".py",
   "mimetype": "text/x-python",
   "name": "python",
   "nbconvert_exporter": "python",
   "pygments_lexer": "ipython3",
   "version": "3.9.2"
  }
 },
 "nbformat": 4,
 "nbformat_minor": 5
}
