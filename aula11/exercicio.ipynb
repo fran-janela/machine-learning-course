{
 "cells": [
  {
   "cell_type": "code",
   "execution_count": 1,
   "id": "344ebab6-c6f8-4dcd-b2b1-f42b3804e230",
   "metadata": {},
   "outputs": [],
   "source": [
    "from sklearn.datasets import fetch_california_housing\n",
    "\n",
    "housing = fetch_california_housing()"
   ]
  },
  {
   "cell_type": "code",
   "execution_count": 2,
   "id": "91bdb1d6-ba82-4f01-9f68-0c49f9338e19",
   "metadata": {},
   "outputs": [
    {
     "name": "stdout",
     "output_type": "stream",
     "text": [
      ".. _california_housing_dataset:\n",
      "\n",
      "California Housing dataset\n",
      "--------------------------\n",
      "\n",
      "**Data Set Characteristics:**\n",
      "\n",
      "    :Number of Instances: 20640\n",
      "\n",
      "    :Number of Attributes: 8 numeric, predictive attributes and the target\n",
      "\n",
      "    :Attribute Information:\n",
      "        - MedInc        median income in block group\n",
      "        - HouseAge      median house age in block group\n",
      "        - AveRooms      average number of rooms per household\n",
      "        - AveBedrms     average number of bedrooms per household\n",
      "        - Population    block group population\n",
      "        - AveOccup      average number of household members\n",
      "        - Latitude      block group latitude\n",
      "        - Longitude     block group longitude\n",
      "\n",
      "    :Missing Attribute Values: None\n",
      "\n",
      "This dataset was obtained from the StatLib repository.\n",
      "https://www.dcc.fc.up.pt/~ltorgo/Regression/cal_housing.html\n",
      "\n",
      "The target variable is the median house value for California districts,\n",
      "expressed in hundreds of thousands of dollars ($100,000).\n",
      "\n",
      "This dataset was derived from the 1990 U.S. census, using one row per census\n",
      "block group. A block group is the smallest geographical unit for which the U.S.\n",
      "Census Bureau publishes sample data (a block group typically has a population\n",
      "of 600 to 3,000 people).\n",
      "\n",
      "An household is a group of people residing within a home. Since the average\n",
      "number of rooms and bedrooms in this dataset are provided per household, these\n",
      "columns may take surpinsingly large values for block groups with few households\n",
      "and many empty houses, such as vacation resorts.\n",
      "\n",
      "It can be downloaded/loaded using the\n",
      ":func:`sklearn.datasets.fetch_california_housing` function.\n",
      "\n",
      ".. topic:: References\n",
      "\n",
      "    - Pace, R. Kelley and Ronald Barry, Sparse Spatial Autoregressions,\n",
      "      Statistics and Probability Letters, 33 (1997) 291-297\n",
      "\n"
     ]
    }
   ],
   "source": [
    "print(housing['DESCR'])"
   ]
  },
  {
   "cell_type": "markdown",
   "id": "70956db3-cc20-47d7-92c6-e489f9ca278b",
   "metadata": {},
   "source": [
    "# Analise Exploratoria"
   ]
  },
  {
   "cell_type": "markdown",
   "id": "434b3b0a-b86a-47db-a629-3cb57df65e61",
   "metadata": {},
   "source": [
    "- Formatação de dados e verificações simples de \"sanidade\""
   ]
  },
  {
   "cell_type": "code",
   "execution_count": 3,
   "id": "1a8348f1-20a9-4772-8e24-6e3aedd62a6c",
   "metadata": {},
   "outputs": [
    {
     "data": {
      "text/plain": [
       "(20640, 8)"
      ]
     },
     "execution_count": 3,
     "metadata": {},
     "output_type": "execute_result"
    }
   ],
   "source": [
    "housing['data'].shape"
   ]
  },
  {
   "cell_type": "code",
   "execution_count": 4,
   "id": "d6e96c9f-22b1-40d0-908f-a29b5e57cb53",
   "metadata": {},
   "outputs": [
    {
     "data": {
      "text/plain": [
       "8"
      ]
     },
     "execution_count": 4,
     "metadata": {},
     "output_type": "execute_result"
    }
   ],
   "source": [
    "len(housing['feature_names'])"
   ]
  },
  {
   "cell_type": "code",
   "execution_count": 5,
   "id": "3f087339-19e6-42c6-bf35-d189945147f9",
   "metadata": {},
   "outputs": [],
   "source": [
    "import pandas as pd"
   ]
  },
  {
   "cell_type": "code",
   "execution_count": 6,
   "id": "70e49803-3561-48a4-b99d-83d950768ee0",
   "metadata": {},
   "outputs": [],
   "source": [
    "df = pd.DataFrame(data=housing['data'], columns=housing['feature_names'])"
   ]
  },
  {
   "cell_type": "code",
   "execution_count": 7,
   "id": "e3c40230-5425-49bc-b0c3-bcfa7cb4c21a",
   "metadata": {},
   "outputs": [
    {
     "data": {
      "text/html": [
       "<div>\n",
       "<style scoped>\n",
       "    .dataframe tbody tr th:only-of-type {\n",
       "        vertical-align: middle;\n",
       "    }\n",
       "\n",
       "    .dataframe tbody tr th {\n",
       "        vertical-align: top;\n",
       "    }\n",
       "\n",
       "    .dataframe thead th {\n",
       "        text-align: right;\n",
       "    }\n",
       "</style>\n",
       "<table border=\"1\" class=\"dataframe\">\n",
       "  <thead>\n",
       "    <tr style=\"text-align: right;\">\n",
       "      <th></th>\n",
       "      <th>MedInc</th>\n",
       "      <th>HouseAge</th>\n",
       "      <th>AveRooms</th>\n",
       "      <th>AveBedrms</th>\n",
       "      <th>Population</th>\n",
       "      <th>AveOccup</th>\n",
       "      <th>Latitude</th>\n",
       "      <th>Longitude</th>\n",
       "    </tr>\n",
       "  </thead>\n",
       "  <tbody>\n",
       "    <tr>\n",
       "      <th>0</th>\n",
       "      <td>8.3252</td>\n",
       "      <td>41.0</td>\n",
       "      <td>6.984127</td>\n",
       "      <td>1.023810</td>\n",
       "      <td>322.0</td>\n",
       "      <td>2.555556</td>\n",
       "      <td>37.88</td>\n",
       "      <td>-122.23</td>\n",
       "    </tr>\n",
       "    <tr>\n",
       "      <th>1</th>\n",
       "      <td>8.3014</td>\n",
       "      <td>21.0</td>\n",
       "      <td>6.238137</td>\n",
       "      <td>0.971880</td>\n",
       "      <td>2401.0</td>\n",
       "      <td>2.109842</td>\n",
       "      <td>37.86</td>\n",
       "      <td>-122.22</td>\n",
       "    </tr>\n",
       "    <tr>\n",
       "      <th>2</th>\n",
       "      <td>7.2574</td>\n",
       "      <td>52.0</td>\n",
       "      <td>8.288136</td>\n",
       "      <td>1.073446</td>\n",
       "      <td>496.0</td>\n",
       "      <td>2.802260</td>\n",
       "      <td>37.85</td>\n",
       "      <td>-122.24</td>\n",
       "    </tr>\n",
       "    <tr>\n",
       "      <th>3</th>\n",
       "      <td>5.6431</td>\n",
       "      <td>52.0</td>\n",
       "      <td>5.817352</td>\n",
       "      <td>1.073059</td>\n",
       "      <td>558.0</td>\n",
       "      <td>2.547945</td>\n",
       "      <td>37.85</td>\n",
       "      <td>-122.25</td>\n",
       "    </tr>\n",
       "    <tr>\n",
       "      <th>4</th>\n",
       "      <td>3.8462</td>\n",
       "      <td>52.0</td>\n",
       "      <td>6.281853</td>\n",
       "      <td>1.081081</td>\n",
       "      <td>565.0</td>\n",
       "      <td>2.181467</td>\n",
       "      <td>37.85</td>\n",
       "      <td>-122.25</td>\n",
       "    </tr>\n",
       "  </tbody>\n",
       "</table>\n",
       "</div>"
      ],
      "text/plain": [
       "   MedInc  HouseAge  AveRooms  AveBedrms  Population  AveOccup  Latitude  \\\n",
       "0  8.3252      41.0  6.984127   1.023810       322.0  2.555556     37.88   \n",
       "1  8.3014      21.0  6.238137   0.971880      2401.0  2.109842     37.86   \n",
       "2  7.2574      52.0  8.288136   1.073446       496.0  2.802260     37.85   \n",
       "3  5.6431      52.0  5.817352   1.073059       558.0  2.547945     37.85   \n",
       "4  3.8462      52.0  6.281853   1.081081       565.0  2.181467     37.85   \n",
       "\n",
       "   Longitude  \n",
       "0    -122.23  \n",
       "1    -122.22  \n",
       "2    -122.24  \n",
       "3    -122.25  \n",
       "4    -122.25  "
      ]
     },
     "execution_count": 7,
     "metadata": {},
     "output_type": "execute_result"
    }
   ],
   "source": [
    "df.head()"
   ]
  },
  {
   "cell_type": "code",
   "execution_count": 8,
   "id": "6b4c92ce-67aa-4b77-9c65-f9f177102f5f",
   "metadata": {},
   "outputs": [
    {
     "name": "stdout",
     "output_type": "stream",
     "text": [
      "<class 'pandas.core.frame.DataFrame'>\n",
      "RangeIndex: 20640 entries, 0 to 20639\n",
      "Data columns (total 8 columns):\n",
      " #   Column      Non-Null Count  Dtype  \n",
      "---  ------      --------------  -----  \n",
      " 0   MedInc      20640 non-null  float64\n",
      " 1   HouseAge    20640 non-null  float64\n",
      " 2   AveRooms    20640 non-null  float64\n",
      " 3   AveBedrms   20640 non-null  float64\n",
      " 4   Population  20640 non-null  float64\n",
      " 5   AveOccup    20640 non-null  float64\n",
      " 6   Latitude    20640 non-null  float64\n",
      " 7   Longitude   20640 non-null  float64\n",
      "dtypes: float64(8)\n",
      "memory usage: 1.3 MB\n"
     ]
    }
   ],
   "source": [
    "df.info()"
   ]
  },
  {
   "cell_type": "code",
   "execution_count": 9,
   "id": "0e3470dd-426c-44fd-8c5a-f1116a66f8ba",
   "metadata": {},
   "outputs": [
    {
     "data": {
      "text/html": [
       "<div>\n",
       "<style scoped>\n",
       "    .dataframe tbody tr th:only-of-type {\n",
       "        vertical-align: middle;\n",
       "    }\n",
       "\n",
       "    .dataframe tbody tr th {\n",
       "        vertical-align: top;\n",
       "    }\n",
       "\n",
       "    .dataframe thead th {\n",
       "        text-align: right;\n",
       "    }\n",
       "</style>\n",
       "<table border=\"1\" class=\"dataframe\">\n",
       "  <thead>\n",
       "    <tr style=\"text-align: right;\">\n",
       "      <th></th>\n",
       "      <th>count</th>\n",
       "      <th>mean</th>\n",
       "      <th>std</th>\n",
       "      <th>min</th>\n",
       "      <th>25%</th>\n",
       "      <th>50%</th>\n",
       "      <th>75%</th>\n",
       "      <th>max</th>\n",
       "    </tr>\n",
       "  </thead>\n",
       "  <tbody>\n",
       "    <tr>\n",
       "      <th>MedInc</th>\n",
       "      <td>20640.0</td>\n",
       "      <td>3.870671</td>\n",
       "      <td>1.899822</td>\n",
       "      <td>0.499900</td>\n",
       "      <td>2.563400</td>\n",
       "      <td>3.534800</td>\n",
       "      <td>4.743250</td>\n",
       "      <td>15.000100</td>\n",
       "    </tr>\n",
       "    <tr>\n",
       "      <th>HouseAge</th>\n",
       "      <td>20640.0</td>\n",
       "      <td>28.639486</td>\n",
       "      <td>12.585558</td>\n",
       "      <td>1.000000</td>\n",
       "      <td>18.000000</td>\n",
       "      <td>29.000000</td>\n",
       "      <td>37.000000</td>\n",
       "      <td>52.000000</td>\n",
       "    </tr>\n",
       "    <tr>\n",
       "      <th>AveRooms</th>\n",
       "      <td>20640.0</td>\n",
       "      <td>5.429000</td>\n",
       "      <td>2.474173</td>\n",
       "      <td>0.846154</td>\n",
       "      <td>4.440716</td>\n",
       "      <td>5.229129</td>\n",
       "      <td>6.052381</td>\n",
       "      <td>141.909091</td>\n",
       "    </tr>\n",
       "    <tr>\n",
       "      <th>AveBedrms</th>\n",
       "      <td>20640.0</td>\n",
       "      <td>1.096675</td>\n",
       "      <td>0.473911</td>\n",
       "      <td>0.333333</td>\n",
       "      <td>1.006079</td>\n",
       "      <td>1.048780</td>\n",
       "      <td>1.099526</td>\n",
       "      <td>34.066667</td>\n",
       "    </tr>\n",
       "    <tr>\n",
       "      <th>Population</th>\n",
       "      <td>20640.0</td>\n",
       "      <td>1425.476744</td>\n",
       "      <td>1132.462122</td>\n",
       "      <td>3.000000</td>\n",
       "      <td>787.000000</td>\n",
       "      <td>1166.000000</td>\n",
       "      <td>1725.000000</td>\n",
       "      <td>35682.000000</td>\n",
       "    </tr>\n",
       "    <tr>\n",
       "      <th>AveOccup</th>\n",
       "      <td>20640.0</td>\n",
       "      <td>3.070655</td>\n",
       "      <td>10.386050</td>\n",
       "      <td>0.692308</td>\n",
       "      <td>2.429741</td>\n",
       "      <td>2.818116</td>\n",
       "      <td>3.282261</td>\n",
       "      <td>1243.333333</td>\n",
       "    </tr>\n",
       "    <tr>\n",
       "      <th>Latitude</th>\n",
       "      <td>20640.0</td>\n",
       "      <td>35.631861</td>\n",
       "      <td>2.135952</td>\n",
       "      <td>32.540000</td>\n",
       "      <td>33.930000</td>\n",
       "      <td>34.260000</td>\n",
       "      <td>37.710000</td>\n",
       "      <td>41.950000</td>\n",
       "    </tr>\n",
       "    <tr>\n",
       "      <th>Longitude</th>\n",
       "      <td>20640.0</td>\n",
       "      <td>-119.569704</td>\n",
       "      <td>2.003532</td>\n",
       "      <td>-124.350000</td>\n",
       "      <td>-121.800000</td>\n",
       "      <td>-118.490000</td>\n",
       "      <td>-118.010000</td>\n",
       "      <td>-114.310000</td>\n",
       "    </tr>\n",
       "  </tbody>\n",
       "</table>\n",
       "</div>"
      ],
      "text/plain": [
       "              count         mean          std         min         25%  \\\n",
       "MedInc      20640.0     3.870671     1.899822    0.499900    2.563400   \n",
       "HouseAge    20640.0    28.639486    12.585558    1.000000   18.000000   \n",
       "AveRooms    20640.0     5.429000     2.474173    0.846154    4.440716   \n",
       "AveBedrms   20640.0     1.096675     0.473911    0.333333    1.006079   \n",
       "Population  20640.0  1425.476744  1132.462122    3.000000  787.000000   \n",
       "AveOccup    20640.0     3.070655    10.386050    0.692308    2.429741   \n",
       "Latitude    20640.0    35.631861     2.135952   32.540000   33.930000   \n",
       "Longitude   20640.0  -119.569704     2.003532 -124.350000 -121.800000   \n",
       "\n",
       "                    50%          75%           max  \n",
       "MedInc         3.534800     4.743250     15.000100  \n",
       "HouseAge      29.000000    37.000000     52.000000  \n",
       "AveRooms       5.229129     6.052381    141.909091  \n",
       "AveBedrms      1.048780     1.099526     34.066667  \n",
       "Population  1166.000000  1725.000000  35682.000000  \n",
       "AveOccup       2.818116     3.282261   1243.333333  \n",
       "Latitude      34.260000    37.710000     41.950000  \n",
       "Longitude   -118.490000  -118.010000   -114.310000  "
      ]
     },
     "execution_count": 9,
     "metadata": {},
     "output_type": "execute_result"
    }
   ],
   "source": [
    "df.describe().transpose()"
   ]
  },
  {
   "cell_type": "markdown",
   "id": "e8d80df0-2ead-4407-84cd-549a22b01227",
   "metadata": {},
   "source": [
    "## Detectar outliers, anomalias, entender melhor a natureza de cada feature (faixa de valores, distribuição, etc)"
   ]
  },
  {
   "cell_type": "markdown",
   "id": "a07979af-7f67-4d8b-af64-5da0eb834aab",
   "metadata": {},
   "source": [
    "## MedInc: median income in block group"
   ]
  },
  {
   "cell_type": "code",
   "execution_count": 10,
   "id": "f2a36823-49c9-4310-8f51-7bcba2ddb568",
   "metadata": {},
   "outputs": [
    {
     "data": {
      "text/plain": [
       "count    20640.000000\n",
       "mean         3.870671\n",
       "std          1.899822\n",
       "min          0.499900\n",
       "25%          2.563400\n",
       "50%          3.534800\n",
       "75%          4.743250\n",
       "max         15.000100\n",
       "Name: MedInc, dtype: float64"
      ]
     },
     "execution_count": 10,
     "metadata": {},
     "output_type": "execute_result"
    }
   ],
   "source": [
    "df['MedInc'].describe()"
   ]
  },
  {
   "cell_type": "markdown",
   "id": "d863d427-e77d-488d-b09c-ee5c2a49f2b5",
   "metadata": {},
   "source": [
    "A mesma informação acima é melhor visualizada com um *boxplot*:"
   ]
  },
  {
   "cell_type": "code",
   "execution_count": 11,
   "id": "3081c56e-c4da-42ee-a3d7-2d1d8cdfef50",
   "metadata": {},
   "outputs": [
    {
     "data": {
      "text/plain": [
       "<AxesSubplot:>"
      ]
     },
     "execution_count": 11,
     "metadata": {},
     "output_type": "execute_result"
    },
    {
     "data": {
      "image/png": "[encoded data removed]",
      "text/plain": [
       "<Figure size 432x288 with 1 Axes>"
      ]
     },
     "metadata": {
      "needs_background": "light"
     },
     "output_type": "display_data"
    }
   ],
   "source": [
    "df['MedInc'].plot.box()"
   ]
  },
  {
   "cell_type": "markdown",
   "id": "244f8fdb-3947-4ccc-8ec5-d2a66b824d2d",
   "metadata": {},
   "source": [
    "Sempre que eu vejo tanto outlier, penso em:\n",
    "\n",
    "- Fazer um histograma\n",
    "\n",
    "- Provavelmente vai valer a pena usar o *log* dos dados"
   ]
  },
  {
   "cell_type": "code",
   "execution_count": 12,
   "id": "40beedc0-ac88-4900-9b2e-6a94fc9f77d6",
   "metadata": {},
   "outputs": [],
   "source": [
    "import numpy as np"
   ]
  },
  {
   "cell_type": "code",
   "execution_count": 13,
   "id": "de3fb2cd-6af1-4bd4-871c-536362ee3387",
   "metadata": {},
   "outputs": [
    {
     "data": {
      "text/plain": [
       "143.66627996854376"
      ]
     },
     "execution_count": 13,
     "metadata": {},
     "output_type": "execute_result"
    }
   ],
   "source": [
    "np.sqrt(len(df['MedInc']))"
   ]
  },
  {
   "cell_type": "code",
   "execution_count": 14,
   "id": "c1df7f80-c19d-4f79-abf8-b84d1d6daa5b",
   "metadata": {},
   "outputs": [
    {
     "data": {
      "text/plain": [
       "<AxesSubplot:ylabel='Frequency'>"
      ]
     },
     "execution_count": 14,
     "metadata": {},
     "output_type": "execute_result"
    },
    {
     "data": {
      "image/png": "[encoded data removed]",
      "text/plain": [
       "<Figure size 432x288 with 1 Axes>"
      ]
     },
     "metadata": {
      "needs_background": "light"
     },
     "output_type": "display_data"
    }
   ],
   "source": [
    "df['MedInc'].plot.hist(bins=150)"
   ]
  },
  {
   "cell_type": "markdown",
   "id": "892932b5-445f-43c8-a86c-5113475bda82",
   "metadata": {},
   "source": [
    "Observamos:\n",
    "    \n",
    "- Assimetria a direita => Tentar de novo com o *log*\n",
    "\n",
    "- Uma anomaliazinha no final do histograma, provavelmente devida à saturação => cortar os dados"
   ]
  },
  {
   "cell_type": "code",
   "execution_count": 15,
   "id": "f64e9122-99b5-4aa1-a5a2-5d8c399cdb7f",
   "metadata": {},
   "outputs": [
    {
     "data": {
      "text/plain": [
       "<AxesSubplot:ylabel='Frequency'>"
      ]
     },
     "execution_count": 15,
     "metadata": {},
     "output_type": "execute_result"
    },
    {
     "data": {
      "image/png": "[encoded data removed]",
      "text/plain": [
       "<Figure size 432x288 with 1 Axes>"
      ]
     },
     "metadata": {
      "needs_background": "light"
     },
     "output_type": "display_data"
    }
   ],
   "source": [
    "df['MedInc'].apply(np.log10).plot.hist(bins=150)"
   ]
  },
  {
   "cell_type": "markdown",
   "id": "2e84a849-360d-411c-8c61-30d3a6d3430c",
   "metadata": {},
   "source": [
    "Se eu cortar em 15, quanto perco de dados?"
   ]
  },
  {
   "cell_type": "code",
   "execution_count": 16,
   "id": "655e23bc-3c06-4ecc-b980-325741fc89d1",
   "metadata": {},
   "outputs": [
    {
     "data": {
      "text/plain": [
       "51"
      ]
     },
     "execution_count": 16,
     "metadata": {},
     "output_type": "execute_result"
    }
   ],
   "source": [
    "df['MedInc'].where(lambda x: x >= 15).dropna().count()"
   ]
  },
  {
   "cell_type": "code",
   "execution_count": 17,
   "id": "7ecc7753-bd17-4958-b03e-0b1df7fe27c5",
   "metadata": {},
   "outputs": [
    {
     "data": {
      "text/plain": [
       "51"
      ]
     },
     "execution_count": 17,
     "metadata": {},
     "output_type": "execute_result"
    }
   ],
   "source": [
    "df[df['MedInc'] >= 15].loc[:, 'MedInc'].count()"
   ]
  },
  {
   "cell_type": "markdown",
   "id": "40f5503b-c203-4af7-85cc-fa9de8705d94",
   "metadata": {},
   "source": [
    "Ok, posso cortar sem perder muito."
   ]
  },
  {
   "cell_type": "markdown",
   "id": "6ac45ca6-c7c4-446e-9aff-7092d41a4ac2",
   "metadata": {},
   "source": [
    "Conclusão:\n",
    "\n",
    "- Vale a pena testar os modelos com log do MedInc\n",
    "\n",
    "- Melhor cortar os dados em < 15"
   ]
  },
  {
   "cell_type": "markdown",
   "id": "25b5e8c0-68d4-4635-947b-9ae0a0da86a5",
   "metadata": {
    "tags": []
   },
   "source": [
    "## HouseAge "
   ]
  },
  {
   "cell_type": "code",
   "execution_count": 18,
   "id": "b21ea27d-0ee2-478e-bdc7-b023b9d708a5",
   "metadata": {},
   "outputs": [
    {
     "data": {
      "text/plain": [
       "count    20640.000000\n",
       "mean        28.639486\n",
       "std         12.585558\n",
       "min          1.000000\n",
       "25%         18.000000\n",
       "50%         29.000000\n",
       "75%         37.000000\n",
       "max         52.000000\n",
       "Name: HouseAge, dtype: float64"
      ]
     },
     "execution_count": 18,
     "metadata": {},
     "output_type": "execute_result"
    }
   ],
   "source": [
    "df['HouseAge'].describe()"
   ]
  },
  {
   "cell_type": "markdown",
   "id": "a19ea9b6-ddf7-40b0-9b79-336bd12b1b00",
   "metadata": {},
   "source": [
    "A mesma informação acima é melhor visualizada com um *boxplot*:"
   ]
  },
  {
   "cell_type": "code",
   "execution_count": 19,
   "id": "4a4da22f-b7f9-4309-9e8f-05651658bc02",
   "metadata": {},
   "outputs": [
    {
     "data": {
      "text/plain": [
       "<AxesSubplot:>"
      ]
     },
     "execution_count": 19,
     "metadata": {},
     "output_type": "execute_result"
    },
    {
     "data": {
      "image/png": "[encoded data removed]",
      "text/plain": [
       "<Figure size 432x288 with 1 Axes>"
      ]
     },
     "metadata": {
      "needs_background": "light"
     },
     "output_type": "display_data"
    }
   ],
   "source": [
    "df['HouseAge'].plot.box()"
   ]
  },
  {
   "cell_type": "code",
   "execution_count": 20,
   "id": "43feddd5-ac15-4249-b7f6-0168fe0600bc",
   "metadata": {},
   "outputs": [
    {
     "data": {
      "text/plain": [
       "<AxesSubplot:ylabel='Frequency'>"
      ]
     },
     "execution_count": 20,
     "metadata": {},
     "output_type": "execute_result"
    },
    {
     "data": {
      "image/png": "[encoded data removed]",
      "text/plain": [
       "<Figure size 432x288 with 1 Axes>"
      ]
     },
     "metadata": {
      "needs_background": "light"
     },
     "output_type": "display_data"
    }
   ],
   "source": [
    "df['HouseAge'].plot.hist(bins=150)"
   ]
  },
  {
   "cell_type": "markdown",
   "id": "ed785c49-1a7b-486f-8efb-e7f077c2812c",
   "metadata": {},
   "source": [
    "Observamos uma anomalia no extremo do histograma, provavelmente vamos ter que limitar os dados."
   ]
  },
  {
   "cell_type": "code",
   "execution_count": 21,
   "id": "60b5e97b-3301-4b30-be29-355d512913f0",
   "metadata": {},
   "outputs": [
    {
     "data": {
      "text/plain": [
       "1273"
      ]
     },
     "execution_count": 21,
     "metadata": {},
     "output_type": "execute_result"
    }
   ],
   "source": [
    "df[df['HouseAge'] >= 52].loc[:, 'HouseAge'].count()"
   ]
  },
  {
   "cell_type": "markdown",
   "id": "58f8b849-d77c-4b80-bd53-0dbf65a5a99c",
   "metadata": {},
   "source": [
    "Apesar de ser um volume representativo de dados, vamos remove-los por não ter uma boa forma de lidar com dados com limitador."
   ]
  },
  {
   "cell_type": "markdown",
   "id": "0cfbfa12-3dea-403c-a8ee-3e86de556121",
   "metadata": {},
   "source": [
    "Conclusão:\n",
    "\n",
    "- Limitar os dados por 'HouseAge' < 52"
   ]
  },
  {
   "cell_type": "markdown",
   "id": "456e4465-8cc0-44ec-b22a-bae740436a7f",
   "metadata": {},
   "source": [
    "## AveRooms"
   ]
  },
  {
   "cell_type": "code",
   "execution_count": 22,
   "id": "ea94fef0-26f7-46fd-b18a-c8347c7177a8",
   "metadata": {},
   "outputs": [
    {
     "data": {
      "text/plain": [
       "count    20640.000000\n",
       "mean         5.429000\n",
       "std          2.474173\n",
       "min          0.846154\n",
       "25%          4.440716\n",
       "50%          5.229129\n",
       "75%          6.052381\n",
       "max        141.909091\n",
       "Name: AveRooms, dtype: float64"
      ]
     },
     "execution_count": 22,
     "metadata": {},
     "output_type": "execute_result"
    }
   ],
   "source": [
    "df['AveRooms'].describe()"
   ]
  },
  {
   "cell_type": "code",
   "execution_count": 23,
   "id": "5be45cc8-142a-4fa0-a364-e9d07d69602d",
   "metadata": {},
   "outputs": [
    {
     "data": {
      "text/plain": [
       "<AxesSubplot:>"
      ]
     },
     "execution_count": 23,
     "metadata": {},
     "output_type": "execute_result"
    },
    {
     "data": {
      "image/png": "[encoded data removed]",
      "text/plain": [
       "<Figure size 432x288 with 1 Axes>"
      ]
     },
     "metadata": {
      "needs_background": "light"
     },
     "output_type": "display_data"
    }
   ],
   "source": [
    "df['AveRooms'].plot.box()"
   ]
  },
  {
   "cell_type": "markdown",
   "id": "6774f9b6-bf31-4016-9468-925a5eb458f8",
   "metadata": {},
   "source": [
    "Outliers extremos! Requer análise mais profunda"
   ]
  },
  {
   "cell_type": "code",
   "execution_count": 24,
   "id": "c9b60bf3-59c3-4392-be82-8173e5cf4764",
   "metadata": {},
   "outputs": [
    {
     "data": {
      "text/plain": [
       "<AxesSubplot:ylabel='Frequency'>"
      ]
     },
     "execution_count": 24,
     "metadata": {},
     "output_type": "execute_result"
    },
    {
     "data": {
      "image/png": "[encoded data removed]",
      "text/plain": [
       "<Figure size 432x288 with 1 Axes>"
      ]
     },
     "metadata": {
      "needs_background": "light"
     },
     "output_type": "display_data"
    }
   ],
   "source": [
    "ave_rooms = df['AveRooms']\n",
    "\n",
    "ave_rooms.plot.hist(bins=150)"
   ]
  },
  {
   "cell_type": "code",
   "execution_count": 25,
   "id": "4f82a7a6-b414-4f7b-87e6-73859a7bc7c9",
   "metadata": {},
   "outputs": [
    {
     "data": {
      "text/plain": [
       "<AxesSubplot:ylabel='Frequency'>"
      ]
     },
     "execution_count": 25,
     "metadata": {},
     "output_type": "execute_result"
    },
    {
     "data": {
      "image/png": "[encoded data removed]",
      "text/plain": [
       "<Figure size 432x288 with 1 Axes>"
      ]
     },
     "metadata": {
      "needs_background": "light"
     },
     "output_type": "display_data"
    }
   ],
   "source": [
    "ave_rooms[ave_rooms < 10].plot.hist(bins=150)"
   ]
  },
  {
   "cell_type": "markdown",
   "id": "739f8d5a-2332-4d78-bd36-ae2f818ab69b",
   "metadata": {},
   "source": [
    "Parece que existem dois comportamentos distintos: um comportamento mais \"normal\" abaixo de AveRooms < 10, e um comportamento anomalo acima de 10, vamos investigar:"
   ]
  },
  {
   "cell_type": "code",
   "execution_count": 26,
   "id": "81d8ea1f-b9f1-42cb-8b57-7b40ffdce8e5",
   "metadata": {},
   "outputs": [
    {
     "data": {
      "text/plain": [
       "(226, 8)"
      ]
     },
     "execution_count": 26,
     "metadata": {},
     "output_type": "execute_result"
    }
   ],
   "source": [
    "df[df['AveRooms'] > 10].shape"
   ]
  },
  {
   "cell_type": "markdown",
   "id": "bd3df67f-ebf8-40a9-98bc-a5f758261807",
   "metadata": {},
   "source": [
    "São poucos anômalos, vale a pena eliminar. Mas vamos continuar investigando para entender melhor:"
   ]
  },
  {
   "cell_type": "code",
   "execution_count": 27,
   "id": "b1c58c67-05b6-4f50-ae70-acb16865d054",
   "metadata": {},
   "outputs": [
    {
     "data": {
      "text/html": [
       "<div>\n",
       "<style scoped>\n",
       "    .dataframe tbody tr th:only-of-type {\n",
       "        vertical-align: middle;\n",
       "    }\n",
       "\n",
       "    .dataframe tbody tr th {\n",
       "        vertical-align: top;\n",
       "    }\n",
       "\n",
       "    .dataframe thead th {\n",
       "        text-align: right;\n",
       "    }\n",
       "</style>\n",
       "<table border=\"1\" class=\"dataframe\">\n",
       "  <thead>\n",
       "    <tr style=\"text-align: right;\">\n",
       "      <th></th>\n",
       "      <th>MedInc</th>\n",
       "      <th>HouseAge</th>\n",
       "      <th>AveRooms</th>\n",
       "      <th>AveBedrms</th>\n",
       "      <th>Population</th>\n",
       "      <th>AveOccup</th>\n",
       "      <th>Latitude</th>\n",
       "      <th>Longitude</th>\n",
       "    </tr>\n",
       "  </thead>\n",
       "  <tbody>\n",
       "    <tr>\n",
       "      <th>1914</th>\n",
       "      <td>1.8750</td>\n",
       "      <td>33.0</td>\n",
       "      <td>141.909091</td>\n",
       "      <td>25.636364</td>\n",
       "      <td>30.0</td>\n",
       "      <td>2.727273</td>\n",
       "      <td>38.91</td>\n",
       "      <td>-120.10</td>\n",
       "    </tr>\n",
       "    <tr>\n",
       "      <th>1979</th>\n",
       "      <td>4.6250</td>\n",
       "      <td>34.0</td>\n",
       "      <td>132.533333</td>\n",
       "      <td>34.066667</td>\n",
       "      <td>36.0</td>\n",
       "      <td>2.400000</td>\n",
       "      <td>38.80</td>\n",
       "      <td>-120.08</td>\n",
       "    </tr>\n",
       "    <tr>\n",
       "      <th>12447</th>\n",
       "      <td>1.6154</td>\n",
       "      <td>17.0</td>\n",
       "      <td>62.422222</td>\n",
       "      <td>14.111111</td>\n",
       "      <td>83.0</td>\n",
       "      <td>1.844444</td>\n",
       "      <td>33.97</td>\n",
       "      <td>-114.49</td>\n",
       "    </tr>\n",
       "    <tr>\n",
       "      <th>1913</th>\n",
       "      <td>4.0714</td>\n",
       "      <td>19.0</td>\n",
       "      <td>61.812500</td>\n",
       "      <td>11.000000</td>\n",
       "      <td>112.0</td>\n",
       "      <td>2.333333</td>\n",
       "      <td>39.01</td>\n",
       "      <td>-120.06</td>\n",
       "    </tr>\n",
       "    <tr>\n",
       "      <th>11862</th>\n",
       "      <td>2.6250</td>\n",
       "      <td>25.0</td>\n",
       "      <td>59.875000</td>\n",
       "      <td>15.312500</td>\n",
       "      <td>28.0</td>\n",
       "      <td>1.750000</td>\n",
       "      <td>40.27</td>\n",
       "      <td>-121.25</td>\n",
       "    </tr>\n",
       "    <tr>\n",
       "      <th>...</th>\n",
       "      <td>...</td>\n",
       "      <td>...</td>\n",
       "      <td>...</td>\n",
       "      <td>...</td>\n",
       "      <td>...</td>\n",
       "      <td>...</td>\n",
       "      <td>...</td>\n",
       "      <td>...</td>\n",
       "    </tr>\n",
       "    <tr>\n",
       "      <th>3313</th>\n",
       "      <td>3.4187</td>\n",
       "      <td>17.0</td>\n",
       "      <td>10.053140</td>\n",
       "      <td>2.335749</td>\n",
       "      <td>889.0</td>\n",
       "      <td>2.147343</td>\n",
       "      <td>39.01</td>\n",
       "      <td>-122.75</td>\n",
       "    </tr>\n",
       "    <tr>\n",
       "      <th>13937</th>\n",
       "      <td>2.8750</td>\n",
       "      <td>34.0</td>\n",
       "      <td>10.046322</td>\n",
       "      <td>2.059946</td>\n",
       "      <td>941.0</td>\n",
       "      <td>2.564033</td>\n",
       "      <td>34.24</td>\n",
       "      <td>-117.27</td>\n",
       "    </tr>\n",
       "    <tr>\n",
       "      <th>12011</th>\n",
       "      <td>6.1561</td>\n",
       "      <td>12.0</td>\n",
       "      <td>10.043860</td>\n",
       "      <td>1.399123</td>\n",
       "      <td>728.0</td>\n",
       "      <td>3.192982</td>\n",
       "      <td>33.92</td>\n",
       "      <td>-117.53</td>\n",
       "    </tr>\n",
       "    <tr>\n",
       "      <th>12337</th>\n",
       "      <td>3.6875</td>\n",
       "      <td>17.0</td>\n",
       "      <td>10.033708</td>\n",
       "      <td>1.930337</td>\n",
       "      <td>853.0</td>\n",
       "      <td>1.916854</td>\n",
       "      <td>33.84</td>\n",
       "      <td>-116.52</td>\n",
       "    </tr>\n",
       "    <tr>\n",
       "      <th>10417</th>\n",
       "      <td>10.4900</td>\n",
       "      <td>7.0</td>\n",
       "      <td>10.005874</td>\n",
       "      <td>1.152717</td>\n",
       "      <td>2175.0</td>\n",
       "      <td>3.193833</td>\n",
       "      <td>33.53</td>\n",
       "      <td>-117.65</td>\n",
       "    </tr>\n",
       "  </tbody>\n",
       "</table>\n",
       "<p>226 rows × 8 columns</p>\n",
       "</div>"
      ],
      "text/plain": [
       "        MedInc  HouseAge    AveRooms  AveBedrms  Population  AveOccup  \\\n",
       "1914    1.8750      33.0  141.909091  25.636364        30.0  2.727273   \n",
       "1979    4.6250      34.0  132.533333  34.066667        36.0  2.400000   \n",
       "12447   1.6154      17.0   62.422222  14.111111        83.0  1.844444   \n",
       "1913    4.0714      19.0   61.812500  11.000000       112.0  2.333333   \n",
       "11862   2.6250      25.0   59.875000  15.312500        28.0  1.750000   \n",
       "...        ...       ...         ...        ...         ...       ...   \n",
       "3313    3.4187      17.0   10.053140   2.335749       889.0  2.147343   \n",
       "13937   2.8750      34.0   10.046322   2.059946       941.0  2.564033   \n",
       "12011   6.1561      12.0   10.043860   1.399123       728.0  3.192982   \n",
       "12337   3.6875      17.0   10.033708   1.930337       853.0  1.916854   \n",
       "10417  10.4900       7.0   10.005874   1.152717      2175.0  3.193833   \n",
       "\n",
       "       Latitude  Longitude  \n",
       "1914      38.91    -120.10  \n",
       "1979      38.80    -120.08  \n",
       "12447     33.97    -114.49  \n",
       "1913      39.01    -120.06  \n",
       "11862     40.27    -121.25  \n",
       "...         ...        ...  \n",
       "3313      39.01    -122.75  \n",
       "13937     34.24    -117.27  \n",
       "12011     33.92    -117.53  \n",
       "12337     33.84    -116.52  \n",
       "10417     33.53    -117.65  \n",
       "\n",
       "[226 rows x 8 columns]"
      ]
     },
     "execution_count": 27,
     "metadata": {},
     "output_type": "execute_result"
    }
   ],
   "source": [
    "df[df['AveRooms'] > 10].sort_values(by='AveRooms', ascending=False)"
   ]
  },
  {
   "cell_type": "markdown",
   "id": "fb313efe-1a6c-4dd3-a654-df86c6361787",
   "metadata": {},
   "source": [
    "Explorando as localizações associadas a estes pontos no Google Maps, descobrimos que tratam-se de resorts, confirmando o aviso dado nas informações do dataset!"
   ]
  },
  {
   "cell_type": "markdown",
   "id": "3e6c6aad-7185-44a1-a07f-9d102a2a136d",
   "metadata": {},
   "source": [
    "Conclusão: vamos cortar"
   ]
  },
  {
   "cell_type": "markdown",
   "id": "c557ac77-6109-4e81-a6ff-a3ae1dd2ef32",
   "metadata": {},
   "source": [
    "## AveBedrms"
   ]
  },
  {
   "cell_type": "code",
   "execution_count": 28,
   "id": "8cb90210-c900-4a87-9e43-c09c2c6b39e2",
   "metadata": {},
   "outputs": [
    {
     "data": {
      "text/plain": [
       "count    20640.000000\n",
       "mean         1.096675\n",
       "std          0.473911\n",
       "min          0.333333\n",
       "25%          1.006079\n",
       "50%          1.048780\n",
       "75%          1.099526\n",
       "max         34.066667\n",
       "Name: AveBedrms, dtype: float64"
      ]
     },
     "execution_count": 28,
     "metadata": {},
     "output_type": "execute_result"
    }
   ],
   "source": [
    "df['AveBedrms'].describe()"
   ]
  },
  {
   "cell_type": "code",
   "execution_count": 29,
   "id": "41b2f057-981b-47a5-8f7f-cf5977a5bcb5",
   "metadata": {},
   "outputs": [
    {
     "data": {
      "text/plain": [
       "<AxesSubplot:>"
      ]
     },
     "execution_count": 29,
     "metadata": {},
     "output_type": "execute_result"
    },
    {
     "data": {
      "image/png": "[encoded data removed]",
      "text/plain": [
       "<Figure size 432x288 with 1 Axes>"
      ]
     },
     "metadata": {
      "needs_background": "light"
     },
     "output_type": "display_data"
    }
   ],
   "source": [
    "df['AveBedrms'].plot.box()"
   ]
  },
  {
   "cell_type": "markdown",
   "id": "20735b79-67a2-41a4-8401-82fade9a13f6",
   "metadata": {},
   "source": [
    "Novamente temos uma forte anomalia, como vista para AveRooms."
   ]
  },
  {
   "cell_type": "code",
   "execution_count": 30,
   "id": "a8f0706d-7655-4b2f-80a7-3f8434fe3248",
   "metadata": {},
   "outputs": [
    {
     "data": {
      "text/plain": [
       "<AxesSubplot:ylabel='Frequency'>"
      ]
     },
     "execution_count": 30,
     "metadata": {},
     "output_type": "execute_result"
    },
    {
     "data": {
      "image/png": "[encoded data removed]",
      "text/plain": [
       "<Figure size 432x288 with 1 Axes>"
      ]
     },
     "metadata": {
      "needs_background": "light"
     },
     "output_type": "display_data"
    }
   ],
   "source": [
    "df['AveBedrms'].plot.hist(bins=150)"
   ]
  },
  {
   "cell_type": "code",
   "execution_count": 31,
   "id": "5b3ed4b0-6c48-4904-98de-4c5964e52476",
   "metadata": {},
   "outputs": [
    {
     "data": {
      "text/plain": [
       "<AxesSubplot:ylabel='Frequency'>"
      ]
     },
     "execution_count": 31,
     "metadata": {},
     "output_type": "execute_result"
    },
    {
     "data": {
      "image/png": "[encoded data removed]",
      "text/plain": [
       "<Figure size 432x288 with 1 Axes>"
      ]
     },
     "metadata": {
      "needs_background": "light"
     },
     "output_type": "display_data"
    }
   ],
   "source": [
    "df[df['AveBedrms'] < 2].loc[:, 'AveBedrms'].plot.hist(bins=150)"
   ]
  },
  {
   "cell_type": "code",
   "execution_count": 32,
   "id": "574c8960-49ea-400a-aa1a-5775209c1498",
   "metadata": {},
   "outputs": [
    {
     "data": {
      "text/plain": [
       "(241, 8)"
      ]
     },
     "execution_count": 32,
     "metadata": {},
     "output_type": "execute_result"
    }
   ],
   "source": [
    "df[df['AveBedrms'] >= 2].shape"
   ]
  },
  {
   "cell_type": "markdown",
   "id": "270a98ce-c227-4e1e-8234-4b2ac81520b3",
   "metadata": {},
   "source": [
    "São poucos pontos, melhor cortar, mas antes de cortar é melhor analisar."
   ]
  },
  {
   "cell_type": "code",
   "execution_count": 33,
   "id": "7914cadc-8366-4278-acb1-c66cda1ffcc9",
   "metadata": {},
   "outputs": [
    {
     "data": {
      "text/html": [
       "<div>\n",
       "<style scoped>\n",
       "    .dataframe tbody tr th:only-of-type {\n",
       "        vertical-align: middle;\n",
       "    }\n",
       "\n",
       "    .dataframe tbody tr th {\n",
       "        vertical-align: top;\n",
       "    }\n",
       "\n",
       "    .dataframe thead th {\n",
       "        text-align: right;\n",
       "    }\n",
       "</style>\n",
       "<table border=\"1\" class=\"dataframe\">\n",
       "  <thead>\n",
       "    <tr style=\"text-align: right;\">\n",
       "      <th></th>\n",
       "      <th>MedInc</th>\n",
       "      <th>HouseAge</th>\n",
       "      <th>AveRooms</th>\n",
       "      <th>AveBedrms</th>\n",
       "      <th>Population</th>\n",
       "      <th>AveOccup</th>\n",
       "      <th>Latitude</th>\n",
       "      <th>Longitude</th>\n",
       "    </tr>\n",
       "  </thead>\n",
       "  <tbody>\n",
       "    <tr>\n",
       "      <th>1979</th>\n",
       "      <td>4.6250</td>\n",
       "      <td>34.0</td>\n",
       "      <td>132.533333</td>\n",
       "      <td>34.066667</td>\n",
       "      <td>36.0</td>\n",
       "      <td>2.400000</td>\n",
       "      <td>38.80</td>\n",
       "      <td>-120.08</td>\n",
       "    </tr>\n",
       "    <tr>\n",
       "      <th>1914</th>\n",
       "      <td>1.8750</td>\n",
       "      <td>33.0</td>\n",
       "      <td>141.909091</td>\n",
       "      <td>25.636364</td>\n",
       "      <td>30.0</td>\n",
       "      <td>2.727273</td>\n",
       "      <td>38.91</td>\n",
       "      <td>-120.10</td>\n",
       "    </tr>\n",
       "    <tr>\n",
       "      <th>11862</th>\n",
       "      <td>2.6250</td>\n",
       "      <td>25.0</td>\n",
       "      <td>59.875000</td>\n",
       "      <td>15.312500</td>\n",
       "      <td>28.0</td>\n",
       "      <td>1.750000</td>\n",
       "      <td>40.27</td>\n",
       "      <td>-121.25</td>\n",
       "    </tr>\n",
       "    <tr>\n",
       "      <th>12447</th>\n",
       "      <td>1.6154</td>\n",
       "      <td>17.0</td>\n",
       "      <td>62.422222</td>\n",
       "      <td>14.111111</td>\n",
       "      <td>83.0</td>\n",
       "      <td>1.844444</td>\n",
       "      <td>33.97</td>\n",
       "      <td>-114.49</td>\n",
       "    </tr>\n",
       "    <tr>\n",
       "      <th>9676</th>\n",
       "      <td>3.2431</td>\n",
       "      <td>14.0</td>\n",
       "      <td>52.848214</td>\n",
       "      <td>11.410714</td>\n",
       "      <td>265.0</td>\n",
       "      <td>2.366071</td>\n",
       "      <td>37.64</td>\n",
       "      <td>-119.02</td>\n",
       "    </tr>\n",
       "    <tr>\n",
       "      <th>...</th>\n",
       "      <td>...</td>\n",
       "      <td>...</td>\n",
       "      <td>...</td>\n",
       "      <td>...</td>\n",
       "      <td>...</td>\n",
       "      <td>...</td>\n",
       "      <td>...</td>\n",
       "      <td>...</td>\n",
       "    </tr>\n",
       "    <tr>\n",
       "      <th>9677</th>\n",
       "      <td>4.5375</td>\n",
       "      <td>18.0</td>\n",
       "      <td>8.629808</td>\n",
       "      <td>2.000000</td>\n",
       "      <td>483.0</td>\n",
       "      <td>2.322115</td>\n",
       "      <td>37.65</td>\n",
       "      <td>-118.98</td>\n",
       "    </tr>\n",
       "    <tr>\n",
       "      <th>19616</th>\n",
       "      <td>0.5360</td>\n",
       "      <td>33.0</td>\n",
       "      <td>4.928571</td>\n",
       "      <td>2.000000</td>\n",
       "      <td>47.0</td>\n",
       "      <td>3.357143</td>\n",
       "      <td>37.44</td>\n",
       "      <td>-121.31</td>\n",
       "    </tr>\n",
       "    <tr>\n",
       "      <th>3296</th>\n",
       "      <td>2.1838</td>\n",
       "      <td>27.0</td>\n",
       "      <td>9.055118</td>\n",
       "      <td>2.000000</td>\n",
       "      <td>526.0</td>\n",
       "      <td>2.070866</td>\n",
       "      <td>38.98</td>\n",
       "      <td>-122.68</td>\n",
       "    </tr>\n",
       "    <tr>\n",
       "      <th>15587</th>\n",
       "      <td>3.8750</td>\n",
       "      <td>11.0</td>\n",
       "      <td>9.375465</td>\n",
       "      <td>2.000000</td>\n",
       "      <td>616.0</td>\n",
       "      <td>2.289963</td>\n",
       "      <td>33.04</td>\n",
       "      <td>-116.61</td>\n",
       "    </tr>\n",
       "    <tr>\n",
       "      <th>9194</th>\n",
       "      <td>3.5893</td>\n",
       "      <td>14.0</td>\n",
       "      <td>9.282051</td>\n",
       "      <td>2.000000</td>\n",
       "      <td>88.0</td>\n",
       "      <td>2.256410</td>\n",
       "      <td>37.32</td>\n",
       "      <td>-119.51</td>\n",
       "    </tr>\n",
       "  </tbody>\n",
       "</table>\n",
       "<p>241 rows × 8 columns</p>\n",
       "</div>"
      ],
      "text/plain": [
       "       MedInc  HouseAge    AveRooms  AveBedrms  Population  AveOccup  \\\n",
       "1979   4.6250      34.0  132.533333  34.066667        36.0  2.400000   \n",
       "1914   1.8750      33.0  141.909091  25.636364        30.0  2.727273   \n",
       "11862  2.6250      25.0   59.875000  15.312500        28.0  1.750000   \n",
       "12447  1.6154      17.0   62.422222  14.111111        83.0  1.844444   \n",
       "9676   3.2431      14.0   52.848214  11.410714       265.0  2.366071   \n",
       "...       ...       ...         ...        ...         ...       ...   \n",
       "9677   4.5375      18.0    8.629808   2.000000       483.0  2.322115   \n",
       "19616  0.5360      33.0    4.928571   2.000000        47.0  3.357143   \n",
       "3296   2.1838      27.0    9.055118   2.000000       526.0  2.070866   \n",
       "15587  3.8750      11.0    9.375465   2.000000       616.0  2.289963   \n",
       "9194   3.5893      14.0    9.282051   2.000000        88.0  2.256410   \n",
       "\n",
       "       Latitude  Longitude  \n",
       "1979      38.80    -120.08  \n",
       "1914      38.91    -120.10  \n",
       "11862     40.27    -121.25  \n",
       "12447     33.97    -114.49  \n",
       "9676      37.64    -119.02  \n",
       "...         ...        ...  \n",
       "9677      37.65    -118.98  \n",
       "19616     37.44    -121.31  \n",
       "3296      38.98    -122.68  \n",
       "15587     33.04    -116.61  \n",
       "9194      37.32    -119.51  \n",
       "\n",
       "[241 rows x 8 columns]"
      ]
     },
     "execution_count": 33,
     "metadata": {},
     "output_type": "execute_result"
    }
   ],
   "source": [
    "df[df['AveBedrms'] >= 2].sort_values(by='AveBedrms', ascending=False)"
   ]
  },
  {
   "cell_type": "markdown",
   "id": "f196f8ef-c93f-4dfa-8977-813b438f3c4e",
   "metadata": {},
   "source": [
    "Analisando as localizações no Google Maps, descobrimos que trata-se do mesmo fenomeno do AveRooms: resorts e hoteis. "
   ]
  },
  {
   "cell_type": "markdown",
   "id": "04a9ea54-d648-4501-996b-2909001f0580",
   "metadata": {},
   "source": [
    "Conclusão: corta!"
   ]
  },
  {
   "cell_type": "markdown",
   "id": "0ef7eaf7-d334-43bd-a3a7-7639c3516258",
   "metadata": {},
   "source": [
    "## AveOccup"
   ]
  },
  {
   "cell_type": "code",
   "execution_count": 34,
   "id": "506ae34c-ebc1-40a8-a7b0-98bf75400861",
   "metadata": {},
   "outputs": [
    {
     "data": {
      "text/plain": [
       "count    20640.000000\n",
       "mean         3.070655\n",
       "std         10.386050\n",
       "min          0.692308\n",
       "25%          2.429741\n",
       "50%          2.818116\n",
       "75%          3.282261\n",
       "max       1243.333333\n",
       "Name: AveOccup, dtype: float64"
      ]
     },
     "execution_count": 34,
     "metadata": {},
     "output_type": "execute_result"
    }
   ],
   "source": [
    "df['AveOccup'].describe()"
   ]
  },
  {
   "cell_type": "code",
   "execution_count": 35,
   "id": "6042e631-747d-44e0-9996-4a75c6404ea0",
   "metadata": {},
   "outputs": [
    {
     "data": {
      "text/plain": [
       "<AxesSubplot:>"
      ]
     },
     "execution_count": 35,
     "metadata": {},
     "output_type": "execute_result"
    },
    {
     "data": {
      "image/png": "[encoded data removed]",
      "text/plain": [
       "<Figure size 432x288 with 1 Axes>"
      ]
     },
     "metadata": {
      "needs_background": "light"
     },
     "output_type": "display_data"
    }
   ],
   "source": [
    "df['AveOccup'].plot.box()"
   ]
  },
  {
   "cell_type": "markdown",
   "id": "f92646af-7e66-4212-b282-338062143bfe",
   "metadata": {},
   "source": [
    "Mesma situação de outliers extremos"
   ]
  },
  {
   "cell_type": "code",
   "execution_count": 36,
   "id": "a3aa5c01-7bcd-480c-992d-fab88232a8c5",
   "metadata": {},
   "outputs": [
    {
     "data": {
      "text/plain": [
       "<AxesSubplot:ylabel='Frequency'>"
      ]
     },
     "execution_count": 36,
     "metadata": {},
     "output_type": "execute_result"
    },
    {
     "data": {
      "image/png": "[encoded data removed]",
      "text/plain": [
       "<Figure size 432x288 with 1 Axes>"
      ]
     },
     "metadata": {
      "needs_background": "light"
     },
     "output_type": "display_data"
    }
   ],
   "source": [
    "df[df['AveOccup'] < 10].loc[:, 'AveOccup'].plot.hist(bins=150)"
   ]
  },
  {
   "cell_type": "code",
   "execution_count": 37,
   "id": "000e3fb4-8a25-4729-9186-a02de02c597f",
   "metadata": {},
   "outputs": [
    {
     "data": {
      "text/plain": [
       "<AxesSubplot:ylabel='Frequency'>"
      ]
     },
     "execution_count": 37,
     "metadata": {},
     "output_type": "execute_result"
    },
    {
     "data": {
      "image/png": "[encoded data removed]",
      "text/plain": [
       "<Figure size 432x288 with 1 Axes>"
      ]
     },
     "metadata": {
      "needs_background": "light"
     },
     "output_type": "display_data"
    }
   ],
   "source": [
    "df[df['AveOccup'] < 10].loc[:, 'AveOccup'].apply(np.log10).plot.hist(bins=150)"
   ]
  },
  {
   "cell_type": "code",
   "execution_count": 38,
   "id": "bf713dbe-57be-4463-81c4-86a0713b5fd3",
   "metadata": {},
   "outputs": [
    {
     "data": {
      "text/plain": [
       "(37, 8)"
      ]
     },
     "execution_count": 38,
     "metadata": {},
     "output_type": "execute_result"
    }
   ],
   "source": [
    "df[df['AveOccup'] >= 10].shape"
   ]
  },
  {
   "cell_type": "markdown",
   "id": "3b739a3d-757c-4bf3-913a-a151bfc4fcd7",
   "metadata": {},
   "source": [
    "Parece que:\n",
    "- Vale a pena cortar\n",
    "- Pode ser que *log* ajude a regressão, mas tem que testar\n",
    "\n",
    "Vamos explorar os dados a serem cortados, para ver se nada importante vai ser perdido:"
   ]
  },
  {
   "cell_type": "code",
   "execution_count": 39,
   "id": "8f9962a1-9302-4f95-9214-8d66fcafd49e",
   "metadata": {},
   "outputs": [
    {
     "data": {
      "text/html": [
       "<div>\n",
       "<style scoped>\n",
       "    .dataframe tbody tr th:only-of-type {\n",
       "        vertical-align: middle;\n",
       "    }\n",
       "\n",
       "    .dataframe tbody tr th {\n",
       "        vertical-align: top;\n",
       "    }\n",
       "\n",
       "    .dataframe thead th {\n",
       "        text-align: right;\n",
       "    }\n",
       "</style>\n",
       "<table border=\"1\" class=\"dataframe\">\n",
       "  <thead>\n",
       "    <tr style=\"text-align: right;\">\n",
       "      <th></th>\n",
       "      <th>MedInc</th>\n",
       "      <th>HouseAge</th>\n",
       "      <th>AveRooms</th>\n",
       "      <th>AveBedrms</th>\n",
       "      <th>Population</th>\n",
       "      <th>AveOccup</th>\n",
       "      <th>Latitude</th>\n",
       "      <th>Longitude</th>\n",
       "    </tr>\n",
       "  </thead>\n",
       "  <tbody>\n",
       "    <tr>\n",
       "      <th>19006</th>\n",
       "      <td>10.2264</td>\n",
       "      <td>45.0</td>\n",
       "      <td>3.166667</td>\n",
       "      <td>0.833333</td>\n",
       "      <td>7460.0</td>\n",
       "      <td>1243.333333</td>\n",
       "      <td>38.32</td>\n",
       "      <td>-121.98</td>\n",
       "    </tr>\n",
       "    <tr>\n",
       "      <th>3364</th>\n",
       "      <td>5.5179</td>\n",
       "      <td>36.0</td>\n",
       "      <td>5.142857</td>\n",
       "      <td>1.142857</td>\n",
       "      <td>4198.0</td>\n",
       "      <td>599.714286</td>\n",
       "      <td>40.41</td>\n",
       "      <td>-120.51</td>\n",
       "    </tr>\n",
       "    <tr>\n",
       "      <th>16669</th>\n",
       "      <td>4.2639</td>\n",
       "      <td>46.0</td>\n",
       "      <td>9.076923</td>\n",
       "      <td>1.307692</td>\n",
       "      <td>6532.0</td>\n",
       "      <td>502.461538</td>\n",
       "      <td>35.32</td>\n",
       "      <td>-120.70</td>\n",
       "    </tr>\n",
       "    <tr>\n",
       "      <th>13034</th>\n",
       "      <td>6.1359</td>\n",
       "      <td>52.0</td>\n",
       "      <td>8.275862</td>\n",
       "      <td>1.517241</td>\n",
       "      <td>6675.0</td>\n",
       "      <td>230.172414</td>\n",
       "      <td>38.69</td>\n",
       "      <td>-121.15</td>\n",
       "    </tr>\n",
       "    <tr>\n",
       "      <th>9172</th>\n",
       "      <td>4.2391</td>\n",
       "      <td>5.0</td>\n",
       "      <td>5.123810</td>\n",
       "      <td>0.933333</td>\n",
       "      <td>8733.0</td>\n",
       "      <td>83.171429</td>\n",
       "      <td>34.47</td>\n",
       "      <td>-118.59</td>\n",
       "    </tr>\n",
       "    <tr>\n",
       "      <th>12104</th>\n",
       "      <td>1.6250</td>\n",
       "      <td>8.0</td>\n",
       "      <td>7.600000</td>\n",
       "      <td>0.950000</td>\n",
       "      <td>1275.0</td>\n",
       "      <td>63.750000</td>\n",
       "      <td>33.97</td>\n",
       "      <td>-117.33</td>\n",
       "    </tr>\n",
       "    <tr>\n",
       "      <th>16420</th>\n",
       "      <td>5.7485</td>\n",
       "      <td>26.0</td>\n",
       "      <td>5.366667</td>\n",
       "      <td>0.900000</td>\n",
       "      <td>1542.0</td>\n",
       "      <td>51.400000</td>\n",
       "      <td>37.89</td>\n",
       "      <td>-121.29</td>\n",
       "    </tr>\n",
       "    <tr>\n",
       "      <th>8874</th>\n",
       "      <td>9.3370</td>\n",
       "      <td>52.0</td>\n",
       "      <td>7.285714</td>\n",
       "      <td>1.214286</td>\n",
       "      <td>1154.0</td>\n",
       "      <td>41.214286</td>\n",
       "      <td>34.06</td>\n",
       "      <td>-118.45</td>\n",
       "    </tr>\n",
       "    <tr>\n",
       "      <th>13366</th>\n",
       "      <td>4.2578</td>\n",
       "      <td>36.0</td>\n",
       "      <td>5.258824</td>\n",
       "      <td>1.117647</td>\n",
       "      <td>2886.0</td>\n",
       "      <td>33.952941</td>\n",
       "      <td>33.94</td>\n",
       "      <td>-117.63</td>\n",
       "    </tr>\n",
       "    <tr>\n",
       "      <th>5986</th>\n",
       "      <td>1.8750</td>\n",
       "      <td>52.0</td>\n",
       "      <td>4.500000</td>\n",
       "      <td>1.206349</td>\n",
       "      <td>2688.0</td>\n",
       "      <td>21.333333</td>\n",
       "      <td>34.10</td>\n",
       "      <td>-117.71</td>\n",
       "    </tr>\n",
       "    <tr>\n",
       "      <th>20352</th>\n",
       "      <td>4.0208</td>\n",
       "      <td>8.0</td>\n",
       "      <td>2.500000</td>\n",
       "      <td>0.625000</td>\n",
       "      <td>309.0</td>\n",
       "      <td>19.312500</td>\n",
       "      <td>34.22</td>\n",
       "      <td>-119.09</td>\n",
       "    </tr>\n",
       "    <tr>\n",
       "      <th>14756</th>\n",
       "      <td>2.5625</td>\n",
       "      <td>23.0</td>\n",
       "      <td>4.589091</td>\n",
       "      <td>1.069091</td>\n",
       "      <td>5176.0</td>\n",
       "      <td>18.821818</td>\n",
       "      <td>32.56</td>\n",
       "      <td>-116.97</td>\n",
       "    </tr>\n",
       "    <tr>\n",
       "      <th>4479</th>\n",
       "      <td>3.5769</td>\n",
       "      <td>41.0</td>\n",
       "      <td>4.940000</td>\n",
       "      <td>1.100000</td>\n",
       "      <td>925.0</td>\n",
       "      <td>18.500000</td>\n",
       "      <td>34.07</td>\n",
       "      <td>-118.16</td>\n",
       "    </tr>\n",
       "    <tr>\n",
       "      <th>19435</th>\n",
       "      <td>0.5360</td>\n",
       "      <td>16.0</td>\n",
       "      <td>2.111111</td>\n",
       "      <td>2.111111</td>\n",
       "      <td>166.0</td>\n",
       "      <td>18.444444</td>\n",
       "      <td>37.67</td>\n",
       "      <td>-121.04</td>\n",
       "    </tr>\n",
       "    <tr>\n",
       "      <th>1039</th>\n",
       "      <td>4.3029</td>\n",
       "      <td>16.0</td>\n",
       "      <td>6.090592</td>\n",
       "      <td>1.121951</td>\n",
       "      <td>4930.0</td>\n",
       "      <td>17.177700</td>\n",
       "      <td>38.42</td>\n",
       "      <td>-120.97</td>\n",
       "    </tr>\n",
       "    <tr>\n",
       "      <th>16672</th>\n",
       "      <td>1.6563</td>\n",
       "      <td>16.0</td>\n",
       "      <td>5.125000</td>\n",
       "      <td>0.937500</td>\n",
       "      <td>542.0</td>\n",
       "      <td>16.937500</td>\n",
       "      <td>35.34</td>\n",
       "      <td>-120.69</td>\n",
       "    </tr>\n",
       "    <tr>\n",
       "      <th>19524</th>\n",
       "      <td>0.9573</td>\n",
       "      <td>19.0</td>\n",
       "      <td>2.951220</td>\n",
       "      <td>1.000000</td>\n",
       "      <td>658.0</td>\n",
       "      <td>16.048780</td>\n",
       "      <td>37.64</td>\n",
       "      <td>-121.00</td>\n",
       "    </tr>\n",
       "    <tr>\n",
       "      <th>7164</th>\n",
       "      <td>2.1845</td>\n",
       "      <td>36.0</td>\n",
       "      <td>4.812155</td>\n",
       "      <td>1.110497</td>\n",
       "      <td>2862.0</td>\n",
       "      <td>15.812155</td>\n",
       "      <td>34.06</td>\n",
       "      <td>-118.17</td>\n",
       "    </tr>\n",
       "    <tr>\n",
       "      <th>15790</th>\n",
       "      <td>4.3958</td>\n",
       "      <td>52.0</td>\n",
       "      <td>2.117647</td>\n",
       "      <td>0.926471</td>\n",
       "      <td>1061.0</td>\n",
       "      <td>15.602941</td>\n",
       "      <td>37.77</td>\n",
       "      <td>-122.40</td>\n",
       "    </tr>\n",
       "    <tr>\n",
       "      <th>2511</th>\n",
       "      <td>4.6250</td>\n",
       "      <td>36.0</td>\n",
       "      <td>24.500000</td>\n",
       "      <td>3.500000</td>\n",
       "      <td>28.0</td>\n",
       "      <td>14.000000</td>\n",
       "      <td>36.51</td>\n",
       "      <td>-119.54</td>\n",
       "    </tr>\n",
       "    <tr>\n",
       "      <th>16643</th>\n",
       "      <td>1.0298</td>\n",
       "      <td>20.0</td>\n",
       "      <td>2.398467</td>\n",
       "      <td>0.812261</td>\n",
       "      <td>3574.0</td>\n",
       "      <td>13.693487</td>\n",
       "      <td>35.32</td>\n",
       "      <td>-120.65</td>\n",
       "    </tr>\n",
       "    <tr>\n",
       "      <th>18520</th>\n",
       "      <td>2.4732</td>\n",
       "      <td>14.0</td>\n",
       "      <td>4.445402</td>\n",
       "      <td>1.074713</td>\n",
       "      <td>4731.0</td>\n",
       "      <td>13.594828</td>\n",
       "      <td>37.00</td>\n",
       "      <td>-122.06</td>\n",
       "    </tr>\n",
       "    <tr>\n",
       "      <th>20121</th>\n",
       "      <td>3.1719</td>\n",
       "      <td>8.0</td>\n",
       "      <td>6.979221</td>\n",
       "      <td>1.285714</td>\n",
       "      <td>5087.0</td>\n",
       "      <td>13.212987</td>\n",
       "      <td>37.79</td>\n",
       "      <td>-120.45</td>\n",
       "    </tr>\n",
       "    <tr>\n",
       "      <th>16171</th>\n",
       "      <td>15.0001</td>\n",
       "      <td>52.0</td>\n",
       "      <td>8.000000</td>\n",
       "      <td>1.000000</td>\n",
       "      <td>13.0</td>\n",
       "      <td>13.000000</td>\n",
       "      <td>37.79</td>\n",
       "      <td>-122.50</td>\n",
       "    </tr>\n",
       "    <tr>\n",
       "      <th>16528</th>\n",
       "      <td>3.5365</td>\n",
       "      <td>22.0</td>\n",
       "      <td>5.368201</td>\n",
       "      <td>1.071130</td>\n",
       "      <td>3082.0</td>\n",
       "      <td>12.895397</td>\n",
       "      <td>37.88</td>\n",
       "      <td>-121.17</td>\n",
       "    </tr>\n",
       "    <tr>\n",
       "      <th>2723</th>\n",
       "      <td>3.4107</td>\n",
       "      <td>13.0</td>\n",
       "      <td>5.156250</td>\n",
       "      <td>1.125000</td>\n",
       "      <td>822.0</td>\n",
       "      <td>12.843750</td>\n",
       "      <td>32.75</td>\n",
       "      <td>-115.50</td>\n",
       "    </tr>\n",
       "    <tr>\n",
       "      <th>4861</th>\n",
       "      <td>0.4999</td>\n",
       "      <td>29.0</td>\n",
       "      <td>2.373272</td>\n",
       "      <td>1.055300</td>\n",
       "      <td>2690.0</td>\n",
       "      <td>12.396313</td>\n",
       "      <td>34.02</td>\n",
       "      <td>-118.28</td>\n",
       "    </tr>\n",
       "    <tr>\n",
       "      <th>16594</th>\n",
       "      <td>1.9792</td>\n",
       "      <td>22.0</td>\n",
       "      <td>4.553073</td>\n",
       "      <td>1.128492</td>\n",
       "      <td>4402.0</td>\n",
       "      <td>12.296089</td>\n",
       "      <td>37.72</td>\n",
       "      <td>-121.29</td>\n",
       "    </tr>\n",
       "    <tr>\n",
       "      <th>270</th>\n",
       "      <td>3.8750</td>\n",
       "      <td>33.0</td>\n",
       "      <td>3.021277</td>\n",
       "      <td>0.659574</td>\n",
       "      <td>575.0</td>\n",
       "      <td>12.234043</td>\n",
       "      <td>37.78</td>\n",
       "      <td>-122.18</td>\n",
       "    </tr>\n",
       "    <tr>\n",
       "      <th>1617</th>\n",
       "      <td>11.7064</td>\n",
       "      <td>17.0</td>\n",
       "      <td>9.361702</td>\n",
       "      <td>1.127660</td>\n",
       "      <td>1722.0</td>\n",
       "      <td>12.212766</td>\n",
       "      <td>37.84</td>\n",
       "      <td>-122.08</td>\n",
       "    </tr>\n",
       "    <tr>\n",
       "      <th>5985</th>\n",
       "      <td>2.2813</td>\n",
       "      <td>41.0</td>\n",
       "      <td>4.512195</td>\n",
       "      <td>1.056911</td>\n",
       "      <td>1492.0</td>\n",
       "      <td>12.130081</td>\n",
       "      <td>34.10</td>\n",
       "      <td>-117.71</td>\n",
       "    </tr>\n",
       "    <tr>\n",
       "      <th>12443</th>\n",
       "      <td>1.6250</td>\n",
       "      <td>18.0</td>\n",
       "      <td>6.028269</td>\n",
       "      <td>1.402827</td>\n",
       "      <td>3424.0</td>\n",
       "      <td>12.098940</td>\n",
       "      <td>33.54</td>\n",
       "      <td>-115.22</td>\n",
       "    </tr>\n",
       "    <tr>\n",
       "      <th>2899</th>\n",
       "      <td>1.9125</td>\n",
       "      <td>35.0</td>\n",
       "      <td>2.926829</td>\n",
       "      <td>0.853659</td>\n",
       "      <td>477.0</td>\n",
       "      <td>11.634146</td>\n",
       "      <td>35.37</td>\n",
       "      <td>-119.01</td>\n",
       "    </tr>\n",
       "    <tr>\n",
       "      <th>1067</th>\n",
       "      <td>3.4191</td>\n",
       "      <td>52.0</td>\n",
       "      <td>4.530612</td>\n",
       "      <td>0.816327</td>\n",
       "      <td>1107.0</td>\n",
       "      <td>11.295918</td>\n",
       "      <td>39.73</td>\n",
       "      <td>-121.85</td>\n",
       "    </tr>\n",
       "    <tr>\n",
       "      <th>14804</th>\n",
       "      <td>3.5357</td>\n",
       "      <td>26.0</td>\n",
       "      <td>6.468000</td>\n",
       "      <td>1.116000</td>\n",
       "      <td>2745.0</td>\n",
       "      <td>10.980000</td>\n",
       "      <td>32.63</td>\n",
       "      <td>-117.17</td>\n",
       "    </tr>\n",
       "    <tr>\n",
       "      <th>91</th>\n",
       "      <td>0.8668</td>\n",
       "      <td>52.0</td>\n",
       "      <td>2.443182</td>\n",
       "      <td>0.988636</td>\n",
       "      <td>904.0</td>\n",
       "      <td>10.272727</td>\n",
       "      <td>37.80</td>\n",
       "      <td>-122.28</td>\n",
       "    </tr>\n",
       "    <tr>\n",
       "      <th>17891</th>\n",
       "      <td>3.3750</td>\n",
       "      <td>34.0</td>\n",
       "      <td>11.384615</td>\n",
       "      <td>2.153846</td>\n",
       "      <td>132.0</td>\n",
       "      <td>10.153846</td>\n",
       "      <td>37.40</td>\n",
       "      <td>-121.93</td>\n",
       "    </tr>\n",
       "  </tbody>\n",
       "</table>\n",
       "</div>"
      ],
      "text/plain": [
       "        MedInc  HouseAge   AveRooms  AveBedrms  Population     AveOccup  \\\n",
       "19006  10.2264      45.0   3.166667   0.833333      7460.0  1243.333333   \n",
       "3364    5.5179      36.0   5.142857   1.142857      4198.0   599.714286   \n",
       "16669   4.2639      46.0   9.076923   1.307692      6532.0   502.461538   \n",
       "13034   6.1359      52.0   8.275862   1.517241      6675.0   230.172414   \n",
       "9172    4.2391       5.0   5.123810   0.933333      8733.0    83.171429   \n",
       "12104   1.6250       8.0   7.600000   0.950000      1275.0    63.750000   \n",
       "16420   5.7485      26.0   5.366667   0.900000      1542.0    51.400000   \n",
       "8874    9.3370      52.0   7.285714   1.214286      1154.0    41.214286   \n",
       "13366   4.2578      36.0   5.258824   1.117647      2886.0    33.952941   \n",
       "5986    1.8750      52.0   4.500000   1.206349      2688.0    21.333333   \n",
       "20352   4.0208       8.0   2.500000   0.625000       309.0    19.312500   \n",
       "14756   2.5625      23.0   4.589091   1.069091      5176.0    18.821818   \n",
       "4479    3.5769      41.0   4.940000   1.100000       925.0    18.500000   \n",
       "19435   0.5360      16.0   2.111111   2.111111       166.0    18.444444   \n",
       "1039    4.3029      16.0   6.090592   1.121951      4930.0    17.177700   \n",
       "16672   1.6563      16.0   5.125000   0.937500       542.0    16.937500   \n",
       "19524   0.9573      19.0   2.951220   1.000000       658.0    16.048780   \n",
       "7164    2.1845      36.0   4.812155   1.110497      2862.0    15.812155   \n",
       "15790   4.3958      52.0   2.117647   0.926471      1061.0    15.602941   \n",
       "2511    4.6250      36.0  24.500000   3.500000        28.0    14.000000   \n",
       "16643   1.0298      20.0   2.398467   0.812261      3574.0    13.693487   \n",
       "18520   2.4732      14.0   4.445402   1.074713      4731.0    13.594828   \n",
       "20121   3.1719       8.0   6.979221   1.285714      5087.0    13.212987   \n",
       "16171  15.0001      52.0   8.000000   1.000000        13.0    13.000000   \n",
       "16528   3.5365      22.0   5.368201   1.071130      3082.0    12.895397   \n",
       "2723    3.4107      13.0   5.156250   1.125000       822.0    12.843750   \n",
       "4861    0.4999      29.0   2.373272   1.055300      2690.0    12.396313   \n",
       "16594   1.9792      22.0   4.553073   1.128492      4402.0    12.296089   \n",
       "270     3.8750      33.0   3.021277   0.659574       575.0    12.234043   \n",
       "1617   11.7064      17.0   9.361702   1.127660      1722.0    12.212766   \n",
       "5985    2.2813      41.0   4.512195   1.056911      1492.0    12.130081   \n",
       "12443   1.6250      18.0   6.028269   1.402827      3424.0    12.098940   \n",
       "2899    1.9125      35.0   2.926829   0.853659       477.0    11.634146   \n",
       "1067    3.4191      52.0   4.530612   0.816327      1107.0    11.295918   \n",
       "14804   3.5357      26.0   6.468000   1.116000      2745.0    10.980000   \n",
       "91      0.8668      52.0   2.443182   0.988636       904.0    10.272727   \n",
       "17891   3.3750      34.0  11.384615   2.153846       132.0    10.153846   \n",
       "\n",
       "       Latitude  Longitude  \n",
       "19006     38.32    -121.98  \n",
       "3364      40.41    -120.51  \n",
       "16669     35.32    -120.70  \n",
       "13034     38.69    -121.15  \n",
       "9172      34.47    -118.59  \n",
       "12104     33.97    -117.33  \n",
       "16420     37.89    -121.29  \n",
       "8874      34.06    -118.45  \n",
       "13366     33.94    -117.63  \n",
       "5986      34.10    -117.71  \n",
       "20352     34.22    -119.09  \n",
       "14756     32.56    -116.97  \n",
       "4479      34.07    -118.16  \n",
       "19435     37.67    -121.04  \n",
       "1039      38.42    -120.97  \n",
       "16672     35.34    -120.69  \n",
       "19524     37.64    -121.00  \n",
       "7164      34.06    -118.17  \n",
       "15790     37.77    -122.40  \n",
       "2511      36.51    -119.54  \n",
       "16643     35.32    -120.65  \n",
       "18520     37.00    -122.06  \n",
       "20121     37.79    -120.45  \n",
       "16171     37.79    -122.50  \n",
       "16528     37.88    -121.17  \n",
       "2723      32.75    -115.50  \n",
       "4861      34.02    -118.28  \n",
       "16594     37.72    -121.29  \n",
       "270       37.78    -122.18  \n",
       "1617      37.84    -122.08  \n",
       "5985      34.10    -117.71  \n",
       "12443     33.54    -115.22  \n",
       "2899      35.37    -119.01  \n",
       "1067      39.73    -121.85  \n",
       "14804     32.63    -117.17  \n",
       "91        37.80    -122.28  \n",
       "17891     37.40    -121.93  "
      ]
     },
     "execution_count": 39,
     "metadata": {},
     "output_type": "execute_result"
    }
   ],
   "source": [
    "df[df['AveOccup'] >= 10].sort_values(by='AveOccup', ascending=False)"
   ]
  },
  {
   "cell_type": "markdown",
   "id": "f083e513-8691-4ed6-8be3-b97bcfe18256",
   "metadata": {},
   "source": [
    "Avaliando o Google Maps, vemos que os dados a serem cortados correspondem a prisões."
   ]
  },
  {
   "cell_type": "markdown",
   "id": "236e68d1-34df-4b70-80bb-87da0011277f",
   "metadata": {},
   "source": [
    "Conclusão: \n",
    "- Corta linhas com 'AveOccup' >= 10\n",
    "- Pode ser que valha a pena tirar o *log*"
   ]
  },
  {
   "cell_type": "markdown",
   "id": "aabae12c-e6f4-4e28-902a-ad579a9f9684",
   "metadata": {},
   "source": [
    "## Population"
   ]
  },
  {
   "cell_type": "code",
   "execution_count": 40,
   "id": "ae9d628d-ee18-4cd0-bc1f-fd2221b8fc15",
   "metadata": {},
   "outputs": [
    {
     "data": {
      "text/plain": [
       "count    20640.000000\n",
       "mean      1425.476744\n",
       "std       1132.462122\n",
       "min          3.000000\n",
       "25%        787.000000\n",
       "50%       1166.000000\n",
       "75%       1725.000000\n",
       "max      35682.000000\n",
       "Name: Population, dtype: float64"
      ]
     },
     "execution_count": 40,
     "metadata": {},
     "output_type": "execute_result"
    }
   ],
   "source": [
    "df['Population'].describe()"
   ]
  },
  {
   "cell_type": "code",
   "execution_count": 41,
   "id": "19c00535-a244-4672-b062-90888c5d02aa",
   "metadata": {},
   "outputs": [
    {
     "data": {
      "text/plain": [
       "<AxesSubplot:>"
      ]
     },
     "execution_count": 41,
     "metadata": {},
     "output_type": "execute_result"
    },
    {
     "data": {
      "image/png": "[encoded data removed]",
      "text/plain": [
       "<Figure size 432x288 with 1 Axes>"
      ]
     },
     "metadata": {
      "needs_background": "light"
     },
     "output_type": "display_data"
    }
   ],
   "source": [
    "df['Population'].plot.box()"
   ]
  },
  {
   "cell_type": "code",
   "execution_count": 42,
   "id": "b520cabb-2deb-43d2-8e94-ea60ccf8b89d",
   "metadata": {},
   "outputs": [
    {
     "data": {
      "text/plain": [
       "<AxesSubplot:ylabel='Frequency'>"
      ]
     },
     "execution_count": 42,
     "metadata": {},
     "output_type": "execute_result"
    },
    {
     "data": {
      "image/png": "[encoded data removed]",
      "text/plain": [
       "<Figure size 432x288 with 1 Axes>"
      ]
     },
     "metadata": {
      "needs_background": "light"
     },
     "output_type": "display_data"
    }
   ],
   "source": [
    "df['Population'].apply(np.log10).plot.hist(bins=150)"
   ]
  },
  {
   "cell_type": "markdown",
   "id": "78f6a1bb-48ac-4b32-83fb-0f696b786b66",
   "metadata": {},
   "source": [
    "Conclusão:\n",
    "\n",
    "- Com certeza tirar o *log*\n",
    "- Não tem anomalia, não precisa cortar"
   ]
  },
  {
   "cell_type": "markdown",
   "id": "901d1853-7509-48d9-bfcf-d5598f165340",
   "metadata": {},
   "source": [
    "## Latitude, Longitude\n",
    "Voltamos a isso daqui a pouco"
   ]
  },
  {
   "cell_type": "markdown",
   "id": "7bca24e3-7fb5-449d-a33b-fdb73c18fbf9",
   "metadata": {},
   "source": [
    "## Target"
   ]
  },
  {
   "cell_type": "code",
   "execution_count": 43,
   "id": "2a2a2b77-9f05-4e5e-93f3-91752193249a",
   "metadata": {},
   "outputs": [],
   "source": [
    "target = housing['target'].copy()"
   ]
  },
  {
   "cell_type": "code",
   "execution_count": 44,
   "id": "ee47fcdd-0fae-46c5-bb78-56e72608c074",
   "metadata": {},
   "outputs": [],
   "source": [
    "target = pd.Series(data=target, name='MedHouseVal')"
   ]
  },
  {
   "cell_type": "code",
   "execution_count": 45,
   "id": "2de596ec-ba3f-445d-880d-c8d544856f4b",
   "metadata": {},
   "outputs": [
    {
     "data": {
      "text/plain": [
       "0        4.526\n",
       "1        3.585\n",
       "2        3.521\n",
       "3        3.413\n",
       "4        3.422\n",
       "         ...  \n",
       "20635    0.781\n",
       "20636    0.771\n",
       "20637    0.923\n",
       "20638    0.847\n",
       "20639    0.894\n",
       "Name: MedHouseVal, Length: 20640, dtype: float64"
      ]
     },
     "execution_count": 45,
     "metadata": {},
     "output_type": "execute_result"
    }
   ],
   "source": [
    "target"
   ]
  },
  {
   "cell_type": "code",
   "execution_count": 46,
   "id": "28ced65a-e38a-4e84-b2e4-9c74c75010f7",
   "metadata": {},
   "outputs": [
    {
     "data": {
      "text/plain": [
       "count    20640.000000\n",
       "mean         2.068558\n",
       "std          1.153956\n",
       "min          0.149990\n",
       "25%          1.196000\n",
       "50%          1.797000\n",
       "75%          2.647250\n",
       "max          5.000010\n",
       "Name: MedHouseVal, dtype: float64"
      ]
     },
     "execution_count": 46,
     "metadata": {},
     "output_type": "execute_result"
    }
   ],
   "source": [
    "target.describe()"
   ]
  },
  {
   "cell_type": "code",
   "execution_count": 47,
   "id": "ad4b3268-3c6e-4ad4-bda8-b4f2a3f92a29",
   "metadata": {},
   "outputs": [
    {
     "data": {
      "text/plain": [
       "<AxesSubplot:>"
      ]
     },
     "execution_count": 47,
     "metadata": {},
     "output_type": "execute_result"
    },
    {
     "data": {
      "image/png": "[encoded data removed]",
      "text/plain": [
       "<Figure size 432x288 with 1 Axes>"
      ]
     },
     "metadata": {
      "needs_background": "light"
     },
     "output_type": "display_data"
    }
   ],
   "source": [
    "target.plot.box()"
   ]
  },
  {
   "cell_type": "code",
   "execution_count": 48,
   "id": "791b0ea2-c628-4baf-b084-422845a55d1f",
   "metadata": {},
   "outputs": [
    {
     "data": {
      "text/plain": [
       "<AxesSubplot:ylabel='Frequency'>"
      ]
     },
     "execution_count": 48,
     "metadata": {},
     "output_type": "execute_result"
    },
    {
     "data": {
      "image/png": "[encoded data removed]",
      "text/plain": [
       "<Figure size 432x288 with 1 Axes>"
      ]
     },
     "metadata": {
      "needs_background": "light"
     },
     "output_type": "display_data"
    }
   ],
   "source": [
    "target.plot.hist(bins=150)"
   ]
  },
  {
   "cell_type": "code",
   "execution_count": 49,
   "id": "9a89b509-777a-44b1-b6b9-35c782e6289e",
   "metadata": {},
   "outputs": [
    {
     "data": {
      "text/plain": [
       "<AxesSubplot:ylabel='Frequency'>"
      ]
     },
     "execution_count": 49,
     "metadata": {},
     "output_type": "execute_result"
    },
    {
     "data": {
      "image/png": "[encoded data removed]",
      "text/plain": [
       "<Figure size 432x288 with 1 Axes>"
      ]
     },
     "metadata": {
      "needs_background": "light"
     },
     "output_type": "display_data"
    }
   ],
   "source": [
    "target[target < 5].apply(np.log10).plot.hist(bins=150)"
   ]
  },
  {
   "cell_type": "markdown",
   "id": "a9d1c0b0-aeb1-4eb7-aa99-bf73b5ac422d",
   "metadata": {},
   "source": [
    "Conclusão:\n",
    "\n",
    "- Limitar target em target < 5\n",
    "- aplicar log no target"
   ]
  },
  {
   "cell_type": "markdown",
   "id": "cca82f9b-29d6-44e8-b310-71672744f6f1",
   "metadata": {},
   "source": [
    "## Conclusões finais da análise exploratória"
   ]
  },
  {
   "cell_type": "markdown",
   "id": "a8dc55ed-640b-4fa5-91f7-87f1fb9146b8",
   "metadata": {},
   "source": [
    "Conclusão:\n",
    "\n",
    "- Limitar MedInc < 15\n",
    "- Limitar HouseAge < 52\n",
    "- Limitar AveRooms < 10\n",
    "- Limitar AveBedrms < 2\n",
    "- Limitar AveOccup < 10\n",
    "- Limitar target < 5\n",
    "- Aplicar *log* no Population, MedInc, AveOccup"
   ]
  },
  {
   "cell_type": "markdown",
   "id": "85f60a4b-6cac-4bcf-ae25-850de1e7820f",
   "metadata": {},
   "source": [
    "# Preprocessamento"
   ]
  },
  {
   "cell_type": "code",
   "execution_count": 50,
   "id": "51930620-ab7f-483f-adde-676f5f8e349e",
   "metadata": {},
   "outputs": [],
   "source": [
    "idx = (df['MedInc'] < 15) \\\n",
    "    & (df['HouseAge'] < 52) \\\n",
    "    & (df['AveRooms'] < 10) \\\n",
    "    & (df['AveBedrms'] < 2) \\\n",
    "    & (df['AveOccup'] < 10) \\\n",
    "    & (target < 5)"
   ]
  },
  {
   "cell_type": "code",
   "execution_count": 51,
   "id": "b883ba40-c424-4de1-80d5-3d5786f175ee",
   "metadata": {},
   "outputs": [],
   "source": [
    "df_filtered = df[idx].copy()\n",
    "target = target[idx].copy()"
   ]
  },
  {
   "cell_type": "code",
   "execution_count": 52,
   "id": "42842673-79ca-45ac-8954-aa1e74cc16d3",
   "metadata": {},
   "outputs": [
    {
     "name": "stdout",
     "output_type": "stream",
     "text": [
      "<class 'pandas.core.frame.DataFrame'>\n",
      "Int64Index: 18269 entries, 0 to 20639\n",
      "Data columns (total 8 columns):\n",
      " #   Column      Non-Null Count  Dtype  \n",
      "---  ------      --------------  -----  \n",
      " 0   MedInc      18269 non-null  float64\n",
      " 1   HouseAge    18269 non-null  float64\n",
      " 2   AveRooms    18269 non-null  float64\n",
      " 3   AveBedrms   18269 non-null  float64\n",
      " 4   Population  18269 non-null  float64\n",
      " 5   AveOccup    18269 non-null  float64\n",
      " 6   Latitude    18269 non-null  float64\n",
      " 7   Longitude   18269 non-null  float64\n",
      "dtypes: float64(8)\n",
      "memory usage: 1.3 MB\n"
     ]
    }
   ],
   "source": [
    "df_filtered.info()"
   ]
  },
  {
   "cell_type": "code",
   "execution_count": 53,
   "id": "661fe8bf-c472-477a-ae17-1565327cc643",
   "metadata": {},
   "outputs": [],
   "source": [
    "df_filtered['MedInc'] = df_filtered['MedInc'].apply(np.log10)\n",
    "df_filtered['AveOccup'] = df_filtered['AveOccup'].apply(np.log10)\n",
    "df_filtered['Population'] = df_filtered['Population'].apply(np.log10)"
   ]
  },
  {
   "cell_type": "code",
   "execution_count": 54,
   "id": "44a182ba-3499-4e57-aa15-383bfb90dfe2",
   "metadata": {},
   "outputs": [
    {
     "data": {
      "image/png": "[encoded data removed]",
      "text/plain": [
       "<Figure size 1080x1080 with 9 Axes>"
      ]
     },
     "metadata": {
      "needs_background": "light"
     },
     "output_type": "display_data"
    }
   ],
   "source": [
    "df_filtered.hist(figsize=(15, 15), bins=150);"
   ]
  },
  {
   "cell_type": "code",
   "execution_count": 55,
   "id": "7ed5d274-9a2e-4d10-b585-defb084715a8",
   "metadata": {},
   "outputs": [],
   "source": [
    "target = target.apply(np.log10)"
   ]
  },
  {
   "cell_type": "code",
   "execution_count": 56,
   "id": "da930b06-2f4d-4cee-a4df-c2ba6c0f2bcb",
   "metadata": {},
   "outputs": [
    {
     "data": {
      "text/plain": [
       "<AxesSubplot:ylabel='Frequency'>"
      ]
     },
     "execution_count": 56,
     "metadata": {},
     "output_type": "execute_result"
    },
    {
     "data": {
      "image/png": "[encoded data removed]",
      "text/plain": [
       "<Figure size 432x288 with 1 Axes>"
      ]
     },
     "metadata": {
      "needs_background": "light"
     },
     "output_type": "display_data"
    }
   ],
   "source": [
    "target.plot.hist(bins=150)"
   ]
  },
  {
   "cell_type": "markdown",
   "id": "4ad94c46-d297-44fa-8715-eef85bddab72",
   "metadata": {},
   "source": [
    "# Modelos"
   ]
  },
  {
   "cell_type": "markdown",
   "id": "af4a1050-3697-489f-ab51-b57f9365a225",
   "metadata": {},
   "source": [
    "## Separação treinamento-validação-teste"
   ]
  },
  {
   "cell_type": "code",
   "execution_count": 57,
   "id": "20e40c6e-f01a-4613-8269-16c9f7392f59",
   "metadata": {},
   "outputs": [],
   "source": [
    "from sklearn.model_selection import train_test_split"
   ]
  },
  {
   "cell_type": "code",
   "execution_count": 58,
   "id": "a3861bfb-089a-44ad-8827-04a399750632",
   "metadata": {},
   "outputs": [
    {
     "data": {
      "text/plain": [
       "(18269, 8)"
      ]
     },
     "execution_count": 58,
     "metadata": {},
     "output_type": "execute_result"
    }
   ],
   "source": [
    "X = df_filtered\n",
    "X.shape"
   ]
  },
  {
   "cell_type": "code",
   "execution_count": 59,
   "id": "df96b492-7e52-4162-881c-a04a6c30dd2e",
   "metadata": {},
   "outputs": [
    {
     "data": {
      "text/plain": [
       "(18269,)"
      ]
     },
     "execution_count": 59,
     "metadata": {},
     "output_type": "execute_result"
    }
   ],
   "source": [
    "y = target\n",
    "y.shape"
   ]
  },
  {
   "cell_type": "code",
   "execution_count": 60,
   "id": "2c902f39-4b6a-4154-acb2-eb0f75128ee4",
   "metadata": {},
   "outputs": [],
   "source": [
    "RANDOM_SEED = 42"
   ]
  },
  {
   "cell_type": "code",
   "execution_count": 61,
   "id": "12a10aa2-31b2-4b60-9c0d-7db97cd08a48",
   "metadata": {},
   "outputs": [],
   "source": [
    "X_train_val, X_test, y_train_val, y_test = train_test_split(\n",
    "    X, y, test_size=0.20, random_state=RANDOM_SEED)"
   ]
  },
  {
   "cell_type": "code",
   "execution_count": 62,
   "id": "6f35c7f3-a169-43dc-8d61-b9696ac5f676",
   "metadata": {},
   "outputs": [],
   "source": [
    "X_train, X_val, y_train, y_val = train_test_split(X_train_val,\n",
    "                                                  y_train_val,\n",
    "                                                  test_size=0.25,\n",
    "                                                  random_state=RANDOM_SEED)"
   ]
  },
  {
   "cell_type": "markdown",
   "id": "c198e77c-cf28-4364-b7c4-5524b29e743c",
   "metadata": {},
   "source": [
    "## Baseline: regressão linear simples"
   ]
  },
  {
   "cell_type": "code",
   "execution_count": 63,
   "id": "c97b74b0-0977-4d8e-95cc-ce551b774e33",
   "metadata": {},
   "outputs": [],
   "source": [
    "from sklearn.linear_model import LinearRegression\n",
    "\n",
    "model = LinearRegression()\n",
    "\n",
    "model.fit(X_train, y_train)\n",
    "y_pred = model.predict(X_val)"
   ]
  },
  {
   "cell_type": "code",
   "execution_count": 64,
   "id": "169d2513-fc7e-4059-9047-12afffc6901a",
   "metadata": {},
   "outputs": [],
   "source": [
    "import matplotlib.pyplot as plt"
   ]
  },
  {
   "cell_type": "code",
   "execution_count": 65,
   "id": "213a820c-cc72-40e9-8c13-9b7bb5ddde11",
   "metadata": {},
   "outputs": [
    {
     "data": {
      "text/plain": [
       "[<matplotlib.lines.Line2D at 0x7f0d487f3b20>]"
      ]
     },
     "execution_count": 65,
     "metadata": {},
     "output_type": "execute_result"
    },
    {
     "data": {
      "image/png": "[encoded data removed]",
      "text/plain": [
       "<Figure size 432x288 with 1 Axes>"
      ]
     },
     "metadata": {
      "needs_background": "light"
     },
     "output_type": "display_data"
    }
   ],
   "source": [
    "plt.plot(y_val, y_pred, 'b.', alpha=0.1)"
   ]
  },
  {
   "cell_type": "code",
   "execution_count": 66,
   "id": "09fdcef1-8d33-4b9e-b401-072039b50cbf",
   "metadata": {},
   "outputs": [
    {
     "data": {
      "text/plain": [
       "[<matplotlib.lines.Line2D at 0x7f0d488801c0>]"
      ]
     },
     "execution_count": 66,
     "metadata": {},
     "output_type": "execute_result"
    },
    {
     "data": {
      "image/png": "[encoded data removed]",
      "text/plain": [
       "<Figure size 432x288 with 1 Axes>"
      ]
     },
     "metadata": {
      "needs_background": "light"
     },
     "output_type": "display_data"
    }
   ],
   "source": [
    "plt.plot(y_val, y_pred - y_val, 'b.', alpha=0.1)"
   ]
  },
  {
   "cell_type": "code",
   "execution_count": 67,
   "id": "d5bbb1b8-822b-4cc7-a801-5ecc5ff80ae8",
   "metadata": {},
   "outputs": [],
   "source": [
    "from sklearn.metrics import mean_squared_error"
   ]
  },
  {
   "cell_type": "code",
   "execution_count": 68,
   "id": "f70de197-8bee-4e3c-9beb-b53c89a910c4",
   "metadata": {},
   "outputs": [],
   "source": [
    "erro_percentual = 100 * (10**np.sqrt(mean_squared_error(y_val, y_pred)) - 1)"
   ]
  },
  {
   "cell_type": "code",
   "execution_count": 69,
   "id": "62a12b09-71a2-4093-86b9-5685a21e5c76",
   "metadata": {},
   "outputs": [
    {
     "name": "stdout",
     "output_type": "stream",
     "text": [
      "erro = 36.2050126390016 %\n"
     ]
    }
   ],
   "source": [
    "print(f'erro = {erro_percentual} %')"
   ]
  },
  {
   "cell_type": "code",
   "execution_count": 70,
   "id": "0ad5e37c-3ae3-4f43-9d3d-1ab07d143a6f",
   "metadata": {},
   "outputs": [],
   "source": [
    "from sklearn.svm import SVR\n",
    "\n",
    "model = SVR(gamma=0.01, C=1e3, cache_size=1000)\n",
    "\n",
    "model.fit(X_train, y_train)\n",
    "y_pred = model.predict(X_val)"
   ]
  },
  {
   "cell_type": "code",
   "execution_count": 71,
   "id": "c4176e93-ad8c-4eb8-8aa8-d2a1360a4612",
   "metadata": {},
   "outputs": [
    {
     "data": {
      "text/plain": [
       "[<matplotlib.lines.Line2D at 0x7f0d45ee89d0>]"
      ]
     },
     "execution_count": 71,
     "metadata": {},
     "output_type": "execute_result"
    },
    {
     "data": {
      "image/png": "[encoded data removed]",
      "text/plain": [
       "<Figure size 432x288 with 1 Axes>"
      ]
     },
     "metadata": {
      "needs_background": "light"
     },
     "output_type": "display_data"
    }
   ],
   "source": [
    "plt.plot(y_val, y_pred, 'b.', alpha=0.1)"
   ]
  },
  {
   "cell_type": "code",
   "execution_count": 72,
   "id": "b8983b3b-b0cd-44b0-b1dc-4eb1387c7e7a",
   "metadata": {},
   "outputs": [
    {
     "data": {
      "text/plain": [
       "[<matplotlib.lines.Line2D at 0x7f0d494a49d0>]"
      ]
     },
     "execution_count": 72,
     "metadata": {},
     "output_type": "execute_result"
    },
    {
     "data": {
      "image/png": "[encoded data removed]",
      "text/plain": [
       "<Figure size 432x288 with 1 Axes>"
      ]
     },
     "metadata": {
      "needs_background": "light"
     },
     "output_type": "display_data"
    }
   ],
   "source": [
    "plt.plot(y_val, y_pred - y_val, 'b.', alpha=0.1)"
   ]
  },
  {
   "cell_type": "code",
   "execution_count": 73,
   "id": "231c5887-6f06-494e-b887-18613ec1b981",
   "metadata": {},
   "outputs": [],
   "source": [
    "erro_percentual = 100 * (10**np.sqrt(mean_squared_error(y_val, y_pred)) - 1)"
   ]
  },
  {
   "cell_type": "code",
   "execution_count": 74,
   "id": "0b5a3659-f71e-45ba-94f2-3393620a30a0",
   "metadata": {},
   "outputs": [
    {
     "name": "stdout",
     "output_type": "stream",
     "text": [
      "erro = 29.034116047904558 %\n"
     ]
    }
   ],
   "source": [
    "print(f'erro = {erro_percentual} %')"
   ]
  },
  {
   "cell_type": "code",
   "execution_count": null,
   "id": "cc0455b2-c3a0-4a60-bc56-4dbdd336a208",
   "metadata": {},
   "outputs": [],
   "source": []
  }
 ],
 "metadata": {
  "kernelspec": {
   "display_name": "Python 3 (ipykernel)",
   "language": "python",
   "name": "python3"
  },
  "language_info": {
   "codemirror_mode": {
    "name": "ipython",
    "version": 3
   },
   "file_extension": ".py",
   "mimetype": "text/x-python",
   "name": "python",
   "nbconvert_exporter": "python",
   "pygments_lexer": "ipython3",
   "version": "3.10.4"
  }
 },
 "nbformat": 4,
 "nbformat_minor": 5
}
